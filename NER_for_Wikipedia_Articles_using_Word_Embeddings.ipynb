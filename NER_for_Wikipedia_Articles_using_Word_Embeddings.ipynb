{
  "nbformat": 4,
  "nbformat_minor": 0,
  "metadata": {
    "kernelspec": {
      "display_name": "Python 3",
      "language": "python",
      "name": "python3"
    },
    "language_info": {
      "codemirror_mode": {
        "name": "ipython",
        "version": 3
      },
      "file_extension": ".py",
      "mimetype": "text/x-python",
      "name": "python",
      "nbconvert_exporter": "python",
      "pygments_lexer": "ipython3",
      "version": "3.6.12"
    },
    "colab": {
      "name": "NER for Wikipedia Articles using Word Embeddings.ipynb",
      "provenance": [],
      "collapsed_sections": []
    },
    "accelerator": "GPU"
  },
  "cells": [
    {
      "cell_type": "markdown",
      "metadata": {
        "id": "p3cN-Pr75xt1"
      },
      "source": [
        "** NAMED ENTITY RECOGNITION FOR WIKIPEDIA ARTCICLES USING WORD EMBEDDINTGS**"
      ]
    },
    {
      "cell_type": "markdown",
      "metadata": {
        "id": "h3hpzCQj6CV-"
      },
      "source": [
        "# Importing Libraries"
      ]
    },
    {
      "cell_type": "code",
      "metadata": {
        "colab": {
          "base_uri": "https://localhost:8080/"
        },
        "id": "4nQFLwCUyuJp",
        "outputId": "54bde9d0-dcf2-4b1a-a2ed-fbbe69f2bbe8"
      },
      "source": [
        "%matplotlib inline\n",
        "import matplotlib.pyplot as plt\n",
        "import pandas as pd\n",
        "\n",
        "import numpy as np\n",
        "np.random.seed(0)\n",
        "plt.style.use(\"ggplot\")\n",
        "\n",
        "import tensorflow as tf\n",
        "print('Tensorflow version:', tf.__version__)\n",
        "print('GPU detected:', tf.config.list_physical_devices('GPU'))"
      ],
      "execution_count": null,
      "outputs": [
        {
          "output_type": "stream",
          "text": [
            "Tensorflow version: 2.4.1\n",
            "GPU detected: [PhysicalDevice(name='/physical_device:GPU:0', device_type='GPU')]\n"
          ],
          "name": "stdout"
        }
      ]
    },
    {
      "cell_type": "markdown",
      "metadata": {
        "id": "ZXvKPVZP6F6O"
      },
      "source": [
        "# Reading Wikipedia Dataset"
      ]
    },
    {
      "cell_type": "code",
      "metadata": {
        "colab": {
          "base_uri": "https://localhost:8080/",
          "height": 669
        },
        "id": "GhOyGn17yuJw",
        "outputId": "6bb50904-a449-41d2-a145-908b601463e4"
      },
      "source": [
        "data = pd.read_csv(\"DataSet.csv\", encoding=\"latin1\")\n",
        "data = data.fillna(method=\"ffill\")\n",
        "data.head(20)"
      ],
      "execution_count": null,
      "outputs": [
        {
          "output_type": "execute_result",
          "data": {
            "text/html": [
              "<div>\n",
              "<style scoped>\n",
              "    .dataframe tbody tr th:only-of-type {\n",
              "        vertical-align: middle;\n",
              "    }\n",
              "\n",
              "    .dataframe tbody tr th {\n",
              "        vertical-align: top;\n",
              "    }\n",
              "\n",
              "    .dataframe thead th {\n",
              "        text-align: right;\n",
              "    }\n",
              "</style>\n",
              "<table border=\"1\" class=\"dataframe\">\n",
              "  <thead>\n",
              "    <tr style=\"text-align: right;\">\n",
              "      <th></th>\n",
              "      <th>Sentence #</th>\n",
              "      <th>Word</th>\n",
              "      <th>POS</th>\n",
              "      <th>Tag</th>\n",
              "    </tr>\n",
              "  </thead>\n",
              "  <tbody>\n",
              "    <tr>\n",
              "      <th>0</th>\n",
              "      <td>Sentence: 1</td>\n",
              "      <td>AajTak</td>\n",
              "      <td>NNP</td>\n",
              "      <td>Org</td>\n",
              "    </tr>\n",
              "    <tr>\n",
              "      <th>1</th>\n",
              "      <td>Sentence: 1</td>\n",
              "      <td>is</td>\n",
              "      <td>VBZ</td>\n",
              "      <td>O</td>\n",
              "    </tr>\n",
              "    <tr>\n",
              "      <th>2</th>\n",
              "      <td>Sentence: 1</td>\n",
              "      <td>an</td>\n",
              "      <td>DT</td>\n",
              "      <td>O</td>\n",
              "    </tr>\n",
              "    <tr>\n",
              "      <th>3</th>\n",
              "      <td>Sentence: 1</td>\n",
              "      <td>Indian</td>\n",
              "      <td>JJ</td>\n",
              "      <td>Misc</td>\n",
              "    </tr>\n",
              "    <tr>\n",
              "      <th>4</th>\n",
              "      <td>Sentence: 1</td>\n",
              "      <td>Hindi</td>\n",
              "      <td>NNP</td>\n",
              "      <td>Misc</td>\n",
              "    </tr>\n",
              "    <tr>\n",
              "      <th>5</th>\n",
              "      <td>Sentence: 1</td>\n",
              "      <td>language</td>\n",
              "      <td>NN</td>\n",
              "      <td>O</td>\n",
              "    </tr>\n",
              "    <tr>\n",
              "      <th>6</th>\n",
              "      <td>Sentence: 1</td>\n",
              "      <td>news</td>\n",
              "      <td>NN</td>\n",
              "      <td>O</td>\n",
              "    </tr>\n",
              "    <tr>\n",
              "      <th>7</th>\n",
              "      <td>Sentence: 1</td>\n",
              "      <td>channel</td>\n",
              "      <td>NNS</td>\n",
              "      <td>O</td>\n",
              "    </tr>\n",
              "    <tr>\n",
              "      <th>8</th>\n",
              "      <td>Sentence: 1</td>\n",
              "      <td>owned</td>\n",
              "      <td>VBN</td>\n",
              "      <td>O</td>\n",
              "    </tr>\n",
              "    <tr>\n",
              "      <th>9</th>\n",
              "      <td>Sentence: 1</td>\n",
              "      <td>by</td>\n",
              "      <td>IN</td>\n",
              "      <td>O</td>\n",
              "    </tr>\n",
              "    <tr>\n",
              "      <th>10</th>\n",
              "      <td>Sentence: 1</td>\n",
              "      <td>Living</td>\n",
              "      <td>VBG</td>\n",
              "      <td>Org</td>\n",
              "    </tr>\n",
              "    <tr>\n",
              "      <th>11</th>\n",
              "      <td>Sentence: 1</td>\n",
              "      <td>Media</td>\n",
              "      <td>NNP</td>\n",
              "      <td>Org</td>\n",
              "    </tr>\n",
              "    <tr>\n",
              "      <th>12</th>\n",
              "      <td>Sentence: 1</td>\n",
              "      <td>Group</td>\n",
              "      <td>NNP</td>\n",
              "      <td>Org</td>\n",
              "    </tr>\n",
              "    <tr>\n",
              "      <th>13</th>\n",
              "      <td>Sentence: 1</td>\n",
              "      <td>.</td>\n",
              "      <td>.</td>\n",
              "      <td>O</td>\n",
              "    </tr>\n",
              "    <tr>\n",
              "      <th>14</th>\n",
              "      <td>Sentence: 2</td>\n",
              "      <td>On</td>\n",
              "      <td>IN</td>\n",
              "      <td>O</td>\n",
              "    </tr>\n",
              "    <tr>\n",
              "      <th>15</th>\n",
              "      <td>Sentence: 2</td>\n",
              "      <td>December</td>\n",
              "      <td>NNP</td>\n",
              "      <td>O</td>\n",
              "    </tr>\n",
              "    <tr>\n",
              "      <th>16</th>\n",
              "      <td>Sentence: 2</td>\n",
              "      <td>14</td>\n",
              "      <td>CD</td>\n",
              "      <td>O</td>\n",
              "    </tr>\n",
              "    <tr>\n",
              "      <th>17</th>\n",
              "      <td>Sentence: 2</td>\n",
              "      <td>,</td>\n",
              "      <td>,</td>\n",
              "      <td>O</td>\n",
              "    </tr>\n",
              "    <tr>\n",
              "      <th>18</th>\n",
              "      <td>Sentence: 2</td>\n",
              "      <td>2018</td>\n",
              "      <td>CD</td>\n",
              "      <td>O</td>\n",
              "    </tr>\n",
              "    <tr>\n",
              "      <th>19</th>\n",
              "      <td>Sentence: 2</td>\n",
              "      <td>,</td>\n",
              "      <td>,</td>\n",
              "      <td>O</td>\n",
              "    </tr>\n",
              "  </tbody>\n",
              "</table>\n",
              "</div>"
            ],
            "text/plain": [
              "     Sentence #      Word  POS   Tag\n",
              "0   Sentence: 1    AajTak  NNP   Org\n",
              "1   Sentence: 1        is  VBZ     O\n",
              "2   Sentence: 1        an   DT     O\n",
              "3   Sentence: 1    Indian   JJ  Misc\n",
              "4   Sentence: 1     Hindi  NNP  Misc\n",
              "5   Sentence: 1  language   NN     O\n",
              "6   Sentence: 1      news   NN     O\n",
              "7   Sentence: 1   channel  NNS     O\n",
              "8   Sentence: 1     owned  VBN     O\n",
              "9   Sentence: 1        by   IN     O\n",
              "10  Sentence: 1    Living  VBG   Org\n",
              "11  Sentence: 1     Media  NNP   Org\n",
              "12  Sentence: 1     Group  NNP   Org\n",
              "13  Sentence: 1         .    .     O\n",
              "14  Sentence: 2        On   IN     O\n",
              "15  Sentence: 2  December  NNP     O\n",
              "16  Sentence: 2        14   CD     O\n",
              "17  Sentence: 2         ,    ,     O\n",
              "18  Sentence: 2      2018   CD     O\n",
              "19  Sentence: 2         ,    ,     O"
            ]
          },
          "metadata": {
            "tags": []
          },
          "execution_count": 2
        }
      ]
    },
    {
      "cell_type": "markdown",
      "metadata": {
        "id": "jkKt6bDm6OVW"
      },
      "source": [
        "# Preprocessing of Data"
      ]
    },
    {
      "cell_type": "markdown",
      "metadata": {
        "id": "Ti7X9qBO6b62"
      },
      "source": [
        "Length of words in a dataset"
      ]
    },
    {
      "cell_type": "code",
      "metadata": {
        "colab": {
          "base_uri": "https://localhost:8080/"
        },
        "id": "6hj_nj-WyuJx",
        "outputId": "8206dd7e-5d60-4851-8f3f-899131aea3d4"
      },
      "source": [
        "len(data)"
      ],
      "execution_count": null,
      "outputs": [
        {
          "output_type": "execute_result",
          "data": {
            "text/plain": [
              "70418"
            ]
          },
          "metadata": {
            "tags": []
          },
          "execution_count": 3
        }
      ]
    },
    {
      "cell_type": "markdown",
      "metadata": {
        "id": "LuYtO20v6dEO"
      },
      "source": [
        "Creating the list of unique words"
      ]
    },
    {
      "cell_type": "code",
      "metadata": {
        "colab": {
          "base_uri": "https://localhost:8080/"
        },
        "id": "JcLOYFzCyuJx",
        "outputId": "f907a237-34c5-41f8-ecb8-fdf44f65387a"
      },
      "source": [
        "words = list(set(data[\"Word\"].values))\n",
        "n_words = len(words); n_words"
      ],
      "execution_count": null,
      "outputs": [
        {
          "output_type": "execute_result",
          "data": {
            "text/plain": [
              "9360"
            ]
          },
          "metadata": {
            "tags": []
          },
          "execution_count": 4
        }
      ]
    },
    {
      "cell_type": "markdown",
      "metadata": {
        "id": "dEF_AwOu6ixO"
      },
      "source": [
        "Creating the list of unique tags"
      ]
    },
    {
      "cell_type": "code",
      "metadata": {
        "colab": {
          "base_uri": "https://localhost:8080/"
        },
        "id": "NW6i1lk-yuJx",
        "outputId": "b274c91b-1857-4048-8095-bdd2d13b2bd9"
      },
      "source": [
        "tags = list(set(data[\"Tag\"].values))\n",
        "n_tags = len(tags); n_tags"
      ],
      "execution_count": null,
      "outputs": [
        {
          "output_type": "execute_result",
          "data": {
            "text/plain": [
              "5"
            ]
          },
          "metadata": {
            "tags": []
          },
          "execution_count": 5
        }
      ]
    },
    {
      "cell_type": "markdown",
      "metadata": {
        "id": "yRf-wFhY7NI7"
      },
      "source": [
        "Converting the dataframe into list of tuples "
      ]
    },
    {
      "cell_type": "code",
      "metadata": {
        "id": "lg565gqQyuJy"
      },
      "source": [
        "class SentenceGetter(object):\n",
        "    \n",
        "    def __init__(self, data):\n",
        "        self.n_sent = 1\n",
        "        self.data = data\n",
        "        self.empty = False\n",
        "        agg_func = lambda s: [(w, p, t) for w, p, t in zip(s[\"Word\"].values.tolist(),\n",
        "                                                           s[\"POS\"].values.tolist(),\n",
        "                                                           s[\"Tag\"].values.tolist())]\n",
        "        self.grouped = self.data.groupby(\"Sentence #\").apply(agg_func)\n",
        "        self.sentences = [s for s in self.grouped]\n",
        "    \n",
        "    def get_next(self):\n",
        "        try:\n",
        "            s = self.grouped[\"Sentence: {}\".format(self.n_sent)]\n",
        "            self.n_sent += 1\n",
        "            return s\n",
        "        except:\n",
        "            return None"
      ],
      "execution_count": null,
      "outputs": []
    },
    {
      "cell_type": "code",
      "metadata": {
        "id": "xch4f-FRyuJy"
      },
      "source": [
        "getter = SentenceGetter(data)\n",
        "sentences = getter.sentences"
      ],
      "execution_count": null,
      "outputs": []
    },
    {
      "cell_type": "markdown",
      "metadata": {
        "id": "aARibLJu7Ox3"
      },
      "source": [
        "Creating the word2idx, idx2word,tag2idx and idx2tag to map the every  unique word to an index and to map every unique tag to an index vice versa"
      ]
    },
    {
      "cell_type": "code",
      "metadata": {
        "id": "XK1taLQfyuJz"
      },
      "source": [
        "word2idx = {w: i + 2 for i, w in enumerate(words)}\n",
        "word2idx[\"UNK\"] = 1\n",
        "word2idx[\"PAD\"] = 0\n",
        "idx2word = {i: w for w, i in word2idx.items()}\n",
        "tag2idx = {t: i + 1 for i, t in enumerate(tags)}\n",
        "tag2idx[\"PAD\"] = 0\n",
        "idx2tag = {i: w for w, i in tag2idx.items()}"
      ],
      "execution_count": null,
      "outputs": []
    },
    {
      "cell_type": "markdown",
      "metadata": {
        "id": "xYbtpPUy7YVp"
      },
      "source": [
        "Creating the list of unique characters"
      ]
    },
    {
      "cell_type": "code",
      "metadata": {
        "colab": {
          "base_uri": "https://localhost:8080/"
        },
        "id": "RDgAmwWkyuJz",
        "outputId": "701f7d94-d055-499a-bbcd-806fa848b972"
      },
      "source": [
        "chars = set([w_i for w in words for w_i in w])\n",
        "n_chars = len(chars)\n",
        "print(n_chars)"
      ],
      "execution_count": null,
      "outputs": [
        {
          "output_type": "stream",
          "text": [
            "88\n"
          ],
          "name": "stdout"
        }
      ]
    },
    {
      "cell_type": "markdown",
      "metadata": {
        "id": "cqJ7w-Hm7eIS"
      },
      "source": [
        "Creating the char2idx to map every unique character to index"
      ]
    },
    {
      "cell_type": "code",
      "metadata": {
        "id": "omzHavG5yuJz"
      },
      "source": [
        "char2idx = {c: i + 2 for i, c in enumerate(chars)}\n",
        "char2idx[\"UNK\"] = 1\n",
        "char2idx[\"PAD\"] = 0"
      ],
      "execution_count": null,
      "outputs": []
    },
    {
      "cell_type": "markdown",
      "metadata": {
        "id": "barIpH9D7hmJ"
      },
      "source": [
        "Plotting the lengths of words in a sentence"
      ]
    },
    {
      "cell_type": "code",
      "metadata": {
        "colab": {
          "base_uri": "https://localhost:8080/",
          "height": 265
        },
        "id": "aZAKkX3tyuJz",
        "outputId": "ada3429f-8bad-45a4-da47-14a0e4297afe"
      },
      "source": [
        "plt.hist([len(w) for w in words],bins=30)\n",
        "plt.show()"
      ],
      "execution_count": null,
      "outputs": [
        {
          "output_type": "display_data",
          "data": {
            "image/png": "[encoded data removed]",
            "text/plain": [
              "<Figure size 432x288 with 1 Axes>"
            ]
          },
          "metadata": {
            "tags": []
          }
        }
      ]
    },
    {
      "cell_type": "markdown",
      "metadata": {
        "id": "MH801dHP7pMT"
      },
      "source": [
        "Plotting the lengths of sentences in a dataset"
      ]
    },
    {
      "cell_type": "code",
      "metadata": {
        "colab": {
          "base_uri": "https://localhost:8080/",
          "height": 265
        },
        "id": "P1S-AM20yuJ0",
        "outputId": "b8130c5d-7d0d-4912-89e3-7445d20902b6"
      },
      "source": [
        "plt.hist([len(s) for s in sentences], bins=50)\n",
        "plt.show()"
      ],
      "execution_count": null,
      "outputs": [
        {
          "output_type": "display_data",
          "data": {
            "image/png": "[encoded data removed]",
            "text/plain": [
              "<Figure size 432x288 with 1 Axes>"
            ]
          },
          "metadata": {
            "tags": []
          }
        }
      ]
    },
    {
      "cell_type": "markdown",
      "metadata": {
        "id": "P812AA9W7tKA"
      },
      "source": [
        "Taking maximum length of sentencs and words for padding"
      ]
    },
    {
      "cell_type": "code",
      "metadata": {
        "id": "86IA-TLKyuJ0"
      },
      "source": [
        "max_len = 80\n",
        "max_len_char = 20"
      ],
      "execution_count": null,
      "outputs": []
    },
    {
      "cell_type": "markdown",
      "metadata": {
        "id": "3nu_t9Yc7yKw"
      },
      "source": [
        "Creating the 2-D list of words converted to their indexes as X_word and tags as y with padding "
      ]
    },
    {
      "cell_type": "code",
      "metadata": {
        "id": "f79CnNO_yuJ0"
      },
      "source": [
        "from keras.preprocessing.sequence import pad_sequences\n",
        "\n",
        "X_word = [[word2idx[w[0]] for w in s] for s in sentences]\n",
        "X_word = pad_sequences(maxlen=max_len, sequences=X_word, value=word2idx[\"PAD\"], padding='post', truncating='post')\n",
        "\n",
        "y = [[tag2idx[w[2]] for w in s] for s in sentences]\n",
        "y = pad_sequences(maxlen=max_len, sequences=y, value=tag2idx[\"PAD\"], padding='post', truncating='post')"
      ],
      "execution_count": null,
      "outputs": []
    },
    {
      "cell_type": "markdown",
      "metadata": {
        "id": "Wivk8aIh8OFS"
      },
      "source": [
        "Splitting the dataset into training, validation and test set"
      ]
    },
    {
      "cell_type": "code",
      "metadata": {
        "id": "k8O0apuiyuJ1"
      },
      "source": [
        "from sklearn.model_selection import train_test_split\n",
        "\n",
        "X_word_d,X_test,y_word_d,y_test =train_test_split(X_word,y,test_size=1/6,shuffle=False)"
      ],
      "execution_count": null,
      "outputs": []
    },
    {
      "cell_type": "code",
      "metadata": {
        "id": "r4KgDNGeyuJ1"
      },
      "source": [
        "X_word_train, X_word_val, y_train, y_val = train_test_split(X_word_d, y_word_d, test_size=0.2,shuffle=False)"
      ],
      "execution_count": null,
      "outputs": []
    },
    {
      "cell_type": "markdown",
      "metadata": {
        "id": "dUkTAlrU8WOc"
      },
      "source": [
        "#Training"
      ]
    },
    {
      "cell_type": "markdown",
      "metadata": {
        "id": "kvcH4dQA8S9q"
      },
      "source": [
        "Importing the model layers "
      ]
    },
    {
      "cell_type": "code",
      "metadata": {
        "id": "dZ9ZkEdhyuJ1"
      },
      "source": [
        "from keras.models import Model, Input\n",
        "from keras.layers import LSTM, Embedding, Dense, TimeDistributed, Dropout, Conv1D\n",
        "from keras.layers import Bidirectional, concatenate, SpatialDropout1D, GlobalMaxPooling1D"
      ],
      "execution_count": null,
      "outputs": []
    },
    {
      "cell_type": "markdown",
      "metadata": {
        "id": "3T6QLPu08hfV"
      },
      "source": [
        "Arctitecture of model"
      ]
    },
    {
      "cell_type": "code",
      "metadata": {
        "colab": {
          "base_uri": "https://localhost:8080/"
        },
        "id": "4xG5W_PPyuJ1",
        "outputId": "9ed8af07-3d28-4c35-d9de-2a83e58c4f1e"
      },
      "source": [
        "# Input and embedding for words\n",
        "word_in = Input(shape=(max_len,))\n",
        "emb_word = Embedding(input_dim=n_words + 2, output_dim=50,\n",
        "                     input_length=max_len, mask_zero=True)(word_in)\n",
        "\n",
        "# Main LSTM\n",
        "x = SpatialDropout1D(0.5)(emb_word)\n",
        "main_lstm = Bidirectional(LSTM(units=224, return_sequences=True,\n",
        "                               recurrent_dropout=0.5))(x) #(emb_word)\n",
        "main_lstm = Dense(256,activation='relu')(main_lstm)\n",
        "main_lstm = Dropout(0.1)(main_lstm)\n",
        "out = TimeDistributed(Dense(n_tags+1, activation=\"softmax\"))(main_lstm)\n",
        "\n",
        "model = Model([word_in], out)\n",
        "model.summary()"
      ],
      "execution_count": null,
      "outputs": [
        {
          "output_type": "stream",
          "text": [
            "WARNING:tensorflow:Layer lstm will not use cuDNN kernel since it doesn't meet the cuDNN kernel criteria. It will use generic GPU kernel as fallback when running on GPU\n",
            "WARNING:tensorflow:Layer lstm will not use cuDNN kernel since it doesn't meet the cuDNN kernel criteria. It will use generic GPU kernel as fallback when running on GPU\n",
            "WARNING:tensorflow:Layer lstm will not use cuDNN kernel since it doesn't meet the cuDNN kernel criteria. It will use generic GPU kernel as fallback when running on GPU\n",
            "Model: \"model\"\n",
            "_________________________________________________________________\n",
            "Layer (type)                 Output Shape              Param #   \n",
            "=================================================================\n",
            "input_1 (InputLayer)         [(None, 80)]              0         \n",
            "_________________________________________________________________\n",
            "embedding (Embedding)        (None, 80, 50)            468100    \n",
            "_________________________________________________________________\n",
            "spatial_dropout1d (SpatialDr (None, 80, 50)            0         \n",
            "_________________________________________________________________\n",
            "bidirectional (Bidirectional (None, 80, 448)           492800    \n",
            "_________________________________________________________________\n",
            "dense (Dense)                (None, 80, 256)           114944    \n",
            "_________________________________________________________________\n",
            "dropout (Dropout)            (None, 80, 256)           0         \n",
            "_________________________________________________________________\n",
            "time_distributed (TimeDistri (None, 80, 6)             1542      \n",
            "=================================================================\n",
            "Total params: 1,077,386\n",
            "Trainable params: 1,077,386\n",
            "Non-trainable params: 0\n",
            "_________________________________________________________________\n"
          ],
          "name": "stdout"
        }
      ]
    },
    {
      "cell_type": "markdown",
      "metadata": {
        "id": "1Xf1v_ek8qDw"
      },
      "source": [
        "Compiling of model"
      ]
    },
    {
      "cell_type": "code",
      "metadata": {
        "id": "Xb0uQYWCyuJ2"
      },
      "source": [
        "model.compile(optimizer=\"adam\", loss=\"sparse_categorical_crossentropy\", metrics=[\"acc\"])"
      ],
      "execution_count": null,
      "outputs": []
    },
    {
      "cell_type": "code",
      "metadata": {
        "colab": {
          "base_uri": "https://localhost:8080/"
        },
        "id": "Vr1dfOb9yuJ2",
        "outputId": "f84ad64d-2632-4873-f8ae-b52360ba0f83"
      },
      "source": [
        "pip install livelossplot"
      ],
      "execution_count": null,
      "outputs": [
        {
          "output_type": "stream",
          "text": [
            "Requirement already satisfied: livelossplot in /usr/local/lib/python3.7/dist-packages (0.5.4)\n",
            "Requirement already satisfied: matplotlib in /usr/local/lib/python3.7/dist-packages (from livelossplot) (3.2.2)\n",
            "Requirement already satisfied: bokeh in /usr/local/lib/python3.7/dist-packages (from livelossplot) (2.3.1)\n",
            "Requirement already satisfied: ipython in /usr/local/lib/python3.7/dist-packages (from livelossplot) (5.5.0)\n",
            "Requirement already satisfied: numpy>=1.11 in /usr/local/lib/python3.7/dist-packages (from matplotlib->livelossplot) (1.19.5)\n",
            "Requirement already satisfied: python-dateutil>=2.1 in /usr/local/lib/python3.7/dist-packages (from matplotlib->livelossplot) (2.8.1)\n",
            "Requirement already satisfied: kiwisolver>=1.0.1 in /usr/local/lib/python3.7/dist-packages (from matplotlib->livelossplot) (1.3.1)\n",
            "Requirement already satisfied: cycler>=0.10 in /usr/local/lib/python3.7/dist-packages (from matplotlib->livelossplot) (0.10.0)\n",
            "Requirement already satisfied: pyparsing!=2.0.4,!=2.1.2,!=2.1.6,>=2.0.1 in /usr/local/lib/python3.7/dist-packages (from matplotlib->livelossplot) (2.4.7)\n",
            "Requirement already satisfied: PyYAML>=3.10 in /usr/local/lib/python3.7/dist-packages (from bokeh->livelossplot) (3.13)\n",
            "Requirement already satisfied: tornado>=5.1 in /usr/local/lib/python3.7/dist-packages (from bokeh->livelossplot) (5.1.1)\n",
            "Requirement already satisfied: pillow>=7.1.0 in /usr/local/lib/python3.7/dist-packages (from bokeh->livelossplot) (7.1.2)\n",
            "Requirement already satisfied: Jinja2>=2.7 in /usr/local/lib/python3.7/dist-packages (from bokeh->livelossplot) (2.11.3)\n",
            "Requirement already satisfied: packaging>=16.8 in /usr/local/lib/python3.7/dist-packages (from bokeh->livelossplot) (20.9)\n",
            "Requirement already satisfied: typing-extensions>=3.7.4 in /usr/local/lib/python3.7/dist-packages (from bokeh->livelossplot) (3.7.4.3)\n",
            "Requirement already satisfied: traitlets>=4.2 in /usr/local/lib/python3.7/dist-packages (from ipython->livelossplot) (5.0.5)\n",
            "Requirement already satisfied: pickleshare in /usr/local/lib/python3.7/dist-packages (from ipython->livelossplot) (0.7.5)\n",
            "Requirement already satisfied: simplegeneric>0.8 in /usr/local/lib/python3.7/dist-packages (from ipython->livelossplot) (0.8.1)\n",
            "Requirement already satisfied: pygments in /usr/local/lib/python3.7/dist-packages (from ipython->livelossplot) (2.6.1)\n",
            "Requirement already satisfied: setuptools>=18.5 in /usr/local/lib/python3.7/dist-packages (from ipython->livelossplot) (56.0.0)\n",
            "Requirement already satisfied: pexpect; sys_platform != \"win32\" in /usr/local/lib/python3.7/dist-packages (from ipython->livelossplot) (4.8.0)\n",
            "Requirement already satisfied: prompt-toolkit<2.0.0,>=1.0.4 in /usr/local/lib/python3.7/dist-packages (from ipython->livelossplot) (1.0.18)\n",
            "Requirement already satisfied: decorator in /usr/local/lib/python3.7/dist-packages (from ipython->livelossplot) (4.4.2)\n",
            "Requirement already satisfied: six>=1.5 in /usr/local/lib/python3.7/dist-packages (from python-dateutil>=2.1->matplotlib->livelossplot) (1.15.0)\n",
            "Requirement already satisfied: MarkupSafe>=0.23 in /usr/local/lib/python3.7/dist-packages (from Jinja2>=2.7->bokeh->livelossplot) (1.1.1)\n",
            "Requirement already satisfied: ipython-genutils in /usr/local/lib/python3.7/dist-packages (from traitlets>=4.2->ipython->livelossplot) (0.2.0)\n",
            "Requirement already satisfied: ptyprocess>=0.5 in /usr/local/lib/python3.7/dist-packages (from pexpect; sys_platform != \"win32\"->ipython->livelossplot) (0.7.0)\n",
            "Requirement already satisfied: wcwidth in /usr/local/lib/python3.7/dist-packages (from prompt-toolkit<2.0.0,>=1.0.4->ipython->livelossplot) (0.2.5)\n"
          ],
          "name": "stdout"
        }
      ]
    },
    {
      "cell_type": "markdown",
      "metadata": {
        "id": "0c5JvnT58tq7"
      },
      "source": [
        "Importing the module from libraries for Checkpoints, EarlyStopping and for Plotting of acuracy and loss curve for training and validation set"
      ]
    },
    {
      "cell_type": "code",
      "metadata": {
        "id": "a5kQ7OoPyuJ2"
      },
      "source": [
        "from tensorflow.keras.callbacks import ModelCheckpoint, EarlyStopping\n",
        "from livelossplot import PlotLossesKeras"
      ],
      "execution_count": null,
      "outputs": []
    },
    {
      "cell_type": "markdown",
      "metadata": {
        "id": "hgTgVWso81Ib"
      },
      "source": [
        "Training of model on training set and evaluating on validation set"
      ]
    },
    {
      "cell_type": "code",
      "metadata": {
        "colab": {
          "base_uri": "https://localhost:8080/",
          "height": 755
        },
        "id": "U2wPYdr1yuJ3",
        "outputId": "85467a91-c17d-413a-ea29-402b93bcd1ba"
      },
      "source": [
        "%%time\n",
        "\n",
        "chkpt = ModelCheckpoint(\"model_weights5.h5\", monitor='val_loss',verbose=1, save_best_only=True, save_weights_only=True, mode='min')\n",
        "\n",
        "early_stopping = EarlyStopping(monitor='val_acc', min_delta=0, patience=2, verbose=0, mode='max', baseline=None, restore_best_weights=False)\n",
        "\n",
        "callbacks = [PlotLossesKeras(), chkpt, early_stopping]\n",
        "\n",
        "history = model.fit(\n",
        "    X_word_train,\n",
        "    np.array(y_train).reshape(len(y_train), max_len, 1),\n",
        "    validation_data=(X_word_val,np.array(y_val).reshape(len(y_val), max_len, 1)),\n",
        "    batch_size=64, \n",
        "    epochs=50,\n",
        "    callbacks=[callbacks],\n",
        "    verbose=1\n",
        ")"
      ],
      "execution_count": null,
      "outputs": [
        {
          "output_type": "display_data",
          "data": {
            "image/png": "[encoded data removed]",
            "text/plain": [
              "<Figure size 864x576 with 2 Axes>"
            ]
          },
          "metadata": {
            "tags": [],
            "needs_background": "light"
          }
        },
        {
          "output_type": "stream",
          "text": [
            "Accuracy\n",
            "\ttraining         \t (min:    0.773, max:    0.964, cur:    0.964)\n",
            "\tvalidation       \t (min:    0.777, max:    0.902, cur:    0.901)\n",
            "Loss\n",
            "\ttraining         \t (min:    0.031, max:    0.300, cur:    0.031)\n",
            "\tvalidation       \t (min:    0.084, max:    0.208, cur:    0.101)\n",
            "\n",
            "Epoch 00008: val_loss did not improve from 0.08436\n",
            "CPU times: user 3min 27s, sys: 27.5 s, total: 3min 55s\n",
            "Wall time: 2min 19s\n"
          ],
          "name": "stdout"
        }
      ]
    },
    {
      "cell_type": "markdown",
      "metadata": {
        "id": "_TIxXN2V853O"
      },
      "source": [
        "# Prediction on Test Set\n"
      ]
    },
    {
      "cell_type": "markdown",
      "metadata": {
        "id": "7uDb8Puu9BQR"
      },
      "source": [
        "Predicting the probabilities of tags for the test set"
      ]
    },
    {
      "cell_type": "code",
      "metadata": {
        "id": "zAdM24N_yuJ3"
      },
      "source": [
        "y_pred = model.predict(X_test)"
      ],
      "execution_count": null,
      "outputs": []
    },
    {
      "cell_type": "code",
      "metadata": {
        "colab": {
          "base_uri": "https://localhost:8080/"
        },
        "id": "-HjX3a5FrOYH",
        "outputId": "816133c2-13d7-4a62-c086-cfe93a0afa45"
      },
      "source": [
        "model.evaluate(X_test,y_test)"
      ],
      "execution_count": null,
      "outputs": [
        {
          "output_type": "stream",
          "text": [
            "16/16 [==============================] - 1s 43ms/step - loss: 0.1049 - acc: 0.9068\n"
          ],
          "name": "stdout"
        },
        {
          "output_type": "execute_result",
          "data": {
            "text/plain": [
              "[0.10486295074224472, 0.9067696928977966]"
            ]
          },
          "metadata": {
            "tags": []
          },
          "execution_count": 25
        }
      ]
    },
    {
      "cell_type": "markdown",
      "metadata": {
        "id": "WFJXfpKs9gRn"
      },
      "source": [
        "# Performance Metrices"
      ]
    },
    {
      "cell_type": "markdown",
      "metadata": {
        "id": "h8DuG5PS9ooe"
      },
      "source": [
        "Importing the module for metrices used for NER  "
      ]
    },
    {
      "cell_type": "code",
      "metadata": {
        "id": "hB6jHO6NyuJ3"
      },
      "source": [
        "from sklearn.metrics import precision_score, recall_score, f1_score, classification_report,confusion_matrix"
      ],
      "execution_count": null,
      "outputs": []
    },
    {
      "cell_type": "markdown",
      "metadata": {
        "id": "aiJdEI6L9pj_"
      },
      "source": [
        "Converting the predicted probabalities of labels into the tags"
      ]
    },
    {
      "cell_type": "code",
      "metadata": {
        "id": "cIsuQBxOyuJ3"
      },
      "source": [
        "idx2tag = {i: w for w, i in tag2idx.items()}\n",
        "\n",
        "def pred2label(pred):\n",
        "    out = []\n",
        "    for pred_i in pred:\n",
        "        out_i = []\n",
        "        for p in pred_i:\n",
        "            p_i = np.argmax(p)\n",
        "            out_i.append(idx2tag[p_i].replace(\"PAD\", \"O\"))\n",
        "        out.append(out_i)\n",
        "    return out\n",
        "    \n",
        "pred_labels = pred2label(y_pred)"
      ],
      "execution_count": null,
      "outputs": []
    },
    {
      "cell_type": "markdown",
      "metadata": {
        "id": "35I_3wAu9tGN"
      },
      "source": [
        "Converting the indexed tags of true labels into tags"
      ]
    },
    {
      "cell_type": "code",
      "metadata": {
        "id": "hzkCs4yGyuJ4"
      },
      "source": [
        "def true2label(true_l):\n",
        "    out = []\n",
        "    for pred_i in true_l:\n",
        "        out_i = []\n",
        "        for p in pred_i:\n",
        "            out_i.append(idx2tag[p].replace(\"PAD\", \"O\"))\n",
        "        out.append(out_i)\n",
        "    return out"
      ],
      "execution_count": null,
      "outputs": []
    },
    {
      "cell_type": "code",
      "metadata": {
        "id": "Rz9D47JgyuJ4"
      },
      "source": [
        "test_labels = true2label(y_test)"
      ],
      "execution_count": null,
      "outputs": []
    },
    {
      "cell_type": "markdown",
      "metadata": {
        "id": "jEnwr1BC9z_4"
      },
      "source": [
        "Calculating the F1-score for the test set"
      ]
    },
    {
      "cell_type": "code",
      "metadata": {
        "colab": {
          "base_uri": "https://localhost:8080/"
        },
        "id": "ZdM8gNDxyuJ4",
        "outputId": "c8129334-f6db-43f1-f1d4-334a6c9b66c3"
      },
      "source": [
        "print(\"F1-score: {:.1%}\".format(f1_score(np.asarray(test_labels).reshape(-1,1),np.asarray(pred_labels).reshape(-1,1),average='micro')))"
      ],
      "execution_count": null,
      "outputs": [
        {
          "output_type": "stream",
          "text": [
            "F1-score: 97.2%\n"
          ],
          "name": "stdout"
        }
      ]
    },
    {
      "cell_type": "markdown",
      "metadata": {
        "id": "7ezdK1SG94IH"
      },
      "source": [
        "Classification Report of the test set"
      ]
    },
    {
      "cell_type": "code",
      "metadata": {
        "colab": {
          "base_uri": "https://localhost:8080/"
        },
        "id": "I6yCVJImyuJ4",
        "outputId": "edff9e28-16e2-4730-f62b-df52e2350d85"
      },
      "source": [
        "print(classification_report(np.asarray(test_labels).reshape(-1,1),np.asarray(pred_labels).reshape(-1,1)))"
      ],
      "execution_count": null,
      "outputs": [
        {
          "output_type": "stream",
          "text": [
            "              precision    recall  f1-score   support\n",
            "\n",
            "         Loc       0.82      0.63      0.71       569\n",
            "        Misc       0.87      0.33      0.48        78\n",
            "           O       0.98      1.00      0.99     37753\n",
            "         Org       0.83      0.59      0.69      1461\n",
            "         Per       0.67      0.22      0.33       139\n",
            "\n",
            "    accuracy                           0.97     40000\n",
            "   macro avg       0.83      0.55      0.64     40000\n",
            "weighted avg       0.97      0.97      0.97     40000\n",
            "\n"
          ],
          "name": "stdout"
        }
      ]
    },
    {
      "cell_type": "markdown",
      "metadata": {
        "id": "hclPEH1b9-em"
      },
      "source": [
        "Printing the words with corrected tags and predicted tags for a sentences at index i in the test set"
      ]
    },
    {
      "cell_type": "code",
      "metadata": {
        "id": "WU1-EWNGyuJ4",
        "colab": {
          "base_uri": "https://localhost:8080/"
        },
        "outputId": "29080daf-9a10-4a29-85b1-877cfa7f25ba"
      },
      "source": [
        "i = 7\n",
        "p = np.argmax(y_pred[i], axis=-1)\n",
        "print('Sentence {}'.format(i))\n",
        "print(\"{:15}||{:5}||{}\".format(\"Word\", \"True\", \"Pred\"))\n",
        "print(30 * \"=\")\n",
        "for w, t, pred in zip(X_test[i], y_test[i], p):\n",
        "    if w != 0:\n",
        "        print(\"{:15}: {:5} {}\".format(idx2word[w], idx2tag[t], idx2tag[pred]))"
      ],
      "execution_count": null,
      "outputs": [
        {
          "output_type": "stream",
          "text": [
            "Sentence 7\n",
            "Word           ||True ||Pred\n",
            "==============================\n",
            "Seeing         : O     O\n",
            "that           : O     O\n",
            "containerised  : O     O\n",
            "multi-modal    : O     O\n",
            "door-to-door   : O     O\n",
            "transport      : O     O\n",
            "provided       : O     O\n",
            "a              : O     O\n",
            "solution       : O     O\n",
            "to             : O     O\n",
            "this           : O     O\n",
            "problem        : O     O\n",
            ",              : O     O\n",
            "in             : O     O\n",
            "1966           : O     O\n",
            "Indian         : Misc  Loc\n",
            "Railways       : O     O\n",
            "entered        : O     O\n",
            "the            : O     O\n",
            "market         : O     O\n",
            "for            : O     O\n",
            "moving         : O     O\n",
            "door-to-door   : O     O\n",
            "domestic       : O     O\n",
            "cargo          : O     O\n",
            "in             : O     O\n",
            "special        : O     O\n",
            "DSO            : Misc  O\n",
            "containers     : O     O\n",
            ".              : O     O\n"
          ],
          "name": "stdout"
        }
      ]
    },
    {
      "cell_type": "markdown",
      "metadata": {
        "id": "cRHCRIbz-AA4"
      },
      "source": [
        "Confusion matrix of test set"
      ]
    },
    {
      "cell_type": "code",
      "metadata": {
        "id": "Ef7r6PbPyuJ5"
      },
      "source": [
        "print(confusion_matrix(np.asarray(test_labels).reshape(-1,1),np.asarray(pred_labels).reshape(-1,1)))"
      ],
      "execution_count": null,
      "outputs": []
    }
  ]
}