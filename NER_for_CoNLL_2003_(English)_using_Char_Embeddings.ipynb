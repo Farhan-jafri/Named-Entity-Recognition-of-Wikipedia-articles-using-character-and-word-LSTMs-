{
  "nbformat": 4,
  "nbformat_minor": 0,
  "metadata": {
    "kernelspec": {
      "display_name": "Python 3",
      "language": "python",
      "name": "python3"
    },
    "language_info": {
      "codemirror_mode": {
        "name": "ipython",
        "version": 3
      },
      "file_extension": ".py",
      "mimetype": "text/x-python",
      "name": "python",
      "nbconvert_exporter": "python",
      "pygments_lexer": "ipython3",
      "version": "3.6.12"
    },
    "colab": {
      "name": "NER for CoNLL-2003 (English) using Char Embeddings.ipynb",
      "provenance": []
    }
  },
  "cells": [
    {
      "cell_type": "markdown",
      "metadata": {
        "id": "5wesylSgrvIz"
      },
      "source": [
        "\n",
        "** NAMED ENTITY RECOGNITION FOR CONLL-2003 (ENGLISH) SHARED TASK USING CHARACTER-LEVEL EMBEDDINTGS**"
      ]
    },
    {
      "cell_type": "markdown",
      "metadata": {
        "id": "HkPFfZMOryvN"
      },
      "source": [
        "# Importing Libraries"
      ]
    },
    {
      "cell_type": "code",
      "metadata": {
        "id": "D31FlCTuoR-i",
        "outputId": "43f48044-b731-4e52-cc06-89125696da57"
      },
      "source": [
        "%matplotlib inline\n",
        "import matplotlib.pyplot as plt\n",
        "import pandas as pd\n",
        "\n",
        "import numpy as np\n",
        "np.random.seed(0)\n",
        "plt.style.use(\"ggplot\")\n",
        "import tensorflow as tf\n",
        "print('Tensorflow version:', tf.__version__)\n",
        "print('GPU detected:', tf.config.list_physical_devices('GPU'))"
      ],
      "execution_count": null,
      "outputs": [
        {
          "output_type": "stream",
          "text": [
            "Tensorflow version: 2.4.1\n",
            "GPU detected: []\n"
          ],
          "name": "stdout"
        }
      ]
    },
    {
      "cell_type": "markdown",
      "metadata": {
        "id": "MvDhvzBQrzgS"
      },
      "source": [
        "# Reading of Datasets"
      ]
    },
    {
      "cell_type": "code",
      "metadata": {
        "id": "7-iDZt0noR-r"
      },
      "source": [
        "train = pd.read_csv ('train.txt',delimiter=' ')\n",
        "train.to_csv ('new_train.csv', index=None)\n",
        "valid = pd.read_csv ('valid.txt',delimiter=' ')\n",
        "valid.to_csv ('new_valid.csv', index=None)\n",
        "test = pd.read_csv ('test.txt',delimiter=' ')\n",
        "test.to_csv ('new_test.csv', index=None)"
      ],
      "execution_count": null,
      "outputs": []
    },
    {
      "cell_type": "markdown",
      "metadata": {
        "id": "JmXOdl1qr0HS"
      },
      "source": [
        "# Preprocessing of Data"
      ]
    },
    {
      "cell_type": "code",
      "metadata": {
        "id": "bvVpOdzHoR-s",
        "outputId": "d91fe743-d398-4466-968d-4fe2e3f89200"
      },
      "source": [
        "train.head()"
      ],
      "execution_count": null,
      "outputs": [
        {
          "output_type": "execute_result",
          "data": {
            "text/html": [
              "<div>\n",
              "<style scoped>\n",
              "    .dataframe tbody tr th:only-of-type {\n",
              "        vertical-align: middle;\n",
              "    }\n",
              "\n",
              "    .dataframe tbody tr th {\n",
              "        vertical-align: top;\n",
              "    }\n",
              "\n",
              "    .dataframe thead th {\n",
              "        text-align: right;\n",
              "    }\n",
              "</style>\n",
              "<table border=\"1\" class=\"dataframe\">\n",
              "  <thead>\n",
              "    <tr style=\"text-align: right;\">\n",
              "      <th></th>\n",
              "      <th>-DOCSTART-</th>\n",
              "      <th>-X-</th>\n",
              "      <th>-X-.1</th>\n",
              "      <th>O</th>\n",
              "    </tr>\n",
              "  </thead>\n",
              "  <tbody>\n",
              "    <tr>\n",
              "      <th>0</th>\n",
              "      <td>EU</td>\n",
              "      <td>NNP</td>\n",
              "      <td>B-NP</td>\n",
              "      <td>B-ORG</td>\n",
              "    </tr>\n",
              "    <tr>\n",
              "      <th>1</th>\n",
              "      <td>rejects</td>\n",
              "      <td>VBZ</td>\n",
              "      <td>B-VP</td>\n",
              "      <td>O</td>\n",
              "    </tr>\n",
              "    <tr>\n",
              "      <th>2</th>\n",
              "      <td>German</td>\n",
              "      <td>JJ</td>\n",
              "      <td>B-NP</td>\n",
              "      <td>B-MISC</td>\n",
              "    </tr>\n",
              "    <tr>\n",
              "      <th>3</th>\n",
              "      <td>call</td>\n",
              "      <td>NN</td>\n",
              "      <td>I-NP</td>\n",
              "      <td>O</td>\n",
              "    </tr>\n",
              "    <tr>\n",
              "      <th>4</th>\n",
              "      <td>to</td>\n",
              "      <td>TO</td>\n",
              "      <td>B-VP</td>\n",
              "      <td>O</td>\n",
              "    </tr>\n",
              "  </tbody>\n",
              "</table>\n",
              "</div>"
            ],
            "text/plain": [
              "  -DOCSTART-  -X- -X-.1       O\n",
              "0         EU  NNP  B-NP   B-ORG\n",
              "1    rejects  VBZ  B-VP       O\n",
              "2     German   JJ  B-NP  B-MISC\n",
              "3       call   NN  I-NP       O\n",
              "4         to   TO  B-VP       O"
            ]
          },
          "metadata": {
            "tags": []
          },
          "execution_count": 3
        }
      ]
    },
    {
      "cell_type": "code",
      "metadata": {
        "id": "914L-utJoR-s",
        "outputId": "b7438e71-4596-4570-d3cd-10007ae36ddd"
      },
      "source": [
        "len(train)"
      ],
      "execution_count": null,
      "outputs": [
        {
          "output_type": "execute_result",
          "data": {
            "text/plain": [
              "204566"
            ]
          },
          "metadata": {
            "tags": []
          },
          "execution_count": 4
        }
      ]
    },
    {
      "cell_type": "code",
      "metadata": {
        "id": "OacdHtt5oR-s",
        "outputId": "82218957-1c50-4fd8-9ad4-d3a7f042a300"
      },
      "source": [
        "valid.head()"
      ],
      "execution_count": null,
      "outputs": [
        {
          "output_type": "execute_result",
          "data": {
            "text/html": [
              "<div>\n",
              "<style scoped>\n",
              "    .dataframe tbody tr th:only-of-type {\n",
              "        vertical-align: middle;\n",
              "    }\n",
              "\n",
              "    .dataframe tbody tr th {\n",
              "        vertical-align: top;\n",
              "    }\n",
              "\n",
              "    .dataframe thead th {\n",
              "        text-align: right;\n",
              "    }\n",
              "</style>\n",
              "<table border=\"1\" class=\"dataframe\">\n",
              "  <thead>\n",
              "    <tr style=\"text-align: right;\">\n",
              "      <th></th>\n",
              "      <th>-DOCSTART-</th>\n",
              "      <th>-X-</th>\n",
              "      <th>-X-.1</th>\n",
              "      <th>O</th>\n",
              "    </tr>\n",
              "  </thead>\n",
              "  <tbody>\n",
              "    <tr>\n",
              "      <th>0</th>\n",
              "      <td>CRICKET</td>\n",
              "      <td>NNP</td>\n",
              "      <td>B-NP</td>\n",
              "      <td>O</td>\n",
              "    </tr>\n",
              "    <tr>\n",
              "      <th>1</th>\n",
              "      <td>-</td>\n",
              "      <td>:</td>\n",
              "      <td>O</td>\n",
              "      <td>O</td>\n",
              "    </tr>\n",
              "    <tr>\n",
              "      <th>2</th>\n",
              "      <td>LEICESTERSHIRE</td>\n",
              "      <td>NNP</td>\n",
              "      <td>B-NP</td>\n",
              "      <td>B-ORG</td>\n",
              "    </tr>\n",
              "    <tr>\n",
              "      <th>3</th>\n",
              "      <td>TAKE</td>\n",
              "      <td>NNP</td>\n",
              "      <td>I-NP</td>\n",
              "      <td>O</td>\n",
              "    </tr>\n",
              "    <tr>\n",
              "      <th>4</th>\n",
              "      <td>OVER</td>\n",
              "      <td>IN</td>\n",
              "      <td>B-PP</td>\n",
              "      <td>O</td>\n",
              "    </tr>\n",
              "  </tbody>\n",
              "</table>\n",
              "</div>"
            ],
            "text/plain": [
              "       -DOCSTART-  -X- -X-.1      O\n",
              "0         CRICKET  NNP  B-NP      O\n",
              "1               -    :     O      O\n",
              "2  LEICESTERSHIRE  NNP  B-NP  B-ORG\n",
              "3            TAKE  NNP  I-NP      O\n",
              "4            OVER   IN  B-PP      O"
            ]
          },
          "metadata": {
            "tags": []
          },
          "execution_count": 5
        }
      ]
    },
    {
      "cell_type": "code",
      "metadata": {
        "id": "CH-fLpCcoR-t",
        "outputId": "84aba9b7-c09c-4f7d-e220-2f72e8f8ef26"
      },
      "source": [
        "len(valid)"
      ],
      "execution_count": null,
      "outputs": [
        {
          "output_type": "execute_result",
          "data": {
            "text/plain": [
              "51577"
            ]
          },
          "metadata": {
            "tags": []
          },
          "execution_count": 6
        }
      ]
    },
    {
      "cell_type": "code",
      "metadata": {
        "id": "akZjzFqtoR-t",
        "outputId": "835036d8-6ecc-4238-c6f2-b066cd3f5867"
      },
      "source": [
        "test.head()"
      ],
      "execution_count": null,
      "outputs": [
        {
          "output_type": "execute_result",
          "data": {
            "text/html": [
              "<div>\n",
              "<style scoped>\n",
              "    .dataframe tbody tr th:only-of-type {\n",
              "        vertical-align: middle;\n",
              "    }\n",
              "\n",
              "    .dataframe tbody tr th {\n",
              "        vertical-align: top;\n",
              "    }\n",
              "\n",
              "    .dataframe thead th {\n",
              "        text-align: right;\n",
              "    }\n",
              "</style>\n",
              "<table border=\"1\" class=\"dataframe\">\n",
              "  <thead>\n",
              "    <tr style=\"text-align: right;\">\n",
              "      <th></th>\n",
              "      <th>-DOCSTART-</th>\n",
              "      <th>-X-</th>\n",
              "      <th>-X-.1</th>\n",
              "      <th>O</th>\n",
              "    </tr>\n",
              "  </thead>\n",
              "  <tbody>\n",
              "    <tr>\n",
              "      <th>0</th>\n",
              "      <td>SOCCER</td>\n",
              "      <td>NN</td>\n",
              "      <td>B-NP</td>\n",
              "      <td>O</td>\n",
              "    </tr>\n",
              "    <tr>\n",
              "      <th>1</th>\n",
              "      <td>-</td>\n",
              "      <td>:</td>\n",
              "      <td>O</td>\n",
              "      <td>O</td>\n",
              "    </tr>\n",
              "    <tr>\n",
              "      <th>2</th>\n",
              "      <td>JAPAN</td>\n",
              "      <td>NNP</td>\n",
              "      <td>B-NP</td>\n",
              "      <td>B-LOC</td>\n",
              "    </tr>\n",
              "    <tr>\n",
              "      <th>3</th>\n",
              "      <td>GET</td>\n",
              "      <td>VB</td>\n",
              "      <td>B-VP</td>\n",
              "      <td>O</td>\n",
              "    </tr>\n",
              "    <tr>\n",
              "      <th>4</th>\n",
              "      <td>LUCKY</td>\n",
              "      <td>NNP</td>\n",
              "      <td>B-NP</td>\n",
              "      <td>O</td>\n",
              "    </tr>\n",
              "  </tbody>\n",
              "</table>\n",
              "</div>"
            ],
            "text/plain": [
              "  -DOCSTART-  -X- -X-.1      O\n",
              "0     SOCCER   NN  B-NP      O\n",
              "1          -    :     O      O\n",
              "2      JAPAN  NNP  B-NP  B-LOC\n",
              "3        GET   VB  B-VP      O\n",
              "4      LUCKY  NNP  B-NP      O"
            ]
          },
          "metadata": {
            "tags": []
          },
          "execution_count": 7
        }
      ]
    },
    {
      "cell_type": "code",
      "metadata": {
        "id": "GVJLBpYVoR-t",
        "outputId": "fb73fb89-fe83-4cac-897e-5ec654e05095"
      },
      "source": [
        "len(test)"
      ],
      "execution_count": null,
      "outputs": [
        {
          "output_type": "execute_result",
          "data": {
            "text/plain": [
              "46665"
            ]
          },
          "metadata": {
            "tags": []
          },
          "execution_count": 8
        }
      ]
    },
    {
      "cell_type": "markdown",
      "metadata": {
        "id": "_CYwC7C5sktF"
      },
      "source": [
        "Filling of missing data in the datasets"
      ]
    },
    {
      "cell_type": "code",
      "metadata": {
        "id": "v27Npb4doR-u"
      },
      "source": [
        "t_data = train.fillna(method=\"ffill\")\n",
        "v_data = valid.fillna(method=\"ffill\")\n",
        "ts_data = test.fillna(method=\"ffill\")"
      ],
      "execution_count": null,
      "outputs": []
    },
    {
      "cell_type": "markdown",
      "metadata": {
        "id": "gnMktjBMsppM"
      },
      "source": [
        "Printing the number of unique words and tags in the datasets"
      ]
    },
    {
      "cell_type": "code",
      "metadata": {
        "id": "2K9As99-oR-u",
        "outputId": "9e12f4d6-8552-4da3-bbe8-dc7995839a4b"
      },
      "source": [
        "print(\"Unique words in train corpus:\", t_data['-DOCSTART-'].nunique())\n",
        "print(\"Unique tags in train corpus:\", t_data['O'].nunique())\n",
        "\n",
        "print(\"Unique words in valid corpus:\", v_data['-DOCSTART-'].nunique())\n",
        "print(\"Unique tags in valid corpus:\", v_data['O'].nunique())\n",
        "\n",
        "print(\"Unique words in test corpus:\", ts_data['-DOCSTART-'].nunique())\n",
        "print(\"Unique tags in test corpus:\", ts_data['O'].nunique())"
      ],
      "execution_count": null,
      "outputs": [
        {
          "output_type": "stream",
          "text": [
            "Unique words in train corpus: 23623\n",
            "Unique tags in train corpus: 9\n",
            "Unique words in valid corpus: 9966\n",
            "Unique tags in valid corpus: 9\n",
            "Unique words in test corpus: 9489\n",
            "Unique tags in test corpus: 9\n"
          ],
          "name": "stdout"
        }
      ]
    },
    {
      "cell_type": "markdown",
      "metadata": {
        "id": "I2NV6eaZsqj7"
      },
      "source": [
        "Creating the list of unique words in the datasets"
      ]
    },
    {
      "cell_type": "code",
      "metadata": {
        "id": "G8kj8OAjoR-v"
      },
      "source": [
        "t_unique_words = list(set(t_data[\"-DOCSTART-\"].values))\n",
        "num_words_t = len(t_unique_words)\n",
        "\n",
        "v_unique_words = list(set(v_data[\"-DOCSTART-\"].values))\n",
        "num_words_v = len(v_unique_words)\n",
        "\n",
        "ts_unique_words = list(set(ts_data[\"-DOCSTART-\"].values))\n",
        "num_words_ts = len(ts_unique_words)"
      ],
      "execution_count": null,
      "outputs": []
    },
    {
      "cell_type": "markdown",
      "metadata": {
        "id": "t1d1H5J4ssvU"
      },
      "source": [
        "Creating the list of unique tags "
      ]
    },
    {
      "cell_type": "code",
      "metadata": {
        "id": "sXOeT2v9oR-v",
        "outputId": "8242ff3b-762d-4bfc-c31c-48b706930fc1"
      },
      "source": [
        "tags = list(set(t_data[\"O\"].values))\n",
        "num_tags = len(tags)\n",
        "num_tags"
      ],
      "execution_count": null,
      "outputs": [
        {
          "output_type": "execute_result",
          "data": {
            "text/plain": [
              "9"
            ]
          },
          "metadata": {
            "tags": []
          },
          "execution_count": 12
        }
      ]
    },
    {
      "cell_type": "markdown",
      "metadata": {
        "id": "Hn7foA6tsvAU"
      },
      "source": [
        "Creating the lists of labels in a datasets"
      ]
    },
    {
      "cell_type": "code",
      "metadata": {
        "id": "FaLCL9oNoR-v"
      },
      "source": [
        "train_labels = t_data['O']\n",
        "valid_labels = v_data['O']\n",
        "test_labels=ts_data['O']"
      ],
      "execution_count": null,
      "outputs": []
    },
    {
      "cell_type": "markdown",
      "metadata": {
        "id": "Qa3ulcb-szkd"
      },
      "source": [
        "Creating the list of words in a datasets"
      ]
    },
    {
      "cell_type": "code",
      "metadata": {
        "id": "rIh-wDKcoR-v"
      },
      "source": [
        "t_listed_words = list(t_data['-DOCSTART-'].values)\n",
        "v_listed_words = list(v_data['-DOCSTART-'].values)\n",
        "ts_listed_words = list(ts_data['-DOCSTART-'].values)"
      ],
      "execution_count": null,
      "outputs": []
    },
    {
      "cell_type": "markdown",
      "metadata": {
        "id": "nKncVFvws0QN"
      },
      "source": [
        "Converting the dataframe into the list of tuples"
      ]
    },
    {
      "cell_type": "code",
      "metadata": {
        "id": "bRmliThUoR-w"
      },
      "source": [
        "def intotuple(s):\n",
        "    tup = [(w, p, c, t) for w, p, c, t in zip(s[\"-DOCSTART-\"].values.tolist(),\n",
        "                                                           s[\"-X-\"].values.tolist(), s[\"-X-.1\"].values.tolist(),\n",
        "                                                           s[\"O\"].values.tolist())]\n",
        "    return tup"
      ],
      "execution_count": null,
      "outputs": []
    },
    {
      "cell_type": "code",
      "metadata": {
        "id": "bRZTPnOcoR-w"
      },
      "source": [
        "train=intotuple(t_data)\n",
        "val=intotuple(v_data)\n",
        "test=intotuple(ts_data)"
      ],
      "execution_count": null,
      "outputs": []
    },
    {
      "cell_type": "markdown",
      "metadata": {
        "id": "rwaR3k_Ts3U0"
      },
      "source": [
        "Creating the word2idx, idx2word,tag2idx and idx2tag to map the every  unique word to an index and to map every unique tag to an index vice versa"
      ]
    },
    {
      "cell_type": "code",
      "metadata": {
        "id": "AZGi_u6doR-w"
      },
      "source": [
        "word2idx = {w: i  for i, w in enumerate(t_unique_words+v_unique_words+ts_unique_words)}\n",
        "tag2idx = {t: i for i, t in enumerate(tags)}\n",
        "idx2word = {i: w for w, i in word2idx.items()}\n",
        "idx2tag = {i: w for w, i in tag2idx.items()}"
      ],
      "execution_count": null,
      "outputs": []
    },
    {
      "cell_type": "markdown",
      "metadata": {
        "id": "nbeU2MXTs6b0"
      },
      "source": [
        "Creating the list of unique characters"
      ]
    },
    {
      "cell_type": "code",
      "metadata": {
        "id": "X335UywKoR-w",
        "outputId": "34c0aaec-0e11-4e1e-8b06-64bf1c976037"
      },
      "source": [
        "chars = set([c for w in t_unique_words for c in w])\n",
        "n_chars = len(chars)\n",
        "print(n_chars)"
      ],
      "execution_count": null,
      "outputs": [
        {
          "output_type": "stream",
          "text": [
            "84\n"
          ],
          "name": "stdout"
        }
      ]
    },
    {
      "cell_type": "markdown",
      "metadata": {
        "id": "MpEnAFqHs-DF"
      },
      "source": [
        "Creating the char2idx to map every unique character to index\n"
      ]
    },
    {
      "cell_type": "code",
      "metadata": {
        "id": "C_R2i6HkoR-w"
      },
      "source": [
        "char2idx = {c: i + 1 for i, c in enumerate(chars)}\n",
        "char2idx[\"PAD\"] = 0"
      ],
      "execution_count": null,
      "outputs": []
    },
    {
      "cell_type": "markdown",
      "metadata": {
        "id": "dLgAsKAxtCrZ"
      },
      "source": [
        "Plotting the length of words in training set"
      ]
    },
    {
      "cell_type": "code",
      "metadata": {
        "id": "HG8G0Sh_oR-x",
        "outputId": "964ca62b-6200-4788-b5e3-927a7ef83940"
      },
      "source": [
        "plt.hist([len(w) for w in t_unique_words],bins=30)\n",
        "plt.show()"
      ],
      "execution_count": null,
      "outputs": [
        {
          "output_type": "display_data",
          "data": {
            "image/png": "[encoded data removed]",
            "text/plain": [
              "<Figure size 432x288 with 1 Axes>"
            ]
          },
          "metadata": {
            "tags": []
          }
        }
      ]
    },
    {
      "cell_type": "markdown",
      "metadata": {
        "id": "QL6RuKs6tGUP"
      },
      "source": [
        "Plotting the length of words in the validation set"
      ]
    },
    {
      "cell_type": "code",
      "metadata": {
        "id": "ujUbtksMoR-x",
        "outputId": "6c689976-669f-4c6f-9103-34c8662fe970"
      },
      "source": [
        "plt.hist([len(w) for w in v_unique_words],bins=30)\n",
        "plt.show()"
      ],
      "execution_count": null,
      "outputs": [
        {
          "output_type": "display_data",
          "data": {
            "image/png": "[encoded data removed]",
            "text/plain": [
              "<Figure size 432x288 with 1 Axes>"
            ]
          },
          "metadata": {
            "tags": []
          }
        }
      ]
    },
    {
      "cell_type": "markdown",
      "metadata": {
        "id": "2vZ5Se4UtHA0"
      },
      "source": [
        "Plotting the length of words in the test set"
      ]
    },
    {
      "cell_type": "code",
      "metadata": {
        "id": "QGCanLhJoR-x",
        "outputId": "1a9d520c-2209-4838-cc64-afbf81a6f240"
      },
      "source": [
        "plt.hist([len(w) for w in ts_unique_words],bins=30)\n",
        "plt.show()"
      ],
      "execution_count": null,
      "outputs": [
        {
          "output_type": "display_data",
          "data": {
            "image/png": "[encoded data removed]",
            "text/plain": [
              "<Figure size 432x288 with 1 Axes>"
            ]
          },
          "metadata": {
            "tags": []
          }
        }
      ]
    },
    {
      "cell_type": "markdown",
      "metadata": {
        "id": "P6JPA6XAtLTl"
      },
      "source": [
        "Taking the maximum length of words for padding"
      ]
    },
    {
      "cell_type": "code",
      "metadata": {
        "id": "szEl6fDioR-x"
      },
      "source": [
        "max_len_char = 20"
      ],
      "execution_count": null,
      "outputs": []
    },
    {
      "cell_type": "markdown",
      "metadata": {
        "id": "LdX1fJNvtM4d"
      },
      "source": [
        "Creating the 2-D list having mapped with indexes for every character of words in a sentences with padding"
      ]
    },
    {
      "cell_type": "code",
      "metadata": {
        "id": "PizLTa7roR-x"
      },
      "source": [
        "def char_padding(data):\n",
        "    X_char = []\n",
        "    for i in range(len(data)):\n",
        "        for word in data[i][0]:\n",
        "            word_char=[]\n",
        "            for j in range(max_len_char):\n",
        "                try:\n",
        "                    word_char.append(char2idx.get(data[i][0][j],0))\n",
        "                except:\n",
        "                    word_char.append(char2idx.get(\"PAD\"))\n",
        "        X_char.append(np.array(word_char))\n",
        "    return X_char"
      ],
      "execution_count": null,
      "outputs": []
    },
    {
      "cell_type": "code",
      "metadata": {
        "id": "FMUQ4Km3oR-y"
      },
      "source": [
        "X_train_char = char_padding(train)\n",
        "X_valid_char = char_padding(val)\n",
        "X_test_char = char_padding(test)"
      ],
      "execution_count": null,
      "outputs": []
    },
    {
      "cell_type": "markdown",
      "metadata": {
        "id": "nlQDFmFAtR13"
      },
      "source": [
        "# Training"
      ]
    },
    {
      "cell_type": "markdown",
      "metadata": {
        "id": "75vG5RnTtYOF"
      },
      "source": [
        "Importing the model layers"
      ]
    },
    {
      "cell_type": "code",
      "metadata": {
        "id": "N7Y-mh8goR-y"
      },
      "source": [
        "from keras.models import Model, Input\n",
        "from keras.layers import LSTM, Embedding, Dense, TimeDistributed, Dropout, Conv1D\n",
        "from keras.layers import Bidirectional, concatenate, SpatialDropout1D, GlobalMaxPooling1D"
      ],
      "execution_count": null,
      "outputs": []
    },
    {
      "cell_type": "markdown",
      "metadata": {
        "id": "_ElGVXYTtgRt"
      },
      "source": [
        "Architecture of model"
      ]
    },
    {
      "cell_type": "code",
      "metadata": {
        "id": "h_G2rksRoR-y",
        "outputId": "fdfb3f00-ada2-4af1-c587-9f98fc56555d"
      },
      "source": [
        "# Input and embeddings for characters\n",
        "char_in = Input(shape=(1, max_len_char,))\n",
        "emb_char = TimeDistributed(Embedding(input_dim=n_chars + 1, output_dim=15,\n",
        "                           input_length=max_len_char, mask_zero=True))(char_in)\n",
        "# Character LSTM to get word encodings by characters\n",
        "char_enc = TimeDistributed(Bidirectional(LSTM(units=20, return_sequences=False,\n",
        "                                recurrent_dropout=0.5)))(emb_char)\n",
        "\n",
        "# Main LSTM\n",
        "x = SpatialDropout1D(0.5)(char_enc)\n",
        "main_lstm = Bidirectional(LSTM(units=100, return_sequences=True,\n",
        "                               recurrent_dropout=0.5))(x)\n",
        "main_lstm = Dense(200,activation='relu')(main_lstm)\n",
        "main_lstm = Dropout(0.5)(main_lstm)\n",
        "out = TimeDistributed(Dense(num_tags, activation=\"softmax\"))(main_lstm)\n",
        "\n",
        "model = Model([char_in], out)\n",
        "model.summary()"
      ],
      "execution_count": null,
      "outputs": [
        {
          "output_type": "stream",
          "text": [
            "Model: \"model\"\n",
            "_________________________________________________________________\n",
            "Layer (type)                 Output Shape              Param #   \n",
            "=================================================================\n",
            "input_1 (InputLayer)         [(None, 1, 20)]           0         \n",
            "_________________________________________________________________\n",
            "time_distributed (TimeDistri (None, 1, 20, 15)         1275      \n",
            "_________________________________________________________________\n",
            "time_distributed_1 (TimeDist (None, 1, 40)             5760      \n",
            "_________________________________________________________________\n",
            "spatial_dropout1d (SpatialDr (None, 1, 40)             0         \n",
            "_________________________________________________________________\n",
            "bidirectional_1 (Bidirection (None, 1, 200)            112800    \n",
            "_________________________________________________________________\n",
            "dense (Dense)                (None, 1, 200)            40200     \n",
            "_________________________________________________________________\n",
            "dropout (Dropout)            (None, 1, 200)            0         \n",
            "_________________________________________________________________\n",
            "time_distributed_2 (TimeDist (None, 1, 9)              1809      \n",
            "=================================================================\n",
            "Total params: 161,844\n",
            "Trainable params: 161,844\n",
            "Non-trainable params: 0\n",
            "_________________________________________________________________\n"
          ],
          "name": "stdout"
        }
      ]
    },
    {
      "cell_type": "markdown",
      "metadata": {
        "id": "VnzFRVsatilc"
      },
      "source": [
        "Compiling the model"
      ]
    },
    {
      "cell_type": "code",
      "metadata": {
        "id": "Z9X9kfBXoR-y"
      },
      "source": [
        "model.compile(optimizer=\"adam\", loss=\"sparse_categorical_crossentropy\", metrics=[\"acc\"])"
      ],
      "execution_count": null,
      "outputs": []
    },
    {
      "cell_type": "code",
      "metadata": {
        "id": "sASj10V0oR-z",
        "outputId": "127f9c0c-f87c-41d0-ad73-48b399e95d0f"
      },
      "source": [
        "pip install livelossplot"
      ],
      "execution_count": null,
      "outputs": [
        {
          "output_type": "stream",
          "text": [
            "Requirement already satisfied: livelossplot in ./.local/lib/python3.8/site-packages (0.5.4)\n",
            "Requirement already satisfied: ipython in /usr/local/lib/python3.8/dist-packages (from livelossplot) (7.17.0)\n",
            "Requirement already satisfied: matplotlib in ./.local/lib/python3.8/site-packages (from livelossplot) (3.3.4)\n",
            "Requirement already satisfied: bokeh in ./.local/lib/python3.8/site-packages (from livelossplot) (2.3.0)\n",
            "Requirement already satisfied: pickleshare in /usr/local/lib/python3.8/dist-packages (from ipython->livelossplot) (0.7.5)\n",
            "Requirement already satisfied: setuptools>=18.5 in /usr/lib/python3/dist-packages (from ipython->livelossplot) (45.2.0)\n",
            "Requirement already satisfied: pexpect; sys_platform != \"win32\" in /usr/local/lib/python3.8/dist-packages (from ipython->livelossplot) (4.8.0)\n",
            "Requirement already satisfied: traitlets>=4.2 in /usr/local/lib/python3.8/dist-packages (from ipython->livelossplot) (4.3.3)\n",
            "Requirement already satisfied: prompt-toolkit!=3.0.0,!=3.0.1,<3.1.0,>=2.0.0 in /usr/local/lib/python3.8/dist-packages (from ipython->livelossplot) (3.0.6)\n",
            "Requirement already satisfied: pygments in /usr/local/lib/python3.8/dist-packages (from ipython->livelossplot) (2.6.1)\n",
            "Requirement already satisfied: backcall in /usr/local/lib/python3.8/dist-packages (from ipython->livelossplot) (0.2.0)\n",
            "Requirement already satisfied: jedi>=0.10 in /usr/local/lib/python3.8/dist-packages (from ipython->livelossplot) (0.17.2)\n",
            "Requirement already satisfied: decorator in /usr/local/lib/python3.8/dist-packages (from ipython->livelossplot) (4.4.2)\n",
            "Requirement already satisfied: pillow>=6.2.0 in ./.local/lib/python3.8/site-packages (from matplotlib->livelossplot) (8.1.2)\n",
            "Requirement already satisfied: python-dateutil>=2.1 in /usr/local/lib/python3.8/dist-packages (from matplotlib->livelossplot) (2.8.1)\n",
            "Requirement already satisfied: numpy>=1.15 in ./.local/lib/python3.8/site-packages (from matplotlib->livelossplot) (1.19.5)\n",
            "Requirement already satisfied: cycler>=0.10 in ./.local/lib/python3.8/site-packages (from matplotlib->livelossplot) (0.10.0)\n",
            "Requirement already satisfied: pyparsing!=2.0.4,!=2.1.2,!=2.1.6,>=2.0.3 in /usr/local/lib/python3.8/dist-packages (from matplotlib->livelossplot) (2.4.7)\n",
            "Requirement already satisfied: kiwisolver>=1.0.1 in ./.local/lib/python3.8/site-packages (from matplotlib->livelossplot) (1.3.1)\n",
            "Requirement already satisfied: Jinja2>=2.7 in /usr/lib/python3/dist-packages (from bokeh->livelossplot) (2.10.1)\n",
            "Requirement already satisfied: tornado>=5.1 in /usr/local/lib/python3.8/dist-packages (from bokeh->livelossplot) (6.0.4)\n",
            "Requirement already satisfied: packaging>=16.8 in /usr/local/lib/python3.8/dist-packages (from bokeh->livelossplot) (20.4)\n",
            "Requirement already satisfied: typing-extensions>=3.7.4 in ./.local/lib/python3.8/site-packages (from bokeh->livelossplot) (3.7.4.3)\n",
            "Requirement already satisfied: PyYAML>=3.10 in /usr/lib/python3/dist-packages (from bokeh->livelossplot) (5.3.1)\n",
            "Requirement already satisfied: ptyprocess>=0.5 in /usr/local/lib/python3.8/dist-packages (from pexpect; sys_platform != \"win32\"->ipython->livelossplot) (0.6.0)\n",
            "Requirement already satisfied: ipython-genutils in /usr/local/lib/python3.8/dist-packages (from traitlets>=4.2->ipython->livelossplot) (0.2.0)\n",
            "Requirement already satisfied: six in ./.local/lib/python3.8/site-packages (from traitlets>=4.2->ipython->livelossplot) (1.15.0)\n",
            "Requirement already satisfied: wcwidth in /usr/local/lib/python3.8/dist-packages (from prompt-toolkit!=3.0.0,!=3.0.1,<3.1.0,>=2.0.0->ipython->livelossplot) (0.2.5)\n",
            "Requirement already satisfied: parso<0.8.0,>=0.7.0 in /usr/local/lib/python3.8/dist-packages (from jedi>=0.10->ipython->livelossplot) (0.7.1)\n",
            "Note: you may need to restart the kernel to use updated packages.\n"
          ],
          "name": "stdout"
        }
      ]
    },
    {
      "cell_type": "markdown",
      "metadata": {
        "id": "ql081Ovwtk3d"
      },
      "source": [
        "Importing the module from libraries for Checkpoints, EarlyStopping and for Plotting of acuracy and loss curve for training and validation set"
      ]
    },
    {
      "cell_type": "code",
      "metadata": {
        "id": "ceSSzaYloR-z"
      },
      "source": [
        "from tensorflow.keras.callbacks import ModelCheckpoint, EarlyStopping\n",
        "from livelossplot import PlotLossesKeras"
      ],
      "execution_count": null,
      "outputs": []
    },
    {
      "cell_type": "markdown",
      "metadata": {
        "id": "qqO63H_Ztn0P"
      },
      "source": [
        "Training of model on training set and evaluating on validation set"
      ]
    },
    {
      "cell_type": "code",
      "metadata": {
        "id": "A7w6E5AZoR-z",
        "outputId": "38415e95-212e-4f22-dfdb-486a3d60cbb4"
      },
      "source": [
        "%%time\n",
        "\n",
        "chkpt = ModelCheckpoint(\"model_weights.h5\", monitor='val_loss',verbose=1, save_best_only=True, save_weights_only=True, mode='min')\n",
        "\n",
        "early_stopping = EarlyStopping(monitor='val_accuracy', min_delta=0, patience=1, verbose=0, mode='max', baseline=None, restore_best_weights=False)\n",
        "\n",
        "callbacks = [PlotLossesKeras(), chkpt, early_stopping]\n",
        "\n",
        "history = model.fit(\n",
        "    x=np.array(X_train_char).reshape((len(X_train_char), 1, max_len_char)),\n",
        "    y=np.array(Y_train).reshape(len(Y_train), 1, 1),\n",
        "    validation_data=(np.array(X_valid_char).reshape((len(X_valid_char),1, max_len_char)),\n",
        "                     np.array(Y_valid).reshape(len(Y_valid), 1, 1)),\n",
        "    batch_size=64, \n",
        "    epochs=50,\n",
        "    callbacks=[callbacks],\n",
        "    verbose=1\n",
        ")"
      ],
      "execution_count": null,
      "outputs": [
        {
          "output_type": "display_data",
          "data": {
            "image/png": "[encoded data removed]",
            "text/plain": [
              "<Figure size 864x576 with 2 Axes>"
            ]
          },
          "metadata": {
            "tags": []
          }
        },
        {
          "output_type": "stream",
          "text": [
            "Accuracy\n",
            "\ttraining         \t (min:    0.844, max:    0.897, cur:    0.896)\n",
            "\tvalidation       \t (min:    0.858, max:    0.910, cur:    0.910)\n",
            "Loss\n",
            "\ttraining         \t (min:    0.307, max:    0.467, cur:    0.307)\n",
            "\tvalidation       \t (min:    0.270, max:    0.410, cur:    0.271)\n",
            "\n",
            "Epoch 00050: val_loss did not improve from 0.27041\n",
            "WARNING:tensorflow:Early stopping conditioned on metric `val_accuracy` which is not available. Available metrics are: loss,acc,val_loss,val_acc\n",
            "CPU times: user 7h 21min 31s, sys: 16h 43min 17s, total: 1d 4min 48s\n",
            "Wall time: 2h 10min 39s\n"
          ],
          "name": "stdout"
        }
      ]
    },
    {
      "cell_type": "markdown",
      "metadata": {
        "id": "jGAW9tKstuR3"
      },
      "source": [
        "# Prediction on Test Set"
      ]
    },
    {
      "cell_type": "markdown",
      "metadata": {
        "id": "AJw_rx5ctySI"
      },
      "source": [
        "Predicting the probabilities of tags for the test set"
      ]
    },
    {
      "cell_type": "code",
      "metadata": {
        "id": "GutsV_GcoR-z"
      },
      "source": [
        "y_pred = model.predict(np.asarray(X_test_char).astype('int32').reshape((len(X_test_char),1, max_len_char)))"
      ],
      "execution_count": null,
      "outputs": []
    },
    {
      "cell_type": "markdown",
      "metadata": {
        "id": "-kzDo-hYt1f4"
      },
      "source": [
        "# Performance Metrices"
      ]
    },
    {
      "cell_type": "markdown",
      "metadata": {
        "id": "JuNuBmU-t4dI"
      },
      "source": [
        "Importing the module for metrices used for NER  "
      ]
    },
    {
      "cell_type": "code",
      "metadata": {
        "id": "o3a_QF6uoR-0"
      },
      "source": [
        "from sklearn.metrics import precision_score, recall_score, f1_score, classification_report,confusion_matrix"
      ],
      "execution_count": null,
      "outputs": []
    },
    {
      "cell_type": "markdown",
      "metadata": {
        "id": "aMZl0HBOt6pQ"
      },
      "source": [
        "Converting the predicted probabalities of labels into the tags"
      ]
    },
    {
      "cell_type": "code",
      "metadata": {
        "id": "VyI88JuAoR-0"
      },
      "source": [
        "idx2tag = {i: w for w, i in tag2idx.items()}\n",
        "\n",
        "def pred2label(pred):\n",
        "    out = []\n",
        "    for pred_i in pred:\n",
        "        out_i = []\n",
        "        for p in pred_i:\n",
        "            p_i = np.argmax(p)\n",
        "            out_i.append(idx2tag[p_i].replace(\"PAD\", \"O\"))\n",
        "        out.append(out_i)\n",
        "    return out"
      ],
      "execution_count": null,
      "outputs": []
    },
    {
      "cell_type": "code",
      "metadata": {
        "id": "af22UAqvoR-0"
      },
      "source": [
        "pred_labels = pred2label(y_pred)"
      ],
      "execution_count": null,
      "outputs": []
    },
    {
      "cell_type": "markdown",
      "metadata": {
        "id": "lhb4dMgDt8vX"
      },
      "source": [
        "Converting the indexed tags of true labels into tags"
      ]
    },
    {
      "cell_type": "code",
      "metadata": {
        "id": "K0nx80pOoR-0"
      },
      "source": [
        "def true2label(true_l):\n",
        "    out = []\n",
        "    for i in true_l:\n",
        "        out.append(idx2tag[i])\n",
        "    return out"
      ],
      "execution_count": null,
      "outputs": []
    },
    {
      "cell_type": "code",
      "metadata": {
        "id": "JbBVhCB6oR-0"
      },
      "source": [
        "test_labels = true2label(Y_test)"
      ],
      "execution_count": null,
      "outputs": []
    },
    {
      "cell_type": "markdown",
      "metadata": {
        "id": "onQvmAkVt-5Y"
      },
      "source": [
        "Calculating the F1-score for the test set"
      ]
    },
    {
      "cell_type": "code",
      "metadata": {
        "id": "AIMi2qbKoR-0",
        "outputId": "d15904f1-fc3f-4255-edbe-0112c1934b62"
      },
      "source": [
        "print(\"F1-score: {:.1%}\".format(f1_score(np.asarray(test_labels).reshape(-1,1),np.asarray(pred_labels).reshape(-1,1),average='micro')))"
      ],
      "execution_count": null,
      "outputs": [
        {
          "output_type": "stream",
          "text": [
            "F1-score: 89.3%\n"
          ],
          "name": "stdout"
        }
      ]
    },
    {
      "cell_type": "markdown",
      "metadata": {
        "id": "FWLM-JVNuBv3"
      },
      "source": [
        "Classification Report of the test set"
      ]
    },
    {
      "cell_type": "code",
      "metadata": {
        "id": "yhZZ_HkHoR-1",
        "outputId": "73236f64-edae-40f3-fe9c-b90aa908b132"
      },
      "source": [
        "print(classification_report(np.asarray(test_labels).reshape(-1,1),np.asarray(pred_labels).reshape(-1,1)))"
      ],
      "execution_count": null,
      "outputs": [
        {
          "output_type": "stream",
          "text": [
            "              precision    recall  f1-score   support\n",
            "\n",
            "       B-LOC       0.66      0.67      0.67      1672\n",
            "      B-MISC       0.67      0.55      0.61       706\n",
            "       B-ORG       0.49      0.28      0.36      1663\n",
            "       B-PER       0.39      0.73      0.51      1620\n",
            "       I-LOC       0.55      0.25      0.34       258\n",
            "      I-MISC       0.82      0.39      0.53       216\n",
            "       I-ORG       0.39      0.20      0.27       836\n",
            "       I-PER       0.31      0.20      0.24      1158\n",
            "           O       0.97      0.99      0.98     38536\n",
            "\n",
            "    accuracy                           0.89     46665\n",
            "   macro avg       0.58      0.47      0.50     46665\n",
            "weighted avg       0.89      0.89      0.89     46665\n",
            "\n"
          ],
          "name": "stdout"
        }
      ]
    },
    {
      "cell_type": "markdown",
      "metadata": {
        "id": "YrGsq7ehuDtX"
      },
      "source": [
        "Confusion matrix of test set"
      ]
    },
    {
      "cell_type": "code",
      "metadata": {
        "id": "CHIzRFbooR-1",
        "outputId": "81161d9a-a022-4615-fcb3-7ec690b8bb65"
      },
      "source": [
        "print(confusion_matrix(test_labels, pred_labels))"
      ],
      "execution_count": null,
      "outputs": [
        {
          "output_type": "stream",
          "text": [
            "[[ 1128    13   111   195     5     2     8    80   130]\n",
            " [   39   390    37    66     5     1    12    25   131]\n",
            " [  271    65   469   368     3     6    70   160   251]\n",
            " [   66    28    67  1176    10     1    20   155    97]\n",
            " [   38     8     4    45    65     0    38    21    39]\n",
            " [    1    17     6    31     1    84    12     6    58]\n",
            " [   64    18    60   207    23     4   169    36   255]\n",
            " [   50    17   112   654     6     1    19   229    70]\n",
            " [   40    25    87   289     1     4    87    30 37973]]\n"
          ],
          "name": "stdout"
        }
      ]
    }
  ]
}