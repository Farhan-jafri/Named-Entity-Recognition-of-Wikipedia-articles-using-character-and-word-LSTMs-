{
  "nbformat": 4,
  "nbformat_minor": 0,
  "metadata": {
    "kernelspec": {
      "display_name": "Python 3",
      "language": "python",
      "name": "python3"
    },
    "language_info": {
      "codemirror_mode": {
        "name": "ipython",
        "version": 3
      },
      "file_extension": ".py",
      "mimetype": "text/x-python",
      "name": "python",
      "nbconvert_exporter": "python",
      "pygments_lexer": "ipython3",
      "version": "3.6.12"
    },
    "colab": {
      "name": "NER for Wikipedia Articles using Char Embedding .ipynb",
      "provenance": []
    },
    "accelerator": "GPU"
  },
  "cells": [
    {
      "cell_type": "markdown",
      "metadata": {
        "id": "536GDX6insOg"
      },
      "source": [
        "** NAMED ENTITY RECOGNITION FOR WIKIPEDIA ARTCICLES USING CHARACTER-LEVEL EMBEDDINTGS**\n",
        "\n"
      ]
    },
    {
      "cell_type": "markdown",
      "metadata": {
        "id": "boIMBi8Yn4yc"
      },
      "source": [
        "# Importing Libraries\n"
      ]
    },
    {
      "cell_type": "code",
      "metadata": {
        "colab": {
          "base_uri": "https://localhost:8080/"
        },
        "id": "8peFjklW0TX4",
        "outputId": "e9c232e5-fd19-4451-ca0b-710c601b3238"
      },
      "source": [
        "%matplotlib inline\n",
        "import matplotlib.pyplot as plt\n",
        "import pandas as pd\n",
        "\n",
        "import numpy as np\n",
        "np.random.seed(0)\n",
        "plt.style.use(\"ggplot\")\n",
        "\n",
        "import tensorflow as tf\n",
        "print('Tensorflow version:', tf.__version__)\n",
        "print('GPU detected:', tf.config.list_physical_devices('GPU'))"
      ],
      "execution_count": null,
      "outputs": [
        {
          "output_type": "stream",
          "text": [
            "Tensorflow version: 2.4.1\n",
            "GPU detected: []\n"
          ],
          "name": "stdout"
        }
      ]
    },
    {
      "cell_type": "markdown",
      "metadata": {
        "id": "aTs8hue-pVSM"
      },
      "source": [
        "# Reading Wikipedia Dataset"
      ]
    },
    {
      "cell_type": "code",
      "metadata": {
        "colab": {
          "base_uri": "https://localhost:8080/",
          "height": 669
        },
        "id": "MzEHomn20TYF",
        "outputId": "d36f721e-3706-4d4e-95c9-f35cde74d812"
      },
      "source": [
        "data = pd.read_csv(\"DataSet.csv\", encoding=\"latin1\")\n",
        "data = data.fillna(method=\"ffill\")\n",
        "data.head(20)"
      ],
      "execution_count": null,
      "outputs": [
        {
          "output_type": "execute_result",
          "data": {
            "text/html": [
              "<div>\n",
              "<style scoped>\n",
              "    .dataframe tbody tr th:only-of-type {\n",
              "        vertical-align: middle;\n",
              "    }\n",
              "\n",
              "    .dataframe tbody tr th {\n",
              "        vertical-align: top;\n",
              "    }\n",
              "\n",
              "    .dataframe thead th {\n",
              "        text-align: right;\n",
              "    }\n",
              "</style>\n",
              "<table border=\"1\" class=\"dataframe\">\n",
              "  <thead>\n",
              "    <tr style=\"text-align: right;\">\n",
              "      <th></th>\n",
              "      <th>Sentence #</th>\n",
              "      <th>Word</th>\n",
              "      <th>POS</th>\n",
              "      <th>Tag</th>\n",
              "    </tr>\n",
              "  </thead>\n",
              "  <tbody>\n",
              "    <tr>\n",
              "      <th>0</th>\n",
              "      <td>Sentence: 1</td>\n",
              "      <td>AajTak</td>\n",
              "      <td>NNP</td>\n",
              "      <td>Org</td>\n",
              "    </tr>\n",
              "    <tr>\n",
              "      <th>1</th>\n",
              "      <td>Sentence: 1</td>\n",
              "      <td>is</td>\n",
              "      <td>VBZ</td>\n",
              "      <td>O</td>\n",
              "    </tr>\n",
              "    <tr>\n",
              "      <th>2</th>\n",
              "      <td>Sentence: 1</td>\n",
              "      <td>an</td>\n",
              "      <td>DT</td>\n",
              "      <td>O</td>\n",
              "    </tr>\n",
              "    <tr>\n",
              "      <th>3</th>\n",
              "      <td>Sentence: 1</td>\n",
              "      <td>Indian</td>\n",
              "      <td>JJ</td>\n",
              "      <td>Misc</td>\n",
              "    </tr>\n",
              "    <tr>\n",
              "      <th>4</th>\n",
              "      <td>Sentence: 1</td>\n",
              "      <td>Hindi</td>\n",
              "      <td>NNP</td>\n",
              "      <td>Misc</td>\n",
              "    </tr>\n",
              "    <tr>\n",
              "      <th>5</th>\n",
              "      <td>Sentence: 1</td>\n",
              "      <td>language</td>\n",
              "      <td>NN</td>\n",
              "      <td>O</td>\n",
              "    </tr>\n",
              "    <tr>\n",
              "      <th>6</th>\n",
              "      <td>Sentence: 1</td>\n",
              "      <td>news</td>\n",
              "      <td>NN</td>\n",
              "      <td>O</td>\n",
              "    </tr>\n",
              "    <tr>\n",
              "      <th>7</th>\n",
              "      <td>Sentence: 1</td>\n",
              "      <td>channel</td>\n",
              "      <td>NNS</td>\n",
              "      <td>O</td>\n",
              "    </tr>\n",
              "    <tr>\n",
              "      <th>8</th>\n",
              "      <td>Sentence: 1</td>\n",
              "      <td>owned</td>\n",
              "      <td>VBN</td>\n",
              "      <td>O</td>\n",
              "    </tr>\n",
              "    <tr>\n",
              "      <th>9</th>\n",
              "      <td>Sentence: 1</td>\n",
              "      <td>by</td>\n",
              "      <td>IN</td>\n",
              "      <td>O</td>\n",
              "    </tr>\n",
              "    <tr>\n",
              "      <th>10</th>\n",
              "      <td>Sentence: 1</td>\n",
              "      <td>Living</td>\n",
              "      <td>VBG</td>\n",
              "      <td>Org</td>\n",
              "    </tr>\n",
              "    <tr>\n",
              "      <th>11</th>\n",
              "      <td>Sentence: 1</td>\n",
              "      <td>Media</td>\n",
              "      <td>NNP</td>\n",
              "      <td>Org</td>\n",
              "    </tr>\n",
              "    <tr>\n",
              "      <th>12</th>\n",
              "      <td>Sentence: 1</td>\n",
              "      <td>Group</td>\n",
              "      <td>NNP</td>\n",
              "      <td>Org</td>\n",
              "    </tr>\n",
              "    <tr>\n",
              "      <th>13</th>\n",
              "      <td>Sentence: 1</td>\n",
              "      <td>.</td>\n",
              "      <td>.</td>\n",
              "      <td>O</td>\n",
              "    </tr>\n",
              "    <tr>\n",
              "      <th>14</th>\n",
              "      <td>Sentence: 2</td>\n",
              "      <td>On</td>\n",
              "      <td>IN</td>\n",
              "      <td>O</td>\n",
              "    </tr>\n",
              "    <tr>\n",
              "      <th>15</th>\n",
              "      <td>Sentence: 2</td>\n",
              "      <td>December</td>\n",
              "      <td>NNP</td>\n",
              "      <td>O</td>\n",
              "    </tr>\n",
              "    <tr>\n",
              "      <th>16</th>\n",
              "      <td>Sentence: 2</td>\n",
              "      <td>14</td>\n",
              "      <td>CD</td>\n",
              "      <td>O</td>\n",
              "    </tr>\n",
              "    <tr>\n",
              "      <th>17</th>\n",
              "      <td>Sentence: 2</td>\n",
              "      <td>,</td>\n",
              "      <td>,</td>\n",
              "      <td>O</td>\n",
              "    </tr>\n",
              "    <tr>\n",
              "      <th>18</th>\n",
              "      <td>Sentence: 2</td>\n",
              "      <td>2018</td>\n",
              "      <td>CD</td>\n",
              "      <td>O</td>\n",
              "    </tr>\n",
              "    <tr>\n",
              "      <th>19</th>\n",
              "      <td>Sentence: 2</td>\n",
              "      <td>,</td>\n",
              "      <td>,</td>\n",
              "      <td>O</td>\n",
              "    </tr>\n",
              "  </tbody>\n",
              "</table>\n",
              "</div>"
            ],
            "text/plain": [
              "     Sentence #      Word  POS   Tag\n",
              "0   Sentence: 1    AajTak  NNP   Org\n",
              "1   Sentence: 1        is  VBZ     O\n",
              "2   Sentence: 1        an   DT     O\n",
              "3   Sentence: 1    Indian   JJ  Misc\n",
              "4   Sentence: 1     Hindi  NNP  Misc\n",
              "5   Sentence: 1  language   NN     O\n",
              "6   Sentence: 1      news   NN     O\n",
              "7   Sentence: 1   channel  NNS     O\n",
              "8   Sentence: 1     owned  VBN     O\n",
              "9   Sentence: 1        by   IN     O\n",
              "10  Sentence: 1    Living  VBG   Org\n",
              "11  Sentence: 1     Media  NNP   Org\n",
              "12  Sentence: 1     Group  NNP   Org\n",
              "13  Sentence: 1         .    .     O\n",
              "14  Sentence: 2        On   IN     O\n",
              "15  Sentence: 2  December  NNP     O\n",
              "16  Sentence: 2        14   CD     O\n",
              "17  Sentence: 2         ,    ,     O\n",
              "18  Sentence: 2      2018   CD     O\n",
              "19  Sentence: 2         ,    ,     O"
            ]
          },
          "metadata": {
            "tags": []
          },
          "execution_count": 2
        }
      ]
    },
    {
      "cell_type": "markdown",
      "metadata": {
        "id": "zKtg_qvGpTU6"
      },
      "source": [
        "# Preprocessing of Data"
      ]
    },
    {
      "cell_type": "markdown",
      "metadata": {
        "id": "8hu8VTzi6USS"
      },
      "source": [
        "Length of words in a dataset"
      ]
    },
    {
      "cell_type": "code",
      "metadata": {
        "colab": {
          "base_uri": "https://localhost:8080/"
        },
        "id": "uXFjTFS50TYG",
        "outputId": "cd7c3cf4-501a-4dbc-f4d0-977ccdf3491e"
      },
      "source": [
        "len(data)"
      ],
      "execution_count": null,
      "outputs": [
        {
          "output_type": "execute_result",
          "data": {
            "text/plain": [
              "70418"
            ]
          },
          "metadata": {
            "tags": []
          },
          "execution_count": 3
        }
      ]
    },
    {
      "cell_type": "markdown",
      "metadata": {
        "id": "AYGLM8CJr84Z"
      },
      "source": [
        "Creating the list of unique words\n"
      ]
    },
    {
      "cell_type": "code",
      "metadata": {
        "colab": {
          "base_uri": "https://localhost:8080/"
        },
        "id": "o-TimvDu0TYG",
        "outputId": "0c41f3bc-2f2b-4d28-dd5b-1ba511f97909"
      },
      "source": [
        "words = list(set(data[\"Word\"].values))\n",
        "n_words = len(words); n_words"
      ],
      "execution_count": null,
      "outputs": [
        {
          "output_type": "execute_result",
          "data": {
            "text/plain": [
              "9360"
            ]
          },
          "metadata": {
            "tags": []
          },
          "execution_count": 4
        }
      ]
    },
    {
      "cell_type": "markdown",
      "metadata": {
        "id": "KYpqrRwosBOC"
      },
      "source": [
        "Creating the list of unique tags\n"
      ]
    },
    {
      "cell_type": "code",
      "metadata": {
        "colab": {
          "base_uri": "https://localhost:8080/"
        },
        "id": "jR71_Amk0TYG",
        "outputId": "4471ff98-d00c-4739-c211-2f30ec5c44ca"
      },
      "source": [
        "tags = list(set(data[\"Tag\"].values))\n",
        "n_tags = len(tags); n_tags"
      ],
      "execution_count": null,
      "outputs": [
        {
          "output_type": "execute_result",
          "data": {
            "text/plain": [
              "5"
            ]
          },
          "metadata": {
            "tags": []
          },
          "execution_count": 5
        }
      ]
    },
    {
      "cell_type": "markdown",
      "metadata": {
        "id": "tAjNCeoTqYFg"
      },
      "source": [
        "Converting the dataframe into list of tuples "
      ]
    },
    {
      "cell_type": "code",
      "metadata": {
        "id": "T1zBM6IT0TYH"
      },
      "source": [
        "class SentenceGetter(object):\n",
        "    \n",
        "    def __init__(self, data):\n",
        "        self.n_sent = 1\n",
        "        self.data = data\n",
        "        self.empty = False\n",
        "        agg_func = lambda s: [(w, p, t) for w, p, t in zip(s[\"Word\"].values.tolist(),\n",
        "                                                           s[\"POS\"].values.tolist(),\n",
        "                                                           s[\"Tag\"].values.tolist())]\n",
        "        self.grouped = self.data.groupby(\"Sentence #\").apply(agg_func)\n",
        "        self.sentences = [s for s in self.grouped]\n",
        "    \n",
        "    def get_next(self):\n",
        "        try:\n",
        "            s = self.grouped[\"Sentence: {}\".format(self.n_sent)]\n",
        "            self.n_sent += 1\n",
        "            return s\n",
        "        except:\n",
        "            return None"
      ],
      "execution_count": null,
      "outputs": []
    },
    {
      "cell_type": "code",
      "metadata": {
        "id": "tckb-aOq0TYH"
      },
      "source": [
        "getter = SentenceGetter(data)\n",
        "sentences = getter.sentences"
      ],
      "execution_count": null,
      "outputs": []
    },
    {
      "cell_type": "markdown",
      "metadata": {
        "id": "QQZezUQWqkjG"
      },
      "source": [
        "Creating the word2idx, idx2word,tag2idx and idx2tag to map the every  unique word to an index and to map every unique tag to an index vice versa"
      ]
    },
    {
      "cell_type": "code",
      "metadata": {
        "id": "Ja7424gB0TYH"
      },
      "source": [
        "word2idx = {w: i + 2 for i, w in enumerate(words)}\n",
        "word2idx[\"UNK\"] = 1\n",
        "word2idx[\"PAD\"] = 0\n",
        "idx2word = {i: w for w, i in word2idx.items()}\n",
        "tag2idx = {t: i + 1 for i, t in enumerate(tags)}\n",
        "tag2idx[\"PAD\"] = 0\n",
        "idx2tag = {i: w for w, i in tag2idx.items()}"
      ],
      "execution_count": null,
      "outputs": []
    },
    {
      "cell_type": "markdown",
      "metadata": {
        "id": "CBBZr0LhrJoQ"
      },
      "source": [
        "Creating the list of unique characters"
      ]
    },
    {
      "cell_type": "code",
      "metadata": {
        "colab": {
          "base_uri": "https://localhost:8080/"
        },
        "id": "7s_7KEI70TYI",
        "outputId": "510234f1-1d1e-4703-9ab2-4dfee4effcbd"
      },
      "source": [
        "chars = set([w_i for w in words for w_i in w])\n",
        "n_chars = len(chars)\n",
        "print(n_chars)"
      ],
      "execution_count": null,
      "outputs": [
        {
          "output_type": "stream",
          "text": [
            "88\n"
          ],
          "name": "stdout"
        }
      ]
    },
    {
      "cell_type": "markdown",
      "metadata": {
        "id": "nfSzTeFgrbHt"
      },
      "source": [
        "Creating the char2idx to map every unique character to index\n"
      ]
    },
    {
      "cell_type": "code",
      "metadata": {
        "id": "GO3HT6Pb0TYI"
      },
      "source": [
        "char2idx = {c: i + 2 for i, c in enumerate(chars)}\n",
        "char2idx[\"UNK\"] = 1\n",
        "char2idx[\"PAD\"] = 0"
      ],
      "execution_count": null,
      "outputs": []
    },
    {
      "cell_type": "markdown",
      "metadata": {
        "id": "4tZB0JEPsI33"
      },
      "source": [
        "Plotting the lengths of words in a sentence"
      ]
    },
    {
      "cell_type": "code",
      "metadata": {
        "colab": {
          "base_uri": "https://localhost:8080/",
          "height": 265
        },
        "id": "OxTQq3Ih0TYI",
        "outputId": "68f83cbf-481a-401f-d28b-ce5e8bdf25e2"
      },
      "source": [
        "plt.hist([len(w) for w in words],bins=30)\n",
        "plt.show()"
      ],
      "execution_count": null,
      "outputs": [
        {
          "output_type": "display_data",
          "data": {
            "image/png": "[encoded data removed]",
            "text/plain": [
              "<Figure size 432x288 with 1 Axes>"
            ]
          },
          "metadata": {
            "tags": [],
            "needs_background": "light"
          }
        }
      ]
    },
    {
      "cell_type": "markdown",
      "metadata": {
        "id": "77u9DdADsYM7"
      },
      "source": [
        "Plotting the lengths of sentences in a dataset"
      ]
    },
    {
      "cell_type": "code",
      "metadata": {
        "colab": {
          "base_uri": "https://localhost:8080/",
          "height": 265
        },
        "id": "kaauTtR50TYJ",
        "outputId": "f3ce1bd8-722c-4ff1-aeff-e9a74731d2b7"
      },
      "source": [
        "plt.hist([len(s) for s in sentences], bins=50)\n",
        "plt.show()"
      ],
      "execution_count": null,
      "outputs": [
        {
          "output_type": "display_data",
          "data": {
            "image/png": "[encoded data removed]",
            "text/plain": [
              "<Figure size 432x288 with 1 Axes>"
            ]
          },
          "metadata": {
            "tags": [],
            "needs_background": "light"
          }
        }
      ]
    },
    {
      "cell_type": "markdown",
      "metadata": {
        "id": "DepJ_fkAshPz"
      },
      "source": [
        "Taking maximum length of sentencs and words for padding"
      ]
    },
    {
      "cell_type": "code",
      "metadata": {
        "id": "IHwnwIoO0TYJ"
      },
      "source": [
        "max_len = 80\n",
        "max_len_char = 20"
      ],
      "execution_count": null,
      "outputs": []
    },
    {
      "cell_type": "markdown",
      "metadata": {
        "id": "6EZRZivMtADs"
      },
      "source": [
        "Creating the 2-D list having mapped with indexes for every character of words in a sentences with padding"
      ]
    },
    {
      "cell_type": "code",
      "metadata": {
        "id": "_cLhKqwl0TYJ"
      },
      "source": [
        "X_char = []\n",
        "for sentence in sentences:\n",
        "    sent_seq = []\n",
        "    for i in range(max_len):\n",
        "        word_seq = []\n",
        "        for j in range(max_len_char):\n",
        "            try:\n",
        "                word_seq.append(char2idx.get(sentence[i][0][j]))\n",
        "            except:\n",
        "                word_seq.append(char2idx.get(\"PAD\"))\n",
        "        sent_seq.append(word_seq)\n",
        "    X_char.append(np.array(sent_seq))"
      ],
      "execution_count": null,
      "outputs": []
    },
    {
      "cell_type": "markdown",
      "metadata": {
        "id": "TtoSrqx3uW8z"
      },
      "source": [
        "Creating the 2-D list of tags as y with padding "
      ]
    },
    {
      "cell_type": "code",
      "metadata": {
        "id": "bfkhw2D80TYJ"
      },
      "source": [
        "from keras.preprocessing.sequence import pad_sequences\n",
        "\n",
        "y = [[tag2idx[w[2]] for w in s] for s in sentences]\n",
        "y = pad_sequences(maxlen=max_len, sequences=y, value=tag2idx[\"PAD\"], padding='post', truncating='post')"
      ],
      "execution_count": null,
      "outputs": []
    },
    {
      "cell_type": "markdown",
      "metadata": {
        "id": "q8oQkzaTus8R"
      },
      "source": [
        "Splitting the dataset into training, validation and test set"
      ]
    },
    {
      "cell_type": "code",
      "metadata": {
        "id": "O0mX7K0w0TYK"
      },
      "source": [
        "from sklearn.model_selection import train_test_split\n",
        "\n",
        "X_char_d, X_char_test, y_char_d, y_test= train_test_split(X_char, y, test_size=1/6,shuffle=False)"
      ],
      "execution_count": null,
      "outputs": []
    },
    {
      "cell_type": "code",
      "metadata": {
        "id": "z4jBMiNl0TYK"
      },
      "source": [
        "X_char_train, X_char_val, y_train, y_val = train_test_split(X_char_d, y_char_d, test_size=0.2,shuffle=False)"
      ],
      "execution_count": null,
      "outputs": []
    },
    {
      "cell_type": "markdown",
      "metadata": {
        "id": "11xn6MvCvOVt"
      },
      "source": [
        "# Training"
      ]
    },
    {
      "cell_type": "markdown",
      "metadata": {
        "id": "JWoaUS6EvWKK"
      },
      "source": [
        "Importing the model layers "
      ]
    },
    {
      "cell_type": "code",
      "metadata": {
        "id": "-CNoFUEK0TYK"
      },
      "source": [
        "from keras.models import Model, Input\n",
        "from keras.layers import LSTM, Embedding, Dense, TimeDistributed, Dropout, Conv1D\n",
        "from keras.layers import Bidirectional, concatenate, SpatialDropout1D, GlobalMaxPooling1D"
      ],
      "execution_count": null,
      "outputs": []
    },
    {
      "cell_type": "markdown",
      "metadata": {
        "id": "rRO9Vo5tyTAL"
      },
      "source": [
        "Arctitecture of model\n"
      ]
    },
    {
      "cell_type": "code",
      "metadata": {
        "colab": {
          "base_uri": "https://localhost:8080/"
        },
        "id": "RvbIsSHd0TYK",
        "outputId": "f4d66fd2-61bf-4969-9785-b3fe155bbc67"
      },
      "source": [
        "# Input and embeddings for characters\n",
        "char_in = Input(shape=(max_len, max_len_char,))\n",
        "emb_char = Embedding(input_dim=n_chars +2, output_dim=15,\n",
        "                           input_length=max_len_char, mask_zero=True)(char_in)\n",
        "\n",
        "# Character LSTM to get word encodings by characters\n",
        "char_enc = TimeDistributed(Bidirectional(LSTM(units=20, return_sequences=False,\n",
        "                                recurrent_dropout=0.5)))(emb_char)\n",
        "\n",
        "# Main LSTM\n",
        "x = SpatialDropout1D(0.5)(char_enc)\n",
        "main_lstm = Bidirectional(LSTM(units=224, return_sequences=True,\n",
        "                               recurrent_dropout=0.5))(x)\n",
        "main_lstm = Dense(256,activation='relu')(main_lstm)\n",
        "main_lstm = Dropout(0.1)(main_lstm)\n",
        "out = TimeDistributed(Dense(n_tags+1, activation=\"softmax\"))(main_lstm)\n",
        "\n",
        "model = Model([char_in], out)\n",
        "model.summary()"
      ],
      "execution_count": null,
      "outputs": [
        {
          "output_type": "stream",
          "text": [
            "Model: \"model\"\n",
            "_________________________________________________________________\n",
            "Layer (type)                 Output Shape              Param #   \n",
            "=================================================================\n",
            "input_1 (InputLayer)         [(None, 80, 20)]          0         \n",
            "_________________________________________________________________\n",
            "embedding (Embedding)        (None, 80, 20, 15)        1350      \n",
            "_________________________________________________________________\n",
            "time_distributed (TimeDistri (None, 80, 40)            5760      \n",
            "_________________________________________________________________\n",
            "spatial_dropout1d (SpatialDr (None, 80, 40)            0         \n",
            "_________________________________________________________________\n",
            "bidirectional_1 (Bidirection (None, 80, 448)           474880    \n",
            "_________________________________________________________________\n",
            "dense (Dense)                (None, 80, 256)           114944    \n",
            "_________________________________________________________________\n",
            "dropout (Dropout)            (None, 80, 256)           0         \n",
            "_________________________________________________________________\n",
            "time_distributed_1 (TimeDist (None, 80, 6)             1542      \n",
            "=================================================================\n",
            "Total params: 598,476\n",
            "Trainable params: 598,476\n",
            "Non-trainable params: 0\n",
            "_________________________________________________________________\n"
          ],
          "name": "stdout"
        }
      ]
    },
    {
      "cell_type": "markdown",
      "metadata": {
        "id": "pwOrvjosyYbT"
      },
      "source": [
        "Compiling of model\n"
      ]
    },
    {
      "cell_type": "code",
      "metadata": {
        "id": "wL25x2XE0TYL"
      },
      "source": [
        "model.compile(optimizer=\"adam\", loss=\"sparse_categorical_crossentropy\", metrics=[\"acc\"])"
      ],
      "execution_count": null,
      "outputs": []
    },
    {
      "cell_type": "code",
      "metadata": {
        "colab": {
          "base_uri": "https://localhost:8080/"
        },
        "id": "C8Cca3MO0TYL",
        "outputId": "1b2c8e3b-9dc6-4439-cad1-e03fa125dc85"
      },
      "source": [
        "pip install livelossplot"
      ],
      "execution_count": null,
      "outputs": [
        {
          "output_type": "stream",
          "text": [
            "Collecting livelossplot\n",
            "  Downloading https://files.pythonhosted.org/packages/57/26/840be243088ce142d61c60273408ec09fa1de4534056a56d6e91b73f0cae/livelossplot-0.5.4-py3-none-any.whl\n",
            "Requirement already satisfied: bokeh in /usr/local/lib/python3.7/dist-packages (from livelossplot) (2.3.1)\n",
            "Requirement already satisfied: ipython in /usr/local/lib/python3.7/dist-packages (from livelossplot) (5.5.0)\n",
            "Requirement already satisfied: matplotlib in /usr/local/lib/python3.7/dist-packages (from livelossplot) (3.2.2)\n",
            "Requirement already satisfied: tornado>=5.1 in /usr/local/lib/python3.7/dist-packages (from bokeh->livelossplot) (5.1.1)\n",
            "Requirement already satisfied: numpy>=1.11.3 in /usr/local/lib/python3.7/dist-packages (from bokeh->livelossplot) (1.19.5)\n",
            "Requirement already satisfied: packaging>=16.8 in /usr/local/lib/python3.7/dist-packages (from bokeh->livelossplot) (20.9)\n",
            "Requirement already satisfied: PyYAML>=3.10 in /usr/local/lib/python3.7/dist-packages (from bokeh->livelossplot) (3.13)\n",
            "Requirement already satisfied: typing-extensions>=3.7.4 in /usr/local/lib/python3.7/dist-packages (from bokeh->livelossplot) (3.7.4.3)\n",
            "Requirement already satisfied: Jinja2>=2.7 in /usr/local/lib/python3.7/dist-packages (from bokeh->livelossplot) (2.11.3)\n",
            "Requirement already satisfied: python-dateutil>=2.1 in /usr/local/lib/python3.7/dist-packages (from bokeh->livelossplot) (2.8.1)\n",
            "Requirement already satisfied: pillow>=7.1.0 in /usr/local/lib/python3.7/dist-packages (from bokeh->livelossplot) (7.1.2)\n",
            "Requirement already satisfied: decorator in /usr/local/lib/python3.7/dist-packages (from ipython->livelossplot) (4.4.2)\n",
            "Requirement already satisfied: prompt-toolkit<2.0.0,>=1.0.4 in /usr/local/lib/python3.7/dist-packages (from ipython->livelossplot) (1.0.18)\n",
            "Requirement already satisfied: traitlets>=4.2 in /usr/local/lib/python3.7/dist-packages (from ipython->livelossplot) (5.0.5)\n",
            "Requirement already satisfied: pickleshare in /usr/local/lib/python3.7/dist-packages (from ipython->livelossplot) (0.7.5)\n",
            "Requirement already satisfied: pexpect; sys_platform != \"win32\" in /usr/local/lib/python3.7/dist-packages (from ipython->livelossplot) (4.8.0)\n",
            "Requirement already satisfied: pygments in /usr/local/lib/python3.7/dist-packages (from ipython->livelossplot) (2.6.1)\n",
            "Requirement already satisfied: setuptools>=18.5 in /usr/local/lib/python3.7/dist-packages (from ipython->livelossplot) (56.0.0)\n",
            "Requirement already satisfied: simplegeneric>0.8 in /usr/local/lib/python3.7/dist-packages (from ipython->livelossplot) (0.8.1)\n",
            "Requirement already satisfied: kiwisolver>=1.0.1 in /usr/local/lib/python3.7/dist-packages (from matplotlib->livelossplot) (1.3.1)\n",
            "Requirement already satisfied: cycler>=0.10 in /usr/local/lib/python3.7/dist-packages (from matplotlib->livelossplot) (0.10.0)\n",
            "Requirement already satisfied: pyparsing!=2.0.4,!=2.1.2,!=2.1.6,>=2.0.1 in /usr/local/lib/python3.7/dist-packages (from matplotlib->livelossplot) (2.4.7)\n",
            "Requirement already satisfied: MarkupSafe>=0.23 in /usr/local/lib/python3.7/dist-packages (from Jinja2>=2.7->bokeh->livelossplot) (1.1.1)\n",
            "Requirement already satisfied: six>=1.5 in /usr/local/lib/python3.7/dist-packages (from python-dateutil>=2.1->bokeh->livelossplot) (1.15.0)\n",
            "Requirement already satisfied: wcwidth in /usr/local/lib/python3.7/dist-packages (from prompt-toolkit<2.0.0,>=1.0.4->ipython->livelossplot) (0.2.5)\n",
            "Requirement already satisfied: ipython-genutils in /usr/local/lib/python3.7/dist-packages (from traitlets>=4.2->ipython->livelossplot) (0.2.0)\n",
            "Requirement already satisfied: ptyprocess>=0.5 in /usr/local/lib/python3.7/dist-packages (from pexpect; sys_platform != \"win32\"->ipython->livelossplot) (0.7.0)\n",
            "Installing collected packages: livelossplot\n",
            "Successfully installed livelossplot-0.5.4\n"
          ],
          "name": "stdout"
        }
      ]
    },
    {
      "cell_type": "markdown",
      "metadata": {
        "id": "9xwufkeCykZ6"
      },
      "source": [
        "Importing the module from libraries for Checkpoints, EarlyStopping and for Plotting of acuracy and loss curve for training and validation set"
      ]
    },
    {
      "cell_type": "code",
      "metadata": {
        "id": "mV8k1mfm0TYL"
      },
      "source": [
        "from tensorflow.keras.callbacks import ModelCheckpoint, EarlyStopping\n",
        "from livelossplot import PlotLossesKeras"
      ],
      "execution_count": null,
      "outputs": []
    },
    {
      "cell_type": "markdown",
      "metadata": {
        "id": "3nf58J0HzCSM"
      },
      "source": [
        "Training of model on training set and evaluating on validation set"
      ]
    },
    {
      "cell_type": "code",
      "metadata": {
        "colab": {
          "base_uri": "https://localhost:8080/",
          "height": 755
        },
        "id": "yaZs1Ibl0TYM",
        "outputId": "3ad29d21-56df-4c6c-8dd3-39d947cad1f4"
      },
      "source": [
        "%%time\n",
        "\n",
        "chkpt = ModelCheckpoint(\"model_weights_cha.h5\", monitor='val_loss',verbose=1, save_best_only=True, save_weights_only=True, mode='min')\n",
        "\n",
        "early_stopping = EarlyStopping(monitor='val_acc', min_delta=0, patience=3, verbose=0, mode='max', baseline=None, restore_best_weights=False)\n",
        "\n",
        "callbacks = [PlotLossesKeras(), chkpt, early_stopping]\n",
        "\n",
        "history = model.fit(\n",
        "    np.array(X_char_train).reshape((len(X_char_train), max_len, max_len_char)),\n",
        "    np.array(y_train).reshape(len(y_train), max_len, 1),\n",
        "    validation_data=(np.array(X_char_val).reshape((len(X_char_val), max_len, max_len_char)),np.array(y_val).reshape(len(y_val), max_len, 1)),\n",
        "    batch_size=64, \n",
        "    epochs=50,\n",
        "    callbacks=[callbacks],\n",
        "    verbose=1\n",
        ")"
      ],
      "execution_count": null,
      "outputs": [
        {
          "output_type": "display_data",
          "data": {
            "image/png": "[encoded data removed]",
            "text/plain": [
              "<Figure size 864x576 with 2 Axes>"
            ]
          },
          "metadata": {
            "tags": [],
            "needs_background": "light"
          }
        },
        {
          "output_type": "stream",
          "text": [
            "Accuracy\n",
            "\ttraining         \t (min:    0.773, max:    0.905, cur:    0.905)\n",
            "\tvalidation       \t (min:    0.777, max:    0.900, cur:    0.898)\n",
            "Loss\n",
            "\ttraining         \t (min:    0.076, max:    0.292, cur:    0.076)\n",
            "\tvalidation       \t (min:    0.081, max:    0.210, cur:    0.081)\n",
            "\n",
            "Epoch 00016: val_loss did not improve from 0.08082\n",
            "CPU times: user 33min 3s, sys: 2min 25s, total: 35min 28s\n",
            "Wall time: 18min 31s\n"
          ],
          "name": "stdout"
        }
      ]
    },
    {
      "cell_type": "markdown",
      "metadata": {
        "id": "y2OMVEIl1r5W"
      },
      "source": [
        "# Prediction on Test Set"
      ]
    },
    {
      "cell_type": "markdown",
      "metadata": {
        "id": "0E0W0sUrzTy8"
      },
      "source": [
        "Predicting the probabilities of tags for the test set"
      ]
    },
    {
      "cell_type": "code",
      "metadata": {
        "id": "KWemUHvH0TYM"
      },
      "source": [
        "y_pred = model.predict(np.asarray(X_char_test).astype('int32').reshape((len(X_char_test),max_len, max_len_char)))"
      ],
      "execution_count": null,
      "outputs": []
    },
    {
      "cell_type": "code",
      "metadata": {
        "colab": {
          "base_uri": "https://localhost:8080/"
        },
        "id": "Y2qoRR55-qwO",
        "outputId": "eea29742-c8cb-43d9-dbf3-0f33e3573cdc"
      },
      "source": [
        "model.evaluate(np.asarray(X_char_test).astype('int32').reshape((len(X_char_test),max_len, max_len_char)),np.array(y_test).reshape(len(y_test), max_len, 1))"
      ],
      "execution_count": null,
      "outputs": [
        {
          "output_type": "stream",
          "text": [
            "16/16 [==============================] - 4s 199ms/step - loss: 0.0898 - acc: 0.8905\n"
          ],
          "name": "stdout"
        },
        {
          "output_type": "execute_result",
          "data": {
            "text/plain": [
              "[0.08975569158792496, 0.8904753923416138]"
            ]
          },
          "metadata": {
            "tags": []
          },
          "execution_count": 26
        }
      ]
    },
    {
      "cell_type": "markdown",
      "metadata": {
        "id": "80IXCeKz9VE_"
      },
      "source": [
        "# Performance Metrices"
      ]
    },
    {
      "cell_type": "markdown",
      "metadata": {
        "id": "nFZihOVFzd9N"
      },
      "source": [
        "Importing the module for metrices used for NER  "
      ]
    },
    {
      "cell_type": "code",
      "metadata": {
        "id": "dEVF1asc0TYM"
      },
      "source": [
        "from sklearn.metrics import precision_score, recall_score, f1_score, classification_report,confusion_matrix"
      ],
      "execution_count": null,
      "outputs": []
    },
    {
      "cell_type": "markdown",
      "metadata": {
        "id": "QO8F7uJc0D9W"
      },
      "source": [
        "Converting the predicted probabalities of labels into the tags"
      ]
    },
    {
      "cell_type": "code",
      "metadata": {
        "id": "lxvWWagm0TYM"
      },
      "source": [
        "idx2tag = {i: w for w, i in tag2idx.items()}\n",
        "\n",
        "def pred2label(pred):\n",
        "    out = []\n",
        "    for pred_i in pred:\n",
        "        out_i = []\n",
        "        for p in pred_i:\n",
        "            p_i = np.argmax(p)\n",
        "            out_i.append(idx2tag[p_i].replace(\"PAD\", \"O\"))\n",
        "        out.append(out_i)\n",
        "    return out\n",
        "    \n",
        "pred_labels = pred2label(y_pred)"
      ],
      "execution_count": null,
      "outputs": []
    },
    {
      "cell_type": "markdown",
      "metadata": {
        "id": "fUY0PO0S0eNJ"
      },
      "source": [
        "Converting the indexed tags of true labels into tags"
      ]
    },
    {
      "cell_type": "code",
      "metadata": {
        "id": "UfeSdM120TYN"
      },
      "source": [
        "def true2label(true_l):\n",
        "    out = []\n",
        "    for pred_i in true_l:\n",
        "        out_i = []\n",
        "        for p in pred_i:\n",
        "            out_i.append(idx2tag[p].replace(\"PAD\", \"O\"))\n",
        "        out.append(out_i)\n",
        "    return out"
      ],
      "execution_count": null,
      "outputs": []
    },
    {
      "cell_type": "code",
      "metadata": {
        "id": "exbey13n0TYN"
      },
      "source": [
        "test_labels = true2label(y_test)"
      ],
      "execution_count": null,
      "outputs": []
    },
    {
      "cell_type": "markdown",
      "metadata": {
        "id": "ND2PyPV007WQ"
      },
      "source": [
        "Calculating the F1-score for the test set"
      ]
    },
    {
      "cell_type": "code",
      "metadata": {
        "colab": {
          "base_uri": "https://localhost:8080/"
        },
        "id": "W5YS1aUt0TYN",
        "outputId": "cc5e41d5-ecd6-408f-9236-c0a549cc92c8"
      },
      "source": [
        "print(\"F1-score: {:.1%}\".format(f1_score(np.asarray(test_labels).reshape(-1,1),np.asarray(pred_labels).reshape(-1,1),average='micro')))"
      ],
      "execution_count": null,
      "outputs": [
        {
          "output_type": "stream",
          "text": [
            "F1-score: 96.7%\n"
          ],
          "name": "stdout"
        }
      ]
    },
    {
      "cell_type": "markdown",
      "metadata": {
        "id": "FZIk4qv81FGQ"
      },
      "source": [
        "Classification Report of the test set"
      ]
    },
    {
      "cell_type": "code",
      "metadata": {
        "colab": {
          "base_uri": "https://localhost:8080/"
        },
        "id": "E8D-KnQL0TYN",
        "outputId": "c841ad14-ef29-4024-df5f-79e6a61db238"
      },
      "source": [
        "print(classification_report(np.asarray(test_labels).reshape(-1,1),np.asarray(pred_labels).reshape(-1,1)))"
      ],
      "execution_count": null,
      "outputs": [
        {
          "output_type": "stream",
          "text": [
            "              precision    recall  f1-score   support\n",
            "\n",
            "         Loc       0.71      0.60      0.65       569\n",
            "        Misc       0.73      0.10      0.18        78\n",
            "           O       0.99      0.99      0.99     37753\n",
            "         Org       0.60      0.77      0.68      1461\n",
            "         Per       0.25      0.04      0.06       139\n",
            "\n",
            "    accuracy                           0.97     40000\n",
            "   macro avg       0.66      0.50      0.51     40000\n",
            "weighted avg       0.97      0.97      0.97     40000\n",
            "\n"
          ],
          "name": "stdout"
        }
      ]
    },
    {
      "cell_type": "markdown",
      "metadata": {
        "id": "v4tlNeSG1ZGg"
      },
      "source": [
        "Printing the words with corrected tags and predicted tags for a sentences at index i in the test set"
      ]
    },
    {
      "cell_type": "code",
      "metadata": {
        "id": "GScHSt9z0TYO"
      },
      "source": [
        "i = 7\n",
        "p = np.argmax(y_pred[i], axis=-1)\n",
        "print(\"{:15}||{:5}||{}\".format(\"Word\", \"True\", \"Pred\"))\n",
        "print(30 * \"=\")\n",
        "for w, t, pred in zip(X_test[i], y_test[i], p):\n",
        "    if w != 0:\n",
        "        print(\"{:15}: {:5} {}\".format(idx2word[w], idx2tag[t], idx2tag[pred]))"
      ],
      "execution_count": null,
      "outputs": []
    },
    {
      "cell_type": "markdown",
      "metadata": {
        "id": "SCDiWppp1PgJ"
      },
      "source": [
        "Confusion matrix of test set"
      ]
    },
    {
      "cell_type": "code",
      "metadata": {
        "colab": {
          "base_uri": "https://localhost:8080/"
        },
        "id": "VaFlnJWf0TYO",
        "outputId": "673b812d-cb14-46a4-cc78-bb135f775ca0"
      },
      "source": [
        "print(confusion_matrix(np.asarray(test_labels).reshape(-1,1),np.asarray(pred_labels).reshape(-1,1)))"
      ],
      "execution_count": null,
      "outputs": [
        {
          "output_type": "stream",
          "text": [
            "[[  343     2    84   133     7]\n",
            " [   29     8    28    13     0]\n",
            " [   26     0 37215   508     4]\n",
            " [   61     1   270  1125     4]\n",
            " [   24     0    27    83     5]]\n"
          ],
          "name": "stdout"
        }
      ]
    }
  ]
}