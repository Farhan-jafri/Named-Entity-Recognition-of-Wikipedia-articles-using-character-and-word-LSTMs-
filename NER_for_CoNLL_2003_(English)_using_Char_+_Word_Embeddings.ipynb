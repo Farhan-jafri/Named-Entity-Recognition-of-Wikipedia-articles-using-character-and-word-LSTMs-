{
  "nbformat": 4,
  "nbformat_minor": 0,
  "metadata": {
    "kernelspec": {
      "display_name": "Python 3",
      "language": "python",
      "name": "python3"
    },
    "language_info": {
      "codemirror_mode": {
        "name": "ipython",
        "version": 3
      },
      "file_extension": ".py",
      "mimetype": "text/x-python",
      "name": "python",
      "nbconvert_exporter": "python",
      "pygments_lexer": "ipython3",
      "version": "3.6.12"
    },
    "colab": {
      "name": "NER for CoNLL-2003 (English) using Char + Word Embeddings.ipynb",
      "provenance": []
    }
  },
  "cells": [
    {
      "cell_type": "markdown",
      "metadata": {
        "id": "K8amdGpKeOBK"
      },
      "source": [
        "\n",
        "** NAMED ENTITY RECOGNITION FOR CONLL-2003 (ENGLISH) SHARED TASK USING CHARACTER-LEVEL EMBEDDINTGS + WORD EMBEDDINGS**\n",
        "\n"
      ]
    },
    {
      "cell_type": "markdown",
      "metadata": {
        "id": "--LcQ6cGeoxy"
      },
      "source": [
        "# Importing Libraries"
      ]
    },
    {
      "cell_type": "code",
      "metadata": {
        "id": "auBBdMg9eGtp",
        "outputId": "cafe829a-0aea-4214-ff5d-d15ad8fa5549"
      },
      "source": [
        "%matplotlib inline\n",
        "import matplotlib.pyplot as plt\n",
        "import pandas as pd\n",
        "\n",
        "import numpy as np\n",
        "np.random.seed(0)\n",
        "plt.style.use(\"ggplot\")\n",
        "import tensorflow as tf\n",
        "print('Tensorflow version:', tf.__version__)\n",
        "print('GPU detected:', tf.config.list_physical_devices('GPU'))"
      ],
      "execution_count": null,
      "outputs": [
        {
          "output_type": "stream",
          "text": [
            "Tensorflow version: 2.4.1\n",
            "GPU detected: []\n"
          ],
          "name": "stdout"
        }
      ]
    },
    {
      "cell_type": "markdown",
      "metadata": {
        "id": "WJzyJuG4eqKR"
      },
      "source": [
        "# Reading of Datasets"
      ]
    },
    {
      "cell_type": "code",
      "metadata": {
        "id": "L_FdMKXmeGtw"
      },
      "source": [
        "train = pd.read_csv ('train.txt',delimiter=' ')\n",
        "train.to_csv ('new_train.csv', index=None)\n",
        "valid = pd.read_csv ('valid.txt',delimiter=' ')\n",
        "valid.to_csv ('new_valid.csv', index=None)\n",
        "test = pd.read_csv ('test.txt',delimiter=' ')\n",
        "test.to_csv ('new_test.csv', index=None)"
      ],
      "execution_count": null,
      "outputs": []
    },
    {
      "cell_type": "markdown",
      "metadata": {
        "id": "0bqLUR8kesyp"
      },
      "source": [
        "# Preprocessing of Data"
      ]
    },
    {
      "cell_type": "code",
      "metadata": {
        "id": "W73JRjbheGty",
        "outputId": "ffbeca1e-a477-4bfe-81be-b9e804e803f4"
      },
      "source": [
        "train.head()"
      ],
      "execution_count": null,
      "outputs": [
        {
          "output_type": "execute_result",
          "data": {
            "text/html": [
              "<div>\n",
              "<style scoped>\n",
              "    .dataframe tbody tr th:only-of-type {\n",
              "        vertical-align: middle;\n",
              "    }\n",
              "\n",
              "    .dataframe tbody tr th {\n",
              "        vertical-align: top;\n",
              "    }\n",
              "\n",
              "    .dataframe thead th {\n",
              "        text-align: right;\n",
              "    }\n",
              "</style>\n",
              "<table border=\"1\" class=\"dataframe\">\n",
              "  <thead>\n",
              "    <tr style=\"text-align: right;\">\n",
              "      <th></th>\n",
              "      <th>-DOCSTART-</th>\n",
              "      <th>-X-</th>\n",
              "      <th>-X-.1</th>\n",
              "      <th>O</th>\n",
              "    </tr>\n",
              "  </thead>\n",
              "  <tbody>\n",
              "    <tr>\n",
              "      <th>0</th>\n",
              "      <td>EU</td>\n",
              "      <td>NNP</td>\n",
              "      <td>B-NP</td>\n",
              "      <td>B-ORG</td>\n",
              "    </tr>\n",
              "    <tr>\n",
              "      <th>1</th>\n",
              "      <td>rejects</td>\n",
              "      <td>VBZ</td>\n",
              "      <td>B-VP</td>\n",
              "      <td>O</td>\n",
              "    </tr>\n",
              "    <tr>\n",
              "      <th>2</th>\n",
              "      <td>German</td>\n",
              "      <td>JJ</td>\n",
              "      <td>B-NP</td>\n",
              "      <td>B-MISC</td>\n",
              "    </tr>\n",
              "    <tr>\n",
              "      <th>3</th>\n",
              "      <td>call</td>\n",
              "      <td>NN</td>\n",
              "      <td>I-NP</td>\n",
              "      <td>O</td>\n",
              "    </tr>\n",
              "    <tr>\n",
              "      <th>4</th>\n",
              "      <td>to</td>\n",
              "      <td>TO</td>\n",
              "      <td>B-VP</td>\n",
              "      <td>O</td>\n",
              "    </tr>\n",
              "  </tbody>\n",
              "</table>\n",
              "</div>"
            ],
            "text/plain": [
              "  -DOCSTART-  -X- -X-.1       O\n",
              "0         EU  NNP  B-NP   B-ORG\n",
              "1    rejects  VBZ  B-VP       O\n",
              "2     German   JJ  B-NP  B-MISC\n",
              "3       call   NN  I-NP       O\n",
              "4         to   TO  B-VP       O"
            ]
          },
          "metadata": {
            "tags": []
          },
          "execution_count": 3
        }
      ]
    },
    {
      "cell_type": "code",
      "metadata": {
        "id": "mbxD8KVeeGtz",
        "outputId": "653f33a8-d651-436f-807f-97fb61cccec3"
      },
      "source": [
        "len(train)"
      ],
      "execution_count": null,
      "outputs": [
        {
          "output_type": "execute_result",
          "data": {
            "text/plain": [
              "204566"
            ]
          },
          "metadata": {
            "tags": []
          },
          "execution_count": 4
        }
      ]
    },
    {
      "cell_type": "code",
      "metadata": {
        "id": "lyqdWH43eGtz",
        "outputId": "a6a184e5-842b-40e6-b80c-cdf351a4c908"
      },
      "source": [
        "valid.head()"
      ],
      "execution_count": null,
      "outputs": [
        {
          "output_type": "execute_result",
          "data": {
            "text/html": [
              "<div>\n",
              "<style scoped>\n",
              "    .dataframe tbody tr th:only-of-type {\n",
              "        vertical-align: middle;\n",
              "    }\n",
              "\n",
              "    .dataframe tbody tr th {\n",
              "        vertical-align: top;\n",
              "    }\n",
              "\n",
              "    .dataframe thead th {\n",
              "        text-align: right;\n",
              "    }\n",
              "</style>\n",
              "<table border=\"1\" class=\"dataframe\">\n",
              "  <thead>\n",
              "    <tr style=\"text-align: right;\">\n",
              "      <th></th>\n",
              "      <th>-DOCSTART-</th>\n",
              "      <th>-X-</th>\n",
              "      <th>-X-.1</th>\n",
              "      <th>O</th>\n",
              "    </tr>\n",
              "  </thead>\n",
              "  <tbody>\n",
              "    <tr>\n",
              "      <th>0</th>\n",
              "      <td>CRICKET</td>\n",
              "      <td>NNP</td>\n",
              "      <td>B-NP</td>\n",
              "      <td>O</td>\n",
              "    </tr>\n",
              "    <tr>\n",
              "      <th>1</th>\n",
              "      <td>-</td>\n",
              "      <td>:</td>\n",
              "      <td>O</td>\n",
              "      <td>O</td>\n",
              "    </tr>\n",
              "    <tr>\n",
              "      <th>2</th>\n",
              "      <td>LEICESTERSHIRE</td>\n",
              "      <td>NNP</td>\n",
              "      <td>B-NP</td>\n",
              "      <td>B-ORG</td>\n",
              "    </tr>\n",
              "    <tr>\n",
              "      <th>3</th>\n",
              "      <td>TAKE</td>\n",
              "      <td>NNP</td>\n",
              "      <td>I-NP</td>\n",
              "      <td>O</td>\n",
              "    </tr>\n",
              "    <tr>\n",
              "      <th>4</th>\n",
              "      <td>OVER</td>\n",
              "      <td>IN</td>\n",
              "      <td>B-PP</td>\n",
              "      <td>O</td>\n",
              "    </tr>\n",
              "  </tbody>\n",
              "</table>\n",
              "</div>"
            ],
            "text/plain": [
              "       -DOCSTART-  -X- -X-.1      O\n",
              "0         CRICKET  NNP  B-NP      O\n",
              "1               -    :     O      O\n",
              "2  LEICESTERSHIRE  NNP  B-NP  B-ORG\n",
              "3            TAKE  NNP  I-NP      O\n",
              "4            OVER   IN  B-PP      O"
            ]
          },
          "metadata": {
            "tags": []
          },
          "execution_count": 5
        }
      ]
    },
    {
      "cell_type": "code",
      "metadata": {
        "id": "Mwn5ol_XeGt1",
        "outputId": "fc3de34b-6a41-49e3-e845-040806a139ea"
      },
      "source": [
        "len(valid)"
      ],
      "execution_count": null,
      "outputs": [
        {
          "output_type": "execute_result",
          "data": {
            "text/plain": [
              "51577"
            ]
          },
          "metadata": {
            "tags": []
          },
          "execution_count": 6
        }
      ]
    },
    {
      "cell_type": "code",
      "metadata": {
        "id": "jllg1IrheGt1",
        "outputId": "9f87e743-31ba-4b31-be35-8b45240284ab"
      },
      "source": [
        "test.head()"
      ],
      "execution_count": null,
      "outputs": [
        {
          "output_type": "execute_result",
          "data": {
            "text/html": [
              "<div>\n",
              "<style scoped>\n",
              "    .dataframe tbody tr th:only-of-type {\n",
              "        vertical-align: middle;\n",
              "    }\n",
              "\n",
              "    .dataframe tbody tr th {\n",
              "        vertical-align: top;\n",
              "    }\n",
              "\n",
              "    .dataframe thead th {\n",
              "        text-align: right;\n",
              "    }\n",
              "</style>\n",
              "<table border=\"1\" class=\"dataframe\">\n",
              "  <thead>\n",
              "    <tr style=\"text-align: right;\">\n",
              "      <th></th>\n",
              "      <th>-DOCSTART-</th>\n",
              "      <th>-X-</th>\n",
              "      <th>-X-.1</th>\n",
              "      <th>O</th>\n",
              "    </tr>\n",
              "  </thead>\n",
              "  <tbody>\n",
              "    <tr>\n",
              "      <th>0</th>\n",
              "      <td>SOCCER</td>\n",
              "      <td>NN</td>\n",
              "      <td>B-NP</td>\n",
              "      <td>O</td>\n",
              "    </tr>\n",
              "    <tr>\n",
              "      <th>1</th>\n",
              "      <td>-</td>\n",
              "      <td>:</td>\n",
              "      <td>O</td>\n",
              "      <td>O</td>\n",
              "    </tr>\n",
              "    <tr>\n",
              "      <th>2</th>\n",
              "      <td>JAPAN</td>\n",
              "      <td>NNP</td>\n",
              "      <td>B-NP</td>\n",
              "      <td>B-LOC</td>\n",
              "    </tr>\n",
              "    <tr>\n",
              "      <th>3</th>\n",
              "      <td>GET</td>\n",
              "      <td>VB</td>\n",
              "      <td>B-VP</td>\n",
              "      <td>O</td>\n",
              "    </tr>\n",
              "    <tr>\n",
              "      <th>4</th>\n",
              "      <td>LUCKY</td>\n",
              "      <td>NNP</td>\n",
              "      <td>B-NP</td>\n",
              "      <td>O</td>\n",
              "    </tr>\n",
              "  </tbody>\n",
              "</table>\n",
              "</div>"
            ],
            "text/plain": [
              "  -DOCSTART-  -X- -X-.1      O\n",
              "0     SOCCER   NN  B-NP      O\n",
              "1          -    :     O      O\n",
              "2      JAPAN  NNP  B-NP  B-LOC\n",
              "3        GET   VB  B-VP      O\n",
              "4      LUCKY  NNP  B-NP      O"
            ]
          },
          "metadata": {
            "tags": []
          },
          "execution_count": 7
        }
      ]
    },
    {
      "cell_type": "code",
      "metadata": {
        "id": "KQwsa4fyeGt2",
        "outputId": "2908632e-7057-44e5-8706-d3f10d35d2f0"
      },
      "source": [
        "len(test)"
      ],
      "execution_count": null,
      "outputs": [
        {
          "output_type": "execute_result",
          "data": {
            "text/plain": [
              "46665"
            ]
          },
          "metadata": {
            "tags": []
          },
          "execution_count": 8
        }
      ]
    },
    {
      "cell_type": "markdown",
      "metadata": {
        "id": "aM2B_wvkguIq"
      },
      "source": [
        "Filling of missing data in the datasets"
      ]
    },
    {
      "cell_type": "code",
      "metadata": {
        "id": "YsHxtTfPeGt3"
      },
      "source": [
        "t_data = train.fillna(method=\"ffill\")\n",
        "v_data = valid.fillna(method=\"ffill\")\n",
        "ts_data = test.fillna(method=\"ffill\")"
      ],
      "execution_count": null,
      "outputs": []
    },
    {
      "cell_type": "markdown",
      "metadata": {
        "id": "vaGmObZSg4C3"
      },
      "source": [
        "Printing the number of unique words and tags in the datasets"
      ]
    },
    {
      "cell_type": "code",
      "metadata": {
        "id": "MPBg9LSVeGt3",
        "outputId": "9083b019-da3d-4d9a-ff59-1d7a01f21767"
      },
      "source": [
        "print(\"Unique words in train corpus:\", t_data['-DOCSTART-'].nunique())\n",
        "print(\"Unique tags in train corpus:\", t_data['O'].nunique())\n",
        "\n",
        "print(\"Unique words in valid corpus:\", v_data['-DOCSTART-'].nunique())\n",
        "print(\"Unique tags in valid corpus:\", v_data['O'].nunique())\n",
        "\n",
        "print(\"Unique words in test corpus:\", ts_data['-DOCSTART-'].nunique())\n",
        "print(\"Unique tags in test corpus:\", ts_data['O'].nunique())"
      ],
      "execution_count": null,
      "outputs": [
        {
          "output_type": "stream",
          "text": [
            "Unique words in train corpus: 23623\n",
            "Unique tags in train corpus: 9\n",
            "Unique words in valid corpus: 9966\n",
            "Unique tags in valid corpus: 9\n",
            "Unique words in test corpus: 9489\n",
            "Unique tags in test corpus: 9\n"
          ],
          "name": "stdout"
        }
      ]
    },
    {
      "cell_type": "markdown",
      "metadata": {
        "id": "-Paayy3vhBEP"
      },
      "source": [
        "Creating the list of unique words in the datasets"
      ]
    },
    {
      "cell_type": "code",
      "metadata": {
        "id": "Kr9tD6lQeGt4"
      },
      "source": [
        "t_unique_words = list(set(t_data[\"-DOCSTART-\"].values))\n",
        "num_words_t = len(t_unique_words)\n",
        "\n",
        "v_unique_words = list(set(v_data[\"-DOCSTART-\"].values))\n",
        "num_words_v = len(v_unique_words)\n",
        "\n",
        "ts_unique_words = list(set(ts_data[\"-DOCSTART-\"].values))\n",
        "num_words_ts = len(ts_unique_words)"
      ],
      "execution_count": null,
      "outputs": []
    },
    {
      "cell_type": "markdown",
      "metadata": {
        "id": "7WyfqQuzhJX3"
      },
      "source": [
        "Creating the list of unique tags "
      ]
    },
    {
      "cell_type": "code",
      "metadata": {
        "id": "XDnt3nw1eGt5",
        "outputId": "1eda8a10-c197-4200-da66-cf11a2ebbbbe"
      },
      "source": [
        "tags = list(set(t_data[\"O\"].values))\n",
        "num_tags = len(tags)\n",
        "num_tags"
      ],
      "execution_count": null,
      "outputs": [
        {
          "output_type": "execute_result",
          "data": {
            "text/plain": [
              "9"
            ]
          },
          "metadata": {
            "tags": []
          },
          "execution_count": 12
        }
      ]
    },
    {
      "cell_type": "markdown",
      "metadata": {
        "id": "lhygUrrthQRx"
      },
      "source": [
        "Creating the lists of labels in a datasets"
      ]
    },
    {
      "cell_type": "code",
      "metadata": {
        "id": "01IYXLrueGt5"
      },
      "source": [
        "train_labels = t_data['O']\n",
        "valid_labels = v_data['O']\n",
        "test_labels=ts_data['O']"
      ],
      "execution_count": null,
      "outputs": []
    },
    {
      "cell_type": "markdown",
      "metadata": {
        "id": "pWnd8Tkhk5HI"
      },
      "source": [
        "Creating the list of words in a datasets"
      ]
    },
    {
      "cell_type": "code",
      "metadata": {
        "id": "YNEVRG0beGt5"
      },
      "source": [
        "t_listed_words = list(t_data['-DOCSTART-'].values)\n",
        "v_listed_words = list(v_data['-DOCSTART-'].values)\n",
        "ts_listed_words = list(ts_data['-DOCSTART-'].values)"
      ],
      "execution_count": null,
      "outputs": []
    },
    {
      "cell_type": "markdown",
      "metadata": {
        "id": "bzohTisvlCkp"
      },
      "source": [
        "Converting the dataframe into the list of tuples"
      ]
    },
    {
      "cell_type": "code",
      "metadata": {
        "id": "whpSv5IOeGt6"
      },
      "source": [
        "def intotuple(s):\n",
        "    tup = [(w, p, c, t) for w, p, c, t in zip(s[\"-DOCSTART-\"].values.tolist(),\n",
        "                                                           s[\"-X-\"].values.tolist(), s[\"-X-.1\"].values.tolist(),\n",
        "                                                           s[\"O\"].values.tolist())]\n",
        "    return tup"
      ],
      "execution_count": null,
      "outputs": []
    },
    {
      "cell_type": "code",
      "metadata": {
        "id": "2lJOs6Z1eGt6"
      },
      "source": [
        "train=intotuple(t_data)\n",
        "val=intotuple(v_data)\n",
        "test=intotuple(ts_data)"
      ],
      "execution_count": null,
      "outputs": []
    },
    {
      "cell_type": "markdown",
      "metadata": {
        "id": "3EHaRRAtlMQz"
      },
      "source": [
        "Creating the word2idx, idx2word,tag2idx and idx2tag to map the every  unique word to an index and to map every unique tag to an index vice versa"
      ]
    },
    {
      "cell_type": "code",
      "metadata": {
        "id": "0bz0a-ZHeGt6"
      },
      "source": [
        "word2idx = {w: i  for i, w in enumerate(t_unique_words+v_unique_words+ts_unique_words)}\n",
        "tag2idx = {t: i for i, t in enumerate(tags)}\n",
        "idx2word = {i: w for w, i in word2idx.items()}\n",
        "idx2tag = {i: w for w, i in tag2idx.items()}"
      ],
      "execution_count": null,
      "outputs": []
    },
    {
      "cell_type": "markdown",
      "metadata": {
        "id": "sCW9_oF9lTbZ"
      },
      "source": [
        "Creating the list of unique characters"
      ]
    },
    {
      "cell_type": "code",
      "metadata": {
        "id": "SXra0HhIeGt7",
        "outputId": "f3dabd4f-ea6c-4b4b-9345-0d05734dceef"
      },
      "source": [
        "chars = set([c for w in t_unique_words for c in w])\n",
        "n_chars = len(chars)\n",
        "print(n_chars)"
      ],
      "execution_count": null,
      "outputs": [
        {
          "output_type": "stream",
          "text": [
            "84\n"
          ],
          "name": "stdout"
        }
      ]
    },
    {
      "cell_type": "markdown",
      "metadata": {
        "id": "iHd2XiZFlWPZ"
      },
      "source": [
        "Creating the char2idx to map every unique character to index\n"
      ]
    },
    {
      "cell_type": "code",
      "metadata": {
        "id": "aDsu7T-xeGt7"
      },
      "source": [
        "char2idx = {c: i + 1 for i, c in enumerate(chars)}\n",
        "char2idx[\"PAD\"] = 0"
      ],
      "execution_count": null,
      "outputs": []
    },
    {
      "cell_type": "markdown",
      "metadata": {
        "id": "5jluIuuPlaj5"
      },
      "source": [
        "Plotting the length of words in training set"
      ]
    },
    {
      "cell_type": "code",
      "metadata": {
        "id": "HjB_AvRfeGt8",
        "outputId": "5c7a1f83-de68-4e98-9b1d-348990404705"
      },
      "source": [
        "plt.hist([len(w) for w in t_unique_words],bins=30)\n",
        "plt.show()"
      ],
      "execution_count": null,
      "outputs": [
        {
          "output_type": "display_data",
          "data": {
            "image/png": "[encoded data removed]",
            "text/plain": [
              "<Figure size 432x288 with 1 Axes>"
            ]
          },
          "metadata": {
            "tags": []
          }
        }
      ]
    },
    {
      "cell_type": "markdown",
      "metadata": {
        "id": "uyXIOw54llb2"
      },
      "source": [
        "Plotting the length of words in the validation set"
      ]
    },
    {
      "cell_type": "code",
      "metadata": {
        "id": "wS6FVuI8eGt8",
        "outputId": "2b985878-fc9e-484f-be3c-a73cd65bf0a3"
      },
      "source": [
        "plt.hist([len(w) for w in v_unique_words],bins=30)\n",
        "plt.show()"
      ],
      "execution_count": null,
      "outputs": [
        {
          "output_type": "display_data",
          "data": {
            "image/png": "[encoded data removed]",
            "text/plain": [
              "<Figure size 432x288 with 1 Axes>"
            ]
          },
          "metadata": {
            "tags": []
          }
        }
      ]
    },
    {
      "cell_type": "markdown",
      "metadata": {
        "id": "VV2ZBhq5lsTd"
      },
      "source": [
        "Plotting the length of words in the test set"
      ]
    },
    {
      "cell_type": "code",
      "metadata": {
        "id": "BPGlWB4beGt9",
        "outputId": "c4828ba2-313c-4509-c510-0d35f23cf80c"
      },
      "source": [
        "plt.hist([len(w) for w in ts_unique_words],bins=30)\n",
        "plt.show()"
      ],
      "execution_count": null,
      "outputs": [
        {
          "output_type": "display_data",
          "data": {
            "image/png": "[encoded data removed]",
            "text/plain": [
              "<Figure size 432x288 with 1 Axes>"
            ]
          },
          "metadata": {
            "tags": []
          }
        }
      ]
    },
    {
      "cell_type": "markdown",
      "metadata": {
        "id": "iImSSIRmlwva"
      },
      "source": [
        "Taking the maximum length of words for padding"
      ]
    },
    {
      "cell_type": "code",
      "metadata": {
        "id": "bAhVGFIseGt9"
      },
      "source": [
        "max_len_char = 20"
      ],
      "execution_count": null,
      "outputs": []
    },
    {
      "cell_type": "markdown",
      "metadata": {
        "id": "LYj4jGfOl8vq"
      },
      "source": [
        "Creating the 2-D list having mapped with indexes for every character of words in a sentences with padding"
      ]
    },
    {
      "cell_type": "code",
      "metadata": {
        "id": "w9huXm1UeGt9"
      },
      "source": [
        "def char_padding(data):\n",
        "    X_char = []\n",
        "    for i in range(len(data)):\n",
        "        for word in data[i][0]:\n",
        "            word_char=[]\n",
        "            for j in range(max_len_char):\n",
        "                try:\n",
        "                    word_char.append(char2idx.get(data[i][0][j],0))\n",
        "                except:\n",
        "                    word_char.append(char2idx.get(\"PAD\"))\n",
        "        X_char.append(np.array(word_char))\n",
        "    return X_char"
      ],
      "execution_count": null,
      "outputs": []
    },
    {
      "cell_type": "code",
      "metadata": {
        "id": "Il8N9xgieGt-"
      },
      "source": [
        "X_train_char = char_padding(train)\n",
        "X_valid_char = char_padding(val)\n",
        "X_test_char = char_padding(test)"
      ],
      "execution_count": null,
      "outputs": []
    },
    {
      "cell_type": "markdown",
      "metadata": {
        "id": "t4LZL-bMmB6y"
      },
      "source": [
        "Creating the 2-D list containing indexes for every words in the datasets and tags in the datasets"
      ]
    },
    {
      "cell_type": "code",
      "metadata": {
        "id": "HN2VPsYmeGt-"
      },
      "source": [
        "X_train = [word2idx[w[0]] for w in train]\n",
        "X_valid = [word2idx[w[0]] for w in val]\n",
        "X_test = [word2idx[w[0]] for w in test]\n",
        "\n",
        "Y_train = [[tag2idx[t]] for t in train_labels]\n",
        "Y_valid = [[tag2idx[t]] for t in valid_labels]\n",
        "Y_test = [tag2idx[t] for t in test_labels]"
      ],
      "execution_count": null,
      "outputs": []
    },
    {
      "cell_type": "markdown",
      "metadata": {
        "id": "Pg9zcdg7gFk-"
      },
      "source": [
        "# Training"
      ]
    },
    {
      "cell_type": "markdown",
      "metadata": {
        "id": "efZOxOc3mUkL"
      },
      "source": [
        "Importing the model layers"
      ]
    },
    {
      "cell_type": "code",
      "metadata": {
        "id": "0yV4m0CoeGt-"
      },
      "source": [
        "from keras.models import Model, Input\n",
        "from keras.layers import LSTM, Embedding, Dense, TimeDistributed, Dropout, Conv1D\n",
        "from keras.layers import Bidirectional, concatenate, SpatialDropout1D, GlobalMaxPooling1D"
      ],
      "execution_count": null,
      "outputs": []
    },
    {
      "cell_type": "markdown",
      "metadata": {
        "id": "fLfCFHSDmZ0c"
      },
      "source": [
        "Architecture of model"
      ]
    },
    {
      "cell_type": "code",
      "metadata": {
        "id": "_6P3XrtgeGt-",
        "outputId": "a1da09d7-0c8e-4ac6-b7db-6b7dc3745094"
      },
      "source": [
        "# Input and embedding for words\n",
        "word_in = Input(shape=(1,))\n",
        "emb_word = Embedding(input_dim=num_words_t+num_words_v+num_words_ts, output_dim=50,\n",
        "                     input_length=1)(word_in)\n",
        "\n",
        "# Input and embeddings for characters\n",
        "char_in = Input(shape=(1, max_len_char,))\n",
        "emb_char = TimeDistributed(Embedding(input_dim=n_chars + 1, output_dim=15,\n",
        "                           input_length=max_len_char, mask_zero=True))(char_in)\n",
        "# Character LSTM to get word encodings by characters\n",
        "char_enc = TimeDistributed(Bidirectional(LSTM(units=20, return_sequences=False,\n",
        "                                recurrent_dropout=0.5)))(emb_char)\n",
        "\n",
        "# Main LSTM\n",
        "x = concatenate([emb_word, char_enc])\n",
        "x = SpatialDropout1D(0.5)(x)\n",
        "main_lstm = Bidirectional(LSTM(units=100, return_sequences=True,\n",
        "                               recurrent_dropout=0.5))(x)\n",
        "dense = Dense(200,activation='relu')(main_lstm)\n",
        "dense = Dropout(0.5)(dense)\n",
        "out = TimeDistributed(Dense(num_tags, activation=\"softmax\"))(dense)\n",
        "\n",
        "model = Model([word_in, char_in], out)\n",
        "model.summary()"
      ],
      "execution_count": null,
      "outputs": [
        {
          "output_type": "stream",
          "text": [
            "Model: \"model\"\n",
            "__________________________________________________________________________________________________\n",
            "Layer (type)                    Output Shape         Param #     Connected to                     \n",
            "==================================================================================================\n",
            "input_2 (InputLayer)            [(None, 1, 20)]      0                                            \n",
            "__________________________________________________________________________________________________\n",
            "input_1 (InputLayer)            [(None, 1)]          0                                            \n",
            "__________________________________________________________________________________________________\n",
            "time_distributed (TimeDistribut (None, 1, 20, 15)    1275        input_2[0][0]                    \n",
            "__________________________________________________________________________________________________\n",
            "embedding (Embedding)           (None, 1, 50)        2153900     input_1[0][0]                    \n",
            "__________________________________________________________________________________________________\n",
            "time_distributed_1 (TimeDistrib (None, 1, 40)        5760        time_distributed[0][0]           \n",
            "__________________________________________________________________________________________________\n",
            "concatenate (Concatenate)       (None, 1, 90)        0           embedding[0][0]                  \n",
            "                                                                 time_distributed_1[0][0]         \n",
            "__________________________________________________________________________________________________\n",
            "spatial_dropout1d (SpatialDropo (None, 1, 90)        0           concatenate[0][0]                \n",
            "__________________________________________________________________________________________________\n",
            "bidirectional_1 (Bidirectional) (None, 1, 200)       152800      spatial_dropout1d[0][0]          \n",
            "__________________________________________________________________________________________________\n",
            "dense (Dense)                   (None, 1, 200)       40200       bidirectional_1[0][0]            \n",
            "__________________________________________________________________________________________________\n",
            "dropout (Dropout)               (None, 1, 200)       0           dense[0][0]                      \n",
            "__________________________________________________________________________________________________\n",
            "time_distributed_2 (TimeDistrib (None, 1, 9)         1809        dropout[0][0]                    \n",
            "==================================================================================================\n",
            "Total params: 2,355,744\n",
            "Trainable params: 2,355,744\n",
            "Non-trainable params: 0\n",
            "__________________________________________________________________________________________________\n"
          ],
          "name": "stdout"
        }
      ]
    },
    {
      "cell_type": "markdown",
      "metadata": {
        "id": "Z2cQpzcKmjpI"
      },
      "source": [
        "Compiling the model"
      ]
    },
    {
      "cell_type": "code",
      "metadata": {
        "id": "K-pyUnzDeGt_"
      },
      "source": [
        "model.compile(optimizer=\"adam\", loss=\"sparse_categorical_crossentropy\", metrics=[\"acc\"])"
      ],
      "execution_count": null,
      "outputs": []
    },
    {
      "cell_type": "code",
      "metadata": {
        "id": "4_vdTG4deGuA",
        "outputId": "f19b2c47-7ec4-4171-ce7d-bd673340a24b"
      },
      "source": [
        "pip install livelossplot"
      ],
      "execution_count": null,
      "outputs": [
        {
          "output_type": "stream",
          "text": [
            "Requirement already satisfied: livelossplot in ./.local/lib/python3.8/site-packages (0.5.4)\n",
            "Requirement already satisfied: matplotlib in ./.local/lib/python3.8/site-packages (from livelossplot) (3.3.4)\n",
            "Requirement already satisfied: ipython in /usr/local/lib/python3.8/dist-packages (from livelossplot) (7.17.0)\n",
            "Requirement already satisfied: bokeh in ./.local/lib/python3.8/site-packages (from livelossplot) (2.3.0)\n",
            "Requirement already satisfied: numpy>=1.15 in ./.local/lib/python3.8/site-packages (from matplotlib->livelossplot) (1.19.5)\n",
            "Requirement already satisfied: pillow>=6.2.0 in ./.local/lib/python3.8/site-packages (from matplotlib->livelossplot) (8.1.2)\n",
            "Requirement already satisfied: cycler>=0.10 in ./.local/lib/python3.8/site-packages (from matplotlib->livelossplot) (0.10.0)\n",
            "Requirement already satisfied: python-dateutil>=2.1 in /usr/local/lib/python3.8/dist-packages (from matplotlib->livelossplot) (2.8.1)\n",
            "Requirement already satisfied: pyparsing!=2.0.4,!=2.1.2,!=2.1.6,>=2.0.3 in /usr/local/lib/python3.8/dist-packages (from matplotlib->livelossplot) (2.4.7)\n",
            "Requirement already satisfied: kiwisolver>=1.0.1 in ./.local/lib/python3.8/site-packages (from matplotlib->livelossplot) (1.3.1)\n",
            "Requirement already satisfied: pexpect; sys_platform != \"win32\" in /usr/local/lib/python3.8/dist-packages (from ipython->livelossplot) (4.8.0)\n",
            "Requirement already satisfied: traitlets>=4.2 in /usr/local/lib/python3.8/dist-packages (from ipython->livelossplot) (4.3.3)\n",
            "Requirement already satisfied: prompt-toolkit!=3.0.0,!=3.0.1,<3.1.0,>=2.0.0 in /usr/local/lib/python3.8/dist-packages (from ipython->livelossplot) (3.0.6)\n",
            "Requirement already satisfied: backcall in /usr/local/lib/python3.8/dist-packages (from ipython->livelossplot) (0.2.0)\n",
            "Requirement already satisfied: jedi>=0.10 in /usr/local/lib/python3.8/dist-packages (from ipython->livelossplot) (0.17.2)\n",
            "Requirement already satisfied: setuptools>=18.5 in /usr/lib/python3/dist-packages (from ipython->livelossplot) (45.2.0)\n",
            "Requirement already satisfied: pickleshare in /usr/local/lib/python3.8/dist-packages (from ipython->livelossplot) (0.7.5)\n",
            "Requirement already satisfied: pygments in /usr/local/lib/python3.8/dist-packages (from ipython->livelossplot) (2.6.1)\n",
            "Requirement already satisfied: decorator in /usr/local/lib/python3.8/dist-packages (from ipython->livelossplot) (4.4.2)\n",
            "Requirement already satisfied: PyYAML>=3.10 in /usr/lib/python3/dist-packages (from bokeh->livelossplot) (5.3.1)\n",
            "Requirement already satisfied: Jinja2>=2.7 in /usr/lib/python3/dist-packages (from bokeh->livelossplot) (2.10.1)\n",
            "Requirement already satisfied: packaging>=16.8 in /usr/local/lib/python3.8/dist-packages (from bokeh->livelossplot) (20.4)\n",
            "Requirement already satisfied: tornado>=5.1 in /usr/local/lib/python3.8/dist-packages (from bokeh->livelossplot) (6.0.4)\n",
            "Requirement already satisfied: typing-extensions>=3.7.4 in ./.local/lib/python3.8/site-packages (from bokeh->livelossplot) (3.7.4.3)\n",
            "Requirement already satisfied: six in ./.local/lib/python3.8/site-packages (from cycler>=0.10->matplotlib->livelossplot) (1.15.0)\n",
            "Requirement already satisfied: ptyprocess>=0.5 in /usr/local/lib/python3.8/dist-packages (from pexpect; sys_platform != \"win32\"->ipython->livelossplot) (0.6.0)\n",
            "Requirement already satisfied: ipython-genutils in /usr/local/lib/python3.8/dist-packages (from traitlets>=4.2->ipython->livelossplot) (0.2.0)\n",
            "Requirement already satisfied: wcwidth in /usr/local/lib/python3.8/dist-packages (from prompt-toolkit!=3.0.0,!=3.0.1,<3.1.0,>=2.0.0->ipython->livelossplot) (0.2.5)\n",
            "Requirement already satisfied: parso<0.8.0,>=0.7.0 in /usr/local/lib/python3.8/dist-packages (from jedi>=0.10->ipython->livelossplot) (0.7.1)\n",
            "Note: you may need to restart the kernel to use updated packages.\n"
          ],
          "name": "stdout"
        }
      ]
    },
    {
      "cell_type": "markdown",
      "metadata": {
        "id": "DcDS4MTPmmE1"
      },
      "source": [
        "Importing the module from libraries for Checkpoints, EarlyStopping and for Plotting of acuracy and loss curve for training and validation set"
      ]
    },
    {
      "cell_type": "code",
      "metadata": {
        "id": "M5_EChZReGuA"
      },
      "source": [
        "from tensorflow.keras.callbacks import ModelCheckpoint, EarlyStopping\n",
        "from livelossplot import PlotLossesKeras"
      ],
      "execution_count": null,
      "outputs": []
    },
    {
      "cell_type": "markdown",
      "metadata": {
        "id": "EzibZAiPmtws"
      },
      "source": [
        "Training of model on training set and evaluating on validation set"
      ]
    },
    {
      "cell_type": "code",
      "metadata": {
        "id": "S3cVgHI6eGuA",
        "outputId": "e12c3d64-c3c3-4965-c232-c82ea279d41c"
      },
      "source": [
        "%%time\n",
        "\n",
        "chkpt = ModelCheckpoint(\"model_weights.h5\", monitor='val_loss',verbose=1, save_best_only=True, save_weights_only=True, mode='min')\n",
        "\n",
        "early_stopping = EarlyStopping(monitor='val_accuracy', min_delta=0, patience=1, verbose=0, mode='max', baseline=None, restore_best_weights=False)\n",
        "\n",
        "callbacks = [PlotLossesKeras(), chkpt, early_stopping]\n",
        "\n",
        "history = model.fit(\n",
        "    x=[np.array(X_train),np.array(X_train_char).reshape((len(X_train_char), 1, max_len_char))],\n",
        "    y=np.array(Y_train).reshape(len(Y_train), 1, 1),\n",
        "    validation_data=([np.array(X_valid),np.array(X_valid_char).reshape((len(X_valid_char),1, max_len_char))],\n",
        "                     np.array(Y_valid).reshape(len(Y_valid), 1, 1)),\n",
        "    batch_size=64, \n",
        "    epochs=50,\n",
        "    callbacks=[callbacks],\n",
        "    verbose=1\n",
        ")"
      ],
      "execution_count": null,
      "outputs": [
        {
          "output_type": "display_data",
          "data": {
            "image/png": "[encoded data removed]",
            "text/plain": [
              "<Figure size 864x576 with 2 Axes>"
            ]
          },
          "metadata": {
            "tags": []
          }
        },
        {
          "output_type": "stream",
          "text": [
            "Accuracy\n",
            "\ttraining         \t (min:    0.888, max:    0.972, cur:    0.972)\n",
            "\tvalidation       \t (min:    0.927, max:    0.943, cur:    0.942)\n",
            "Loss\n",
            "\ttraining         \t (min:    0.085, max:    0.349, cur:    0.085)\n",
            "\tvalidation       \t (min:    0.200, max:    0.240, cur:    0.222)\n",
            "\n",
            "Epoch 00050: val_loss did not improve from 0.19986\n",
            "WARNING:tensorflow:Early stopping conditioned on metric `val_accuracy` which is not available. Available metrics are: loss,acc,val_loss,val_acc\n",
            "CPU times: user 11h 8min 38s, sys: 1d 3h 28min 42s, total: 1d 14h 37min 21s\n",
            "Wall time: 2h 49min 11s\n"
          ],
          "name": "stdout"
        }
      ]
    },
    {
      "cell_type": "markdown",
      "metadata": {
        "id": "nvI0KXi8gSZO"
      },
      "source": [
        "# Prediction on Test Set"
      ]
    },
    {
      "cell_type": "code",
      "metadata": {
        "id": "acuuRgOneGuB",
        "outputId": "a7df2e7c-bbe6-499b-86ba-33df51c8089e"
      },
      "source": [
        "model.evaluate([np.asarray(X_test).astype('int64'),np.asarray(X_test_char).astype('int64').reshape((len(X_test_char),1, max_len_char))],np.asarray(Y_test).astype('int64').reshape(len(Y_test), 1, 1))"
      ],
      "execution_count": null,
      "outputs": [
        {
          "output_type": "stream",
          "text": [
            "1459/1459 [==============================] - 13s 9ms/step - loss: 0.3118 - acc: 0.9225\n"
          ],
          "name": "stdout"
        },
        {
          "output_type": "execute_result",
          "data": {
            "text/plain": [
              "[0.31178683042526245, 0.9224900603294373]"
            ]
          },
          "metadata": {
            "tags": []
          },
          "execution_count": 34
        }
      ]
    },
    {
      "cell_type": "markdown",
      "metadata": {
        "id": "yDpaik8zqQeW"
      },
      "source": [
        "Predicting the probabilities of tags for the test set"
      ]
    },
    {
      "cell_type": "code",
      "metadata": {
        "id": "Ox_oDqbkeGuB"
      },
      "source": [
        "y_pred = model.predict([np.asarray(X_test).astype('int64'),np.asarray(X_test_char).astype('int32').reshape((len(X_test_char),1, max_len_char))])"
      ],
      "execution_count": null,
      "outputs": []
    },
    {
      "cell_type": "markdown",
      "metadata": {
        "id": "79tJ_x2UgYom"
      },
      "source": [
        "# Performance Metrices"
      ]
    },
    {
      "cell_type": "code",
      "metadata": {
        "id": "bdiRqBRgeGuC",
        "outputId": "1c492fbe-73f1-4676-dcd6-44edd0b1592c"
      },
      "source": [
        "pip install sklearn"
      ],
      "execution_count": null,
      "outputs": [
        {
          "output_type": "stream",
          "text": [
            "Requirement already satisfied: sklearn in ./.local/lib/python3.8/site-packages (0.0)\n",
            "Requirement already satisfied: scikit-learn in ./.local/lib/python3.8/site-packages (from sklearn) (0.24.1)\n",
            "Requirement already satisfied: numpy>=1.13.3 in ./.local/lib/python3.8/site-packages (from scikit-learn->sklearn) (1.19.5)\n",
            "Requirement already satisfied: threadpoolctl>=2.0.0 in ./.local/lib/python3.8/site-packages (from scikit-learn->sklearn) (2.1.0)\n",
            "Requirement already satisfied: scipy>=0.19.1 in ./.local/lib/python3.8/site-packages (from scikit-learn->sklearn) (1.6.1)\n",
            "Requirement already satisfied: joblib>=0.11 in ./.local/lib/python3.8/site-packages (from scikit-learn->sklearn) (1.0.1)\n",
            "Note: you may need to restart the kernel to use updated packages.\n"
          ],
          "name": "stdout"
        }
      ]
    },
    {
      "cell_type": "markdown",
      "metadata": {
        "id": "Xqwgi8RcnQpe"
      },
      "source": [
        "Importing the module for metrices used for NER  "
      ]
    },
    {
      "cell_type": "code",
      "metadata": {
        "id": "n_KfRbbaeGuC"
      },
      "source": [
        "from sklearn.metrics import precision_score, recall_score, f1_score, classification_report,confusion_matrix"
      ],
      "execution_count": null,
      "outputs": []
    },
    {
      "cell_type": "markdown",
      "metadata": {
        "id": "aY0AEI43nUZy"
      },
      "source": [
        "Converting the predicted probabalities of labels into the tags"
      ]
    },
    {
      "cell_type": "code",
      "metadata": {
        "id": "B0QMXAXKeGuC"
      },
      "source": [
        "idx2tag = {i: w for w, i in tag2idx.items()}\n",
        "\n",
        "def pred2label(pred):\n",
        "    out = []\n",
        "    for pred_i in pred:\n",
        "        out_i = []\n",
        "        for p in pred_i:\n",
        "            p_i = np.argmax(p)\n",
        "            out_i.append(idx2tag[p_i].replace(\"PAD\", \"O\"))\n",
        "        out.append(out_i)\n",
        "    return out\n",
        "    "
      ],
      "execution_count": null,
      "outputs": []
    },
    {
      "cell_type": "code",
      "metadata": {
        "id": "X53uqPRweGuD"
      },
      "source": [
        "pred_labels = pred2label(y_pred)"
      ],
      "execution_count": null,
      "outputs": []
    },
    {
      "cell_type": "markdown",
      "metadata": {
        "id": "cQTLqRcMnYwu"
      },
      "source": [
        "Converting the indexed tags of true labels into tags"
      ]
    },
    {
      "cell_type": "code",
      "metadata": {
        "id": "-EjeLBsNeGuD"
      },
      "source": [
        "def true2label(true_l):\n",
        "    out = []\n",
        "    for i in true_l:\n",
        "        out.append(idx2tag[i])\n",
        "    return out"
      ],
      "execution_count": null,
      "outputs": []
    },
    {
      "cell_type": "code",
      "metadata": {
        "id": "MBX04dHueGuD"
      },
      "source": [
        "test_labels = true2label(Y_test)"
      ],
      "execution_count": null,
      "outputs": []
    },
    {
      "cell_type": "markdown",
      "metadata": {
        "id": "lIJ0H16unqUf"
      },
      "source": [
        "Calculating the F1-score for the test set"
      ]
    },
    {
      "cell_type": "code",
      "metadata": {
        "id": "bCsS3yM1eGuD",
        "outputId": "4c37febf-1838-464b-9272-b4da3215fa0b"
      },
      "source": [
        "print(\"F1-score: {:.1%}\".format(f1_score(np.asarray(test_labels).reshape(-1,1),np.asarray(pred_labels).reshape(-1,1),average='micro')))"
      ],
      "execution_count": null,
      "outputs": [
        {
          "output_type": "stream",
          "text": [
            "F1-score: 92.2%\n"
          ],
          "name": "stdout"
        }
      ]
    },
    {
      "cell_type": "markdown",
      "metadata": {
        "id": "m9KMFIvFnw5Y"
      },
      "source": [
        "Classification Report of the test set"
      ]
    },
    {
      "cell_type": "code",
      "metadata": {
        "id": "SHw67EtceGuG",
        "outputId": "b606f770-37fe-4cac-9168-b88f9759f3eb"
      },
      "source": [
        "print(classification_report(np.asarray(test_labels).reshape(-1,1),np.asarray(pred_labels).reshape(-1,1)))"
      ],
      "execution_count": null,
      "outputs": [
        {
          "output_type": "stream",
          "text": [
            "              precision    recall  f1-score   support\n",
            "\n",
            "       B-LOC       0.80      0.79      0.79      1672\n",
            "      B-MISC       0.77      0.67      0.71       706\n",
            "       B-ORG       0.80      0.52      0.63      1663\n",
            "       B-PER       0.49      0.70      0.57      1620\n",
            "       I-LOC       0.65      0.53      0.59       258\n",
            "      I-MISC       0.67      0.58      0.62       216\n",
            "       I-ORG       0.68      0.47      0.55       836\n",
            "       I-PER       0.43      0.50      0.46      1158\n",
            "           O       0.98      0.99      0.99     38536\n",
            "\n",
            "    accuracy                           0.92     46665\n",
            "   macro avg       0.70      0.64      0.66     46665\n",
            "weighted avg       0.93      0.92      0.92     46665\n",
            "\n"
          ],
          "name": "stdout"
        }
      ]
    },
    {
      "cell_type": "markdown",
      "metadata": {
        "id": "agRzimKLnzd5"
      },
      "source": [
        "Confusion matrix of test set"
      ]
    },
    {
      "cell_type": "code",
      "metadata": {
        "id": "zE2a76fseGuH",
        "outputId": "4e5d4a3b-83d2-44b0-eadd-1d1f4518a74b"
      },
      "source": [
        "print(confusion_matrix(test_labels, pred_labels))"
      ],
      "execution_count": null,
      "outputs": [
        {
          "output_type": "stream",
          "text": [
            "[[ 1315    15    73   116    11     2    16    55    69]\n",
            " [   16   471    16    60     0    10     2    40    91]\n",
            " [  205    39   868   212     7     8    56    94   174]\n",
            " [   19    10    16  1127     3     0    11   394    40]\n",
            " [   23     5     1    15   137     4    27    19    27]\n",
            " [    0    15     1    12     2   126     3    15    42]\n",
            " [   45    13    65    55    43    11   389    47   168]\n",
            " [   12     3    15   499     2     0    10   580    37]\n",
            " [   15    42    29   225     5    27    54   104 38035]]\n"
          ],
          "name": "stdout"
        }
      ]
    }
  ]
}