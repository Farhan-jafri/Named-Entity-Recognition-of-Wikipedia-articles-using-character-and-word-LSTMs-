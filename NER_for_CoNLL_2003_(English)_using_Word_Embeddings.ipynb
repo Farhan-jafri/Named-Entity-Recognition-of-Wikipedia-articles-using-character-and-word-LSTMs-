{
  "nbformat": 4,
  "nbformat_minor": 0,
  "metadata": {
    "kernelspec": {
      "display_name": "Python 3",
      "language": "python",
      "name": "python3"
    },
    "language_info": {
      "codemirror_mode": {
        "name": "ipython",
        "version": 3
      },
      "file_extension": ".py",
      "mimetype": "text/x-python",
      "name": "python",
      "nbconvert_exporter": "python",
      "pygments_lexer": "ipython3",
      "version": "3.6.12"
    },
    "colab": {
      "name": "NER for CoNLL-2003 (English) using Word Embeddings.ipynb",
      "provenance": []
    }
  },
  "cells": [
    {
      "cell_type": "markdown",
      "metadata": {
        "id": "nnY3qb3_odTV"
      },
      "source": [
        "** NAMED ENTITY RECOGNITION FOR CONLL-2003 (ENGLISH) SHARED TASK USING WORD EMBEDDINGS**"
      ]
    },
    {
      "cell_type": "markdown",
      "metadata": {
        "id": "noJFoQkdoiWl"
      },
      "source": [
        "# Importing Libraries"
      ]
    },
    {
      "cell_type": "code",
      "metadata": {
        "id": "FwsxdQocoYdA",
        "outputId": "5e9ebcb7-03cd-4641-f193-2bc55cc311b8"
      },
      "source": [
        "%matplotlib inline\n",
        "import matplotlib.pyplot as plt\n",
        "import pandas as pd\n",
        "\n",
        "import numpy as np\n",
        "np.random.seed(0)\n",
        "plt.style.use(\"ggplot\")\n",
        "import tensorflow as tf\n",
        "print('Tensorflow version:', tf.__version__)\n",
        "print('GPU detected:', tf.config.list_physical_devices('GPU'))"
      ],
      "execution_count": null,
      "outputs": [
        {
          "output_type": "stream",
          "text": [
            "Tensorflow version: 2.4.1\n",
            "GPU detected: []\n"
          ],
          "name": "stdout"
        }
      ]
    },
    {
      "cell_type": "markdown",
      "metadata": {
        "id": "ZU2jlxHiojRy"
      },
      "source": [
        "# Reading the Datasets"
      ]
    },
    {
      "cell_type": "code",
      "metadata": {
        "id": "Kybtww8XoYdG"
      },
      "source": [
        "train = pd.read_csv ('train.txt',delimiter=' ')\n",
        "train.to_csv ('new_train.csv', index=None)\n",
        "valid = pd.read_csv ('valid.txt',delimiter=' ')\n",
        "valid.to_csv ('new_valid.csv', index=None)\n",
        "test = pd.read_csv ('test.txt',delimiter=' ')\n",
        "test.to_csv ('new_test.csv', index=None)"
      ],
      "execution_count": null,
      "outputs": []
    },
    {
      "cell_type": "markdown",
      "metadata": {
        "id": "eUkEQZVgokJy"
      },
      "source": [
        "# Preprocessing of Data"
      ]
    },
    {
      "cell_type": "code",
      "metadata": {
        "id": "ElDYVBBKoYdH",
        "outputId": "71bf1e09-4bf2-48ef-fba9-f8ff8b2e7939"
      },
      "source": [
        "train.head()"
      ],
      "execution_count": null,
      "outputs": [
        {
          "output_type": "execute_result",
          "data": {
            "text/html": [
              "<div>\n",
              "<style scoped>\n",
              "    .dataframe tbody tr th:only-of-type {\n",
              "        vertical-align: middle;\n",
              "    }\n",
              "\n",
              "    .dataframe tbody tr th {\n",
              "        vertical-align: top;\n",
              "    }\n",
              "\n",
              "    .dataframe thead th {\n",
              "        text-align: right;\n",
              "    }\n",
              "</style>\n",
              "<table border=\"1\" class=\"dataframe\">\n",
              "  <thead>\n",
              "    <tr style=\"text-align: right;\">\n",
              "      <th></th>\n",
              "      <th>-DOCSTART-</th>\n",
              "      <th>-X-</th>\n",
              "      <th>-X-.1</th>\n",
              "      <th>O</th>\n",
              "    </tr>\n",
              "  </thead>\n",
              "  <tbody>\n",
              "    <tr>\n",
              "      <th>0</th>\n",
              "      <td>EU</td>\n",
              "      <td>NNP</td>\n",
              "      <td>B-NP</td>\n",
              "      <td>B-ORG</td>\n",
              "    </tr>\n",
              "    <tr>\n",
              "      <th>1</th>\n",
              "      <td>rejects</td>\n",
              "      <td>VBZ</td>\n",
              "      <td>B-VP</td>\n",
              "      <td>O</td>\n",
              "    </tr>\n",
              "    <tr>\n",
              "      <th>2</th>\n",
              "      <td>German</td>\n",
              "      <td>JJ</td>\n",
              "      <td>B-NP</td>\n",
              "      <td>B-MISC</td>\n",
              "    </tr>\n",
              "    <tr>\n",
              "      <th>3</th>\n",
              "      <td>call</td>\n",
              "      <td>NN</td>\n",
              "      <td>I-NP</td>\n",
              "      <td>O</td>\n",
              "    </tr>\n",
              "    <tr>\n",
              "      <th>4</th>\n",
              "      <td>to</td>\n",
              "      <td>TO</td>\n",
              "      <td>B-VP</td>\n",
              "      <td>O</td>\n",
              "    </tr>\n",
              "  </tbody>\n",
              "</table>\n",
              "</div>"
            ],
            "text/plain": [
              "  -DOCSTART-  -X- -X-.1       O\n",
              "0         EU  NNP  B-NP   B-ORG\n",
              "1    rejects  VBZ  B-VP       O\n",
              "2     German   JJ  B-NP  B-MISC\n",
              "3       call   NN  I-NP       O\n",
              "4         to   TO  B-VP       O"
            ]
          },
          "metadata": {
            "tags": []
          },
          "execution_count": 28
        }
      ]
    },
    {
      "cell_type": "code",
      "metadata": {
        "id": "0RuqcdLBoYdH",
        "outputId": "ad83c2fd-154b-4d03-eed3-6e3a7e1d95e2"
      },
      "source": [
        "len(train)"
      ],
      "execution_count": null,
      "outputs": [
        {
          "output_type": "execute_result",
          "data": {
            "text/plain": [
              "204566"
            ]
          },
          "metadata": {
            "tags": []
          },
          "execution_count": 29
        }
      ]
    },
    {
      "cell_type": "code",
      "metadata": {
        "id": "x_giW0WFoYdI",
        "outputId": "c899bc4b-082a-4cb7-e342-d6adc6e3da0b"
      },
      "source": [
        "valid.head()"
      ],
      "execution_count": null,
      "outputs": [
        {
          "output_type": "execute_result",
          "data": {
            "text/html": [
              "<div>\n",
              "<style scoped>\n",
              "    .dataframe tbody tr th:only-of-type {\n",
              "        vertical-align: middle;\n",
              "    }\n",
              "\n",
              "    .dataframe tbody tr th {\n",
              "        vertical-align: top;\n",
              "    }\n",
              "\n",
              "    .dataframe thead th {\n",
              "        text-align: right;\n",
              "    }\n",
              "</style>\n",
              "<table border=\"1\" class=\"dataframe\">\n",
              "  <thead>\n",
              "    <tr style=\"text-align: right;\">\n",
              "      <th></th>\n",
              "      <th>-DOCSTART-</th>\n",
              "      <th>-X-</th>\n",
              "      <th>-X-.1</th>\n",
              "      <th>O</th>\n",
              "    </tr>\n",
              "  </thead>\n",
              "  <tbody>\n",
              "    <tr>\n",
              "      <th>0</th>\n",
              "      <td>CRICKET</td>\n",
              "      <td>NNP</td>\n",
              "      <td>B-NP</td>\n",
              "      <td>O</td>\n",
              "    </tr>\n",
              "    <tr>\n",
              "      <th>1</th>\n",
              "      <td>-</td>\n",
              "      <td>:</td>\n",
              "      <td>O</td>\n",
              "      <td>O</td>\n",
              "    </tr>\n",
              "    <tr>\n",
              "      <th>2</th>\n",
              "      <td>LEICESTERSHIRE</td>\n",
              "      <td>NNP</td>\n",
              "      <td>B-NP</td>\n",
              "      <td>B-ORG</td>\n",
              "    </tr>\n",
              "    <tr>\n",
              "      <th>3</th>\n",
              "      <td>TAKE</td>\n",
              "      <td>NNP</td>\n",
              "      <td>I-NP</td>\n",
              "      <td>O</td>\n",
              "    </tr>\n",
              "    <tr>\n",
              "      <th>4</th>\n",
              "      <td>OVER</td>\n",
              "      <td>IN</td>\n",
              "      <td>B-PP</td>\n",
              "      <td>O</td>\n",
              "    </tr>\n",
              "  </tbody>\n",
              "</table>\n",
              "</div>"
            ],
            "text/plain": [
              "       -DOCSTART-  -X- -X-.1      O\n",
              "0         CRICKET  NNP  B-NP      O\n",
              "1               -    :     O      O\n",
              "2  LEICESTERSHIRE  NNP  B-NP  B-ORG\n",
              "3            TAKE  NNP  I-NP      O\n",
              "4            OVER   IN  B-PP      O"
            ]
          },
          "metadata": {
            "tags": []
          },
          "execution_count": 30
        }
      ]
    },
    {
      "cell_type": "code",
      "metadata": {
        "id": "BbgNoMuDoYdI",
        "outputId": "61827d72-8d06-4a1d-f0b8-36e64acb1fd2"
      },
      "source": [
        "len(valid)"
      ],
      "execution_count": null,
      "outputs": [
        {
          "output_type": "execute_result",
          "data": {
            "text/plain": [
              "51577"
            ]
          },
          "metadata": {
            "tags": []
          },
          "execution_count": 31
        }
      ]
    },
    {
      "cell_type": "code",
      "metadata": {
        "id": "lXZb-VFToYdI",
        "outputId": "83eaab67-0c79-4ffa-bb21-eb4679b9cf09"
      },
      "source": [
        "test.head()"
      ],
      "execution_count": null,
      "outputs": [
        {
          "output_type": "execute_result",
          "data": {
            "text/html": [
              "<div>\n",
              "<style scoped>\n",
              "    .dataframe tbody tr th:only-of-type {\n",
              "        vertical-align: middle;\n",
              "    }\n",
              "\n",
              "    .dataframe tbody tr th {\n",
              "        vertical-align: top;\n",
              "    }\n",
              "\n",
              "    .dataframe thead th {\n",
              "        text-align: right;\n",
              "    }\n",
              "</style>\n",
              "<table border=\"1\" class=\"dataframe\">\n",
              "  <thead>\n",
              "    <tr style=\"text-align: right;\">\n",
              "      <th></th>\n",
              "      <th>-DOCSTART-</th>\n",
              "      <th>-X-</th>\n",
              "      <th>-X-.1</th>\n",
              "      <th>O</th>\n",
              "    </tr>\n",
              "  </thead>\n",
              "  <tbody>\n",
              "    <tr>\n",
              "      <th>0</th>\n",
              "      <td>SOCCER</td>\n",
              "      <td>NN</td>\n",
              "      <td>B-NP</td>\n",
              "      <td>O</td>\n",
              "    </tr>\n",
              "    <tr>\n",
              "      <th>1</th>\n",
              "      <td>-</td>\n",
              "      <td>:</td>\n",
              "      <td>O</td>\n",
              "      <td>O</td>\n",
              "    </tr>\n",
              "    <tr>\n",
              "      <th>2</th>\n",
              "      <td>JAPAN</td>\n",
              "      <td>NNP</td>\n",
              "      <td>B-NP</td>\n",
              "      <td>B-LOC</td>\n",
              "    </tr>\n",
              "    <tr>\n",
              "      <th>3</th>\n",
              "      <td>GET</td>\n",
              "      <td>VB</td>\n",
              "      <td>B-VP</td>\n",
              "      <td>O</td>\n",
              "    </tr>\n",
              "    <tr>\n",
              "      <th>4</th>\n",
              "      <td>LUCKY</td>\n",
              "      <td>NNP</td>\n",
              "      <td>B-NP</td>\n",
              "      <td>O</td>\n",
              "    </tr>\n",
              "  </tbody>\n",
              "</table>\n",
              "</div>"
            ],
            "text/plain": [
              "  -DOCSTART-  -X- -X-.1      O\n",
              "0     SOCCER   NN  B-NP      O\n",
              "1          -    :     O      O\n",
              "2      JAPAN  NNP  B-NP  B-LOC\n",
              "3        GET   VB  B-VP      O\n",
              "4      LUCKY  NNP  B-NP      O"
            ]
          },
          "metadata": {
            "tags": []
          },
          "execution_count": 32
        }
      ]
    },
    {
      "cell_type": "code",
      "metadata": {
        "id": "2RJVSWFuoYdI",
        "outputId": "453692f2-d5c0-42e3-d89f-75d77e6f3783"
      },
      "source": [
        "len(test)"
      ],
      "execution_count": null,
      "outputs": [
        {
          "output_type": "execute_result",
          "data": {
            "text/plain": [
              "46665"
            ]
          },
          "metadata": {
            "tags": []
          },
          "execution_count": 33
        }
      ]
    },
    {
      "cell_type": "markdown",
      "metadata": {
        "id": "HSDTer9uo8cC"
      },
      "source": [
        "Filling of missing data in the datasets"
      ]
    },
    {
      "cell_type": "code",
      "metadata": {
        "id": "ySsLxTZFoYdJ"
      },
      "source": [
        "t_data = train.fillna(method=\"ffill\")\n",
        "v_data = valid.fillna(method=\"ffill\")\n",
        "ts_data = test.fillna(method=\"ffill\")"
      ],
      "execution_count": null,
      "outputs": []
    },
    {
      "cell_type": "markdown",
      "metadata": {
        "id": "-aICFNNupAgW"
      },
      "source": [
        "Printing the number of unique words and tags in the datasets"
      ]
    },
    {
      "cell_type": "code",
      "metadata": {
        "id": "BlHiboMwoYdJ",
        "outputId": "7f450eb3-73f0-4e7c-90ae-cc50777abcfd"
      },
      "source": [
        "print(\"Unique words in train corpus:\", t_data['-DOCSTART-'].nunique())\n",
        "print(\"Unique tags in train corpus:\", t_data['O'].nunique())\n",
        "\n",
        "print(\"Unique words in valid corpus:\", v_data['-DOCSTART-'].nunique())\n",
        "print(\"Unique tags in valid corpus:\", v_data['O'].nunique())\n",
        "\n",
        "print(\"Unique words in test corpus:\", ts_data['-DOCSTART-'].nunique())\n",
        "print(\"Unique tags in test corpus:\", ts_data['O'].nunique())"
      ],
      "execution_count": null,
      "outputs": [
        {
          "output_type": "stream",
          "text": [
            "Unique words in train corpus: 23623\n",
            "Unique tags in train corpus: 9\n",
            "Unique words in valid corpus: 9966\n",
            "Unique tags in valid corpus: 9\n",
            "Unique words in test corpus: 9489\n",
            "Unique tags in test corpus: 9\n"
          ],
          "name": "stdout"
        }
      ]
    },
    {
      "cell_type": "markdown",
      "metadata": {
        "id": "f2_cDvMEpDLz"
      },
      "source": [
        "Creating the list of unique words in the datasets"
      ]
    },
    {
      "cell_type": "code",
      "metadata": {
        "id": "G_jFp3CjoYdJ"
      },
      "source": [
        "t_unique_words = list(set(t_data[\"-DOCSTART-\"].values))\n",
        "num_words_t = len(t_unique_words)\n",
        "\n",
        "v_unique_words = list(set(v_data[\"-DOCSTART-\"].values))\n",
        "num_words_v = len(v_unique_words)\n",
        "\n",
        "ts_unique_words = list(set(ts_data[\"-DOCSTART-\"].values))\n",
        "num_words_ts = len(ts_unique_words)"
      ],
      "execution_count": null,
      "outputs": []
    },
    {
      "cell_type": "markdown",
      "metadata": {
        "id": "z9e3vc-YpFMk"
      },
      "source": [
        "Creating the list of unique tags "
      ]
    },
    {
      "cell_type": "code",
      "metadata": {
        "id": "712Vc9qDoYdK",
        "outputId": "24541102-989d-4911-9ee2-a3ed5259abeb"
      },
      "source": [
        "tags = list(set(t_data[\"O\"].values))\n",
        "num_tags = len(tags)\n",
        "num_tags"
      ],
      "execution_count": null,
      "outputs": [
        {
          "output_type": "execute_result",
          "data": {
            "text/plain": [
              "9"
            ]
          },
          "metadata": {
            "tags": []
          },
          "execution_count": 37
        }
      ]
    },
    {
      "cell_type": "markdown",
      "metadata": {
        "id": "oBUt5d5fpHMU"
      },
      "source": [
        "Creating the lists of labels in a datasets"
      ]
    },
    {
      "cell_type": "code",
      "metadata": {
        "id": "E0x67y6joYdK"
      },
      "source": [
        "train_labels = t_data['O']\n",
        "valid_labels = v_data['O']\n",
        "test_labels=ts_data['O']"
      ],
      "execution_count": null,
      "outputs": []
    },
    {
      "cell_type": "markdown",
      "metadata": {
        "id": "jmoau8ZLpJ7q"
      },
      "source": [
        "Creating the list of words in a datasets"
      ]
    },
    {
      "cell_type": "code",
      "metadata": {
        "id": "Fr74cq8MoYdK"
      },
      "source": [
        "t_listed_words = list(t_data['-DOCSTART-'].values)\n",
        "v_listed_words = list(v_data['-DOCSTART-'].values)\n",
        "ts_listed_words = list(ts_data['-DOCSTART-'].values)"
      ],
      "execution_count": null,
      "outputs": []
    },
    {
      "cell_type": "markdown",
      "metadata": {
        "id": "nksSpPvUpMLy"
      },
      "source": [
        "Converting the dataframe into the list of tuples"
      ]
    },
    {
      "cell_type": "code",
      "metadata": {
        "id": "dXVahZBuoYdK"
      },
      "source": [
        "def intotuple(s):\n",
        "    tup = [(w, p, c, t) for w, p, c, t in zip(s[\"-DOCSTART-\"].values.tolist(),\n",
        "                                                           s[\"-X-\"].values.tolist(), s[\"-X-.1\"].values.tolist(),\n",
        "                                                           s[\"O\"].values.tolist())]\n",
        "    return tup"
      ],
      "execution_count": null,
      "outputs": []
    },
    {
      "cell_type": "code",
      "metadata": {
        "id": "u77xL_bqoYdL"
      },
      "source": [
        "train=intotuple(t_data)\n",
        "val=intotuple(v_data)\n",
        "test=intotuple(ts_data)"
      ],
      "execution_count": null,
      "outputs": []
    },
    {
      "cell_type": "markdown",
      "metadata": {
        "id": "3-OveSNDpO6G"
      },
      "source": [
        "Creating the word2idx, idx2word,tag2idx and idx2tag to map the every  unique word to an index and to map every unique tag to an index vice versa"
      ]
    },
    {
      "cell_type": "code",
      "metadata": {
        "id": "ydQdr-nDoYdL"
      },
      "source": [
        "word2idx = {w: i  for i, w in enumerate(t_unique_words+v_unique_words+ts_unique_words)}\n",
        "tag2idx = {t: i for i, t in enumerate(tags)}\n",
        "idx2word = {i: w for w, i in word2idx.items()}\n",
        "idx2tag = {i: w for w, i in tag2idx.items()}"
      ],
      "execution_count": null,
      "outputs": []
    },
    {
      "cell_type": "markdown",
      "metadata": {
        "id": "GVcGwZKVptqU"
      },
      "source": [
        "Creating the 2-D list containing indexes for every words in the datasets and tags in the datasets"
      ]
    },
    {
      "cell_type": "code",
      "metadata": {
        "id": "Clal54MJoYdM"
      },
      "source": [
        "X_train = [word2idx[w[0]] for w in train]\n",
        "X_valid = [word2idx[w[0]] for w in val]\n",
        "X_test = [word2idx[w[0]] for w in test]\n",
        "\n",
        "Y_train = [[tag2idx[t]] for t in train_labels]\n",
        "Y_valid = [[tag2idx[t]] for t in valid_labels]\n",
        "Y_test = [tag2idx[t] for t in test_labels]"
      ],
      "execution_count": null,
      "outputs": []
    },
    {
      "cell_type": "markdown",
      "metadata": {
        "id": "Vs-wW6l5px8d"
      },
      "source": [
        "# Training"
      ]
    },
    {
      "cell_type": "markdown",
      "metadata": {
        "id": "iSvapRetp1Jg"
      },
      "source": [
        "Importing the model layers"
      ]
    },
    {
      "cell_type": "code",
      "metadata": {
        "id": "azjQEKCCoYdN"
      },
      "source": [
        "from keras.models import Model, Input\n",
        "from keras.layers import LSTM, Embedding, Dense, TimeDistributed, Dropout, Conv1D\n",
        "from keras.layers import Bidirectional, concatenate, SpatialDropout1D, GlobalMaxPooling1D\n"
      ],
      "execution_count": null,
      "outputs": []
    },
    {
      "cell_type": "markdown",
      "metadata": {
        "id": "VRjAVpsIp3b1"
      },
      "source": [
        "Importing the model layers"
      ]
    },
    {
      "cell_type": "code",
      "metadata": {
        "id": "TV1nDRmUoYdN",
        "outputId": "94b39710-e5aa-4521-cc9d-b35e42d36d65"
      },
      "source": [
        "# Input and embedding for words\n",
        "word_in = Input(shape=(1,))\n",
        "emb_word = Embedding(input_dim=num_words_t+num_words_v+num_words_ts, output_dim=50,\n",
        "                      input_length=1)(word_in)\n",
        "\n",
        "# Main LSTM\n",
        "x = SpatialDropout1D(0.5)(emb_word)\n",
        "main_lstm = Bidirectional(LSTM(units=100, return_sequences=True,\n",
        "                               recurrent_dropout=0.5))(x)\n",
        "main_lstm = Dense(200,activation='relu')(main_lstm)\n",
        "main_lstm = Dropout(0.5)(main_lstm)\n",
        "out = TimeDistributed(Dense(num_tags, activation=\"softmax\"))(main_lstm)\n",
        "\n",
        "model = Model([word_in], out)\n",
        "model.summary()"
      ],
      "execution_count": null,
      "outputs": [
        {
          "output_type": "stream",
          "text": [
            "Model: \"model_1\"\n",
            "_________________________________________________________________\n",
            "Layer (type)                 Output Shape              Param #   \n",
            "=================================================================\n",
            "input_2 (InputLayer)         [(None, 1)]               0         \n",
            "_________________________________________________________________\n",
            "embedding_1 (Embedding)      (None, 1, 50)             2153900   \n",
            "_________________________________________________________________\n",
            "spatial_dropout1d_1 (Spatial (None, 1, 50)             0         \n",
            "_________________________________________________________________\n",
            "bidirectional_1 (Bidirection (None, 1, 200)            120800    \n",
            "_________________________________________________________________\n",
            "dense_2 (Dense)              (None, 1, 200)            40200     \n",
            "_________________________________________________________________\n",
            "dropout_1 (Dropout)          (None, 1, 200)            0         \n",
            "_________________________________________________________________\n",
            "time_distributed_1 (TimeDist (None, 1, 9)              1809      \n",
            "=================================================================\n",
            "Total params: 2,316,709\n",
            "Trainable params: 2,316,709\n",
            "Non-trainable params: 0\n",
            "_________________________________________________________________\n"
          ],
          "name": "stdout"
        }
      ]
    },
    {
      "cell_type": "markdown",
      "metadata": {
        "id": "j6JyQQ8zp7Rt"
      },
      "source": [
        "Compiling the model"
      ]
    },
    {
      "cell_type": "code",
      "metadata": {
        "id": "7cvYn47joYdN"
      },
      "source": [
        "model.compile(optimizer=\"adam\", loss=\"sparse_categorical_crossentropy\", metrics=[\"acc\"])"
      ],
      "execution_count": null,
      "outputs": []
    },
    {
      "cell_type": "code",
      "metadata": {
        "id": "4glH6WoMoYdO",
        "outputId": "0d7d63bc-e85d-461f-e21f-4aae7481446e"
      },
      "source": [
        "pip install livelossplot"
      ],
      "execution_count": null,
      "outputs": [
        {
          "output_type": "stream",
          "text": [
            "Requirement already satisfied: livelossplot in ./.local/lib/python3.8/site-packages (0.5.4)\n",
            "Requirement already satisfied: bokeh in ./.local/lib/python3.8/site-packages (from livelossplot) (2.3.0)\n",
            "Requirement already satisfied: matplotlib in ./.local/lib/python3.8/site-packages (from livelossplot) (3.3.4)\n",
            "Requirement already satisfied: ipython in /usr/local/lib/python3.8/dist-packages (from livelossplot) (7.17.0)\n",
            "Requirement already satisfied: pillow>=7.1.0 in ./.local/lib/python3.8/site-packages (from bokeh->livelossplot) (8.1.2)\n",
            "Requirement already satisfied: PyYAML>=3.10 in /usr/lib/python3/dist-packages (from bokeh->livelossplot) (5.3.1)\n",
            "Requirement already satisfied: python-dateutil>=2.1 in /usr/local/lib/python3.8/dist-packages (from bokeh->livelossplot) (2.8.1)\n",
            "Requirement already satisfied: typing-extensions>=3.7.4 in ./.local/lib/python3.8/site-packages (from bokeh->livelossplot) (3.7.4.3)\n",
            "Requirement already satisfied: tornado>=5.1 in /usr/local/lib/python3.8/dist-packages (from bokeh->livelossplot) (6.0.4)\n",
            "Requirement already satisfied: numpy>=1.11.3 in ./.local/lib/python3.8/site-packages (from bokeh->livelossplot) (1.19.5)\n",
            "Requirement already satisfied: Jinja2>=2.7 in /usr/lib/python3/dist-packages (from bokeh->livelossplot) (2.10.1)\n",
            "Requirement already satisfied: packaging>=16.8 in /usr/local/lib/python3.8/dist-packages (from bokeh->livelossplot) (20.4)\n",
            "Requirement already satisfied: pyparsing!=2.0.4,!=2.1.2,!=2.1.6,>=2.0.3 in /usr/local/lib/python3.8/dist-packages (from matplotlib->livelossplot) (2.4.7)\n",
            "Requirement already satisfied: kiwisolver>=1.0.1 in ./.local/lib/python3.8/site-packages (from matplotlib->livelossplot) (1.3.1)\n",
            "Requirement already satisfied: cycler>=0.10 in ./.local/lib/python3.8/site-packages (from matplotlib->livelossplot) (0.10.0)\n",
            "Requirement already satisfied: backcall in /usr/local/lib/python3.8/dist-packages (from ipython->livelossplot) (0.2.0)\n",
            "Requirement already satisfied: pexpect; sys_platform != \"win32\" in /usr/local/lib/python3.8/dist-packages (from ipython->livelossplot) (4.8.0)\n",
            "Requirement already satisfied: traitlets>=4.2 in /usr/local/lib/python3.8/dist-packages (from ipython->livelossplot) (4.3.3)\n",
            "Requirement already satisfied: prompt-toolkit!=3.0.0,!=3.0.1,<3.1.0,>=2.0.0 in /usr/local/lib/python3.8/dist-packages (from ipython->livelossplot) (3.0.6)\n",
            "Requirement already satisfied: pickleshare in /usr/local/lib/python3.8/dist-packages (from ipython->livelossplot) (0.7.5)\n",
            "Requirement already satisfied: jedi>=0.10 in /usr/local/lib/python3.8/dist-packages (from ipython->livelossplot) (0.17.2)\n",
            "Requirement already satisfied: decorator in /usr/local/lib/python3.8/dist-packages (from ipython->livelossplot) (4.4.2)\n",
            "Requirement already satisfied: pygments in /usr/local/lib/python3.8/dist-packages (from ipython->livelossplot) (2.6.1)\n",
            "Requirement already satisfied: setuptools>=18.5 in /usr/lib/python3/dist-packages (from ipython->livelossplot) (45.2.0)\n",
            "Requirement already satisfied: six>=1.5 in ./.local/lib/python3.8/site-packages (from python-dateutil>=2.1->bokeh->livelossplot) (1.15.0)\n",
            "Requirement already satisfied: ptyprocess>=0.5 in /usr/local/lib/python3.8/dist-packages (from pexpect; sys_platform != \"win32\"->ipython->livelossplot) (0.6.0)\n",
            "Requirement already satisfied: ipython-genutils in /usr/local/lib/python3.8/dist-packages (from traitlets>=4.2->ipython->livelossplot) (0.2.0)\n",
            "Requirement already satisfied: wcwidth in /usr/local/lib/python3.8/dist-packages (from prompt-toolkit!=3.0.0,!=3.0.1,<3.1.0,>=2.0.0->ipython->livelossplot) (0.2.5)\n",
            "Requirement already satisfied: parso<0.8.0,>=0.7.0 in /usr/local/lib/python3.8/dist-packages (from jedi>=0.10->ipython->livelossplot) (0.7.1)\n",
            "Note: you may need to restart the kernel to use updated packages.\n"
          ],
          "name": "stdout"
        }
      ]
    },
    {
      "cell_type": "markdown",
      "metadata": {
        "id": "ocO6QJGtqAwG"
      },
      "source": [
        "Importing the module from libraries for Checkpoints, EarlyStopping and for Plotting of acuracy and loss curve for training and validation set"
      ]
    },
    {
      "cell_type": "code",
      "metadata": {
        "id": "t6swTM69oYdO"
      },
      "source": [
        "from tensorflow.keras.callbacks import ModelCheckpoint, EarlyStopping\n",
        "from livelossplot import PlotLossesKeras"
      ],
      "execution_count": null,
      "outputs": []
    },
    {
      "cell_type": "markdown",
      "metadata": {
        "id": "hpvNYKioqDgw"
      },
      "source": [
        "Training of model on training set and evaluating on validation set"
      ]
    },
    {
      "cell_type": "code",
      "metadata": {
        "id": "pBmbRLFBoYdO",
        "outputId": "4746b70b-5d2b-490e-9cfa-9927ffbc2c4f"
      },
      "source": [
        "%%time\n",
        "\n",
        "chkpt = ModelCheckpoint(\"model_weights.h5\", monitor='val_loss',verbose=1, save_best_only=True, save_weights_only=True, mode='min')\n",
        "\n",
        "early_stopping = EarlyStopping(monitor='val_accuracy', min_delta=0, patience=1, verbose=0, mode='max', baseline=None, restore_best_weights=False)\n",
        "\n",
        "callbacks = [PlotLossesKeras(), chkpt, early_stopping]\n",
        "\n",
        "history = model.fit(\n",
        "    x=np.array(X_train),\n",
        "    y=np.array(Y_train),\n",
        "    validation_data=(np.array(X_valid),\n",
        "                     np.array(Y_valid)),\n",
        "    batch_size=64, \n",
        "    epochs=50,\n",
        "    callbacks=[callbacks],\n",
        "    verbose=1\n",
        ")"
      ],
      "execution_count": null,
      "outputs": [
        {
          "output_type": "display_data",
          "data": {
            "image/png": "[encoded data removed]",
            "text/plain": [
              "<Figure size 864x576 with 2 Axes>"
            ]
          },
          "metadata": {
            "tags": []
          }
        },
        {
          "output_type": "stream",
          "text": [
            "Accuracy\n",
            "\ttraining         \t (min:    0.872, max:    0.973, cur:    0.972)\n",
            "\tvalidation       \t (min:    0.896, max:    0.936, cur:    0.935)\n",
            "Loss\n",
            "\ttraining         \t (min:    0.085, max:    0.437, cur:    0.086)\n",
            "\tvalidation       \t (min:    0.267, max:    0.404, cur:    0.278)\n",
            "\n",
            "Epoch 00050: val_loss did not improve from 0.26676\n",
            "WARNING:tensorflow:Early stopping conditioned on metric `val_accuracy` which is not available. Available metrics are: loss,acc,val_loss,val_acc\n",
            "CPU times: user 3h 43min 45s, sys: 11h 42min 40s, total: 15h 26min 25s\n",
            "Wall time: 2h 24min 3s\n"
          ],
          "name": "stdout"
        }
      ]
    },
    {
      "cell_type": "markdown",
      "metadata": {
        "id": "JSD0CoeMqIzB"
      },
      "source": [
        "# Prediction on Test Set"
      ]
    },
    {
      "cell_type": "markdown",
      "metadata": {
        "id": "bi3Or-4IqMad"
      },
      "source": [
        "Predicting the probabilities of tags for the test set"
      ]
    },
    {
      "cell_type": "code",
      "metadata": {
        "id": "EhJABw4foYdO"
      },
      "source": [
        "y_pred = model.predict(np.asarray(X_test).astype('int64'))"
      ],
      "execution_count": null,
      "outputs": []
    },
    {
      "cell_type": "markdown",
      "metadata": {
        "id": "WVkbaxCWqVxA"
      },
      "source": [
        "# Performance Metrices"
      ]
    },
    {
      "cell_type": "markdown",
      "metadata": {
        "id": "Ax-wu9EMqSm-"
      },
      "source": [
        "Importing the module for metrices used for NER  "
      ]
    },
    {
      "cell_type": "code",
      "metadata": {
        "id": "4JpjfUAGoYdO"
      },
      "source": [
        "from sklearn.metrics import precision_score, recall_score, f1_score, classification_report,confusion_matrix"
      ],
      "execution_count": null,
      "outputs": []
    },
    {
      "cell_type": "markdown",
      "metadata": {
        "id": "M2TggtECqZ5O"
      },
      "source": [
        "Converting the predicted probabalities of labels into the tags"
      ]
    },
    {
      "cell_type": "code",
      "metadata": {
        "id": "_OObRFT0oYdP"
      },
      "source": [
        "idx2tag = {i: w for w, i in tag2idx.items()}\n",
        "\n",
        "def pred2label(pred):\n",
        "    out = []\n",
        "    for pred_i in pred:\n",
        "        out_i = []\n",
        "        for p in pred_i:\n",
        "            p_i = np.argmax(p)\n",
        "            out_i.append(idx2tag[p_i].replace(\"PAD\", \"O\"))\n",
        "        out.append(out_i)\n",
        "    return out"
      ],
      "execution_count": null,
      "outputs": []
    },
    {
      "cell_type": "code",
      "metadata": {
        "id": "7-DXqApzoYdP"
      },
      "source": [
        "pred_labels = pred2label(y_pred)"
      ],
      "execution_count": null,
      "outputs": []
    },
    {
      "cell_type": "markdown",
      "metadata": {
        "id": "g5JPRn6NqdKR"
      },
      "source": [
        "Converting the indexed tags of true labels into tags"
      ]
    },
    {
      "cell_type": "code",
      "metadata": {
        "id": "FtF8ustFoYdP"
      },
      "source": [
        "def true2label(true_l):\n",
        "    out = []\n",
        "    for i in true_l:\n",
        "        out.append(idx2tag[i])\n",
        "    return out"
      ],
      "execution_count": null,
      "outputs": []
    },
    {
      "cell_type": "code",
      "metadata": {
        "id": "cn1_QJ3LoYdP"
      },
      "source": [
        "test_labels = true2label(Y_test)"
      ],
      "execution_count": null,
      "outputs": []
    },
    {
      "cell_type": "markdown",
      "metadata": {
        "id": "V3M8C07YqfZX"
      },
      "source": [
        "Calculating the F1-score for the test set"
      ]
    },
    {
      "cell_type": "code",
      "metadata": {
        "id": "HIW-wFSaoYdP",
        "outputId": "c754c9ac-2bcb-4483-e4ff-6c2f9aaa4f5f"
      },
      "source": [
        "print(\"F1-score: {:.1%}\".format(f1_score(np.asarray(test_labels).reshape(-1,1),np.asarray(pred_labels).reshape(-1,1),average='micro')))"
      ],
      "execution_count": null,
      "outputs": [
        {
          "output_type": "stream",
          "text": [
            "F1-score: 91.3%\n"
          ],
          "name": "stdout"
        }
      ]
    },
    {
      "cell_type": "markdown",
      "metadata": {
        "id": "ZqIKHyIIqite"
      },
      "source": [
        "Classification Report of the test set"
      ]
    },
    {
      "cell_type": "code",
      "metadata": {
        "id": "ND11MV63oYdP",
        "outputId": "d9c2171b-66f0-46a1-dcac-74cd17ff5034"
      },
      "source": [
        "print(classification_report(np.asarray(test_labels).reshape(-1,1),np.asarray(pred_labels).reshape(-1,1)))"
      ],
      "execution_count": null,
      "outputs": [
        {
          "output_type": "stream",
          "text": [
            "              precision    recall  f1-score   support\n",
            "\n",
            "       B-LOC       0.79      0.79      0.79      1672\n",
            "      B-MISC       0.76      0.67      0.71       706\n",
            "       B-ORG       0.82      0.50      0.62      1663\n",
            "       B-PER       0.86      0.44      0.58      1620\n",
            "       I-LOC       0.60      0.54      0.57       258\n",
            "      I-MISC       0.71      0.56      0.62       216\n",
            "       I-ORG       0.72      0.45      0.56       836\n",
            "       I-PER       0.59      0.20      0.29      1158\n",
            "           O       0.93      1.00      0.96     38536\n",
            "\n",
            "    accuracy                           0.91     46665\n",
            "   macro avg       0.75      0.57      0.63     46665\n",
            "weighted avg       0.90      0.91      0.90     46665\n",
            "\n"
          ],
          "name": "stdout"
        }
      ]
    },
    {
      "cell_type": "markdown",
      "metadata": {
        "id": "kNpDPF_Uqlq_"
      },
      "source": [
        "Confusion matrix of the test set"
      ]
    },
    {
      "cell_type": "code",
      "metadata": {
        "id": "jukbESPvoYdQ",
        "outputId": "9fc9111b-870d-4776-f272-5de5e394b78e"
      },
      "source": [
        "print(confusion_matrix(test_labels, pred_labels))"
      ],
      "execution_count": null,
      "outputs": [
        {
          "output_type": "stream",
          "text": [
            "[[ 1318    15    62     3    20     2    15     4   233]\n",
            " [   14   475    16     2     2     5     3     7   182]\n",
            " [  219    44   826    14    11     7    57     5   480]\n",
            " [   19    10    15   717     3     0     3   127   726]\n",
            " [   23     7     1     2   140     1    24     1    59]\n",
            " [    0    18     0     0     2   120     3     1    72]\n",
            " [   48    14    50     1    46     8   379    10   280]\n",
            " [   12     3    13    91     2     0     9   227   801]\n",
            " [   12    39    22     5     9    27    36     6 38380]]\n"
          ],
          "name": "stdout"
        }
      ]
    }
  ]
}